{
 "cells": [
  {
   "attachments": {},
   "cell_type": "markdown",
   "metadata": {},
   "source": [
    "1) Use map to double each element in a list of numbers.\n",
    "Use filter to select only the odd numbers from a list of integers."
   ]
  },
  {
   "cell_type": "code",
   "execution_count": 1,
   "metadata": {},
   "outputs": [
    {
     "data": {
      "text/plain": [
       "[3, 35, 46, 51, 2, 16, 15, 76, 79, 6, 75, 66, 5, 29, 28, 37, 59, 86, 68, 10]"
      ]
     },
     "execution_count": 1,
     "metadata": {},
     "output_type": "execute_result"
    }
   ],
   "source": [
    "import random\n",
    "nums = random.sample(range(1, 100), 20)\n",
    "nums"
   ]
  },
  {
   "cell_type": "code",
   "execution_count": 2,
   "metadata": {},
   "outputs": [
    {
     "name": "stdout",
     "output_type": "stream",
     "text": [
      "[6, 70, 92, 102, 4, 32, 30, 152, 158, 12, 150, 132, 10, 58, 56, 74, 118, 172, 136, 20]\n"
     ]
    }
   ],
   "source": [
    "def double(x):\n",
    "    return 2 * x\n",
    "\n",
    "result = map(double, nums)\n",
    "doubled_numbers = list(result)\n",
    "print(doubled_numbers)"
   ]
  },
  {
   "cell_type": "code",
   "execution_count": 3,
   "metadata": {},
   "outputs": [
    {
     "name": "stdout",
     "output_type": "stream",
     "text": [
      "[3, 35, 51, 15, 79, 75, 5, 29, 37, 59]\n"
     ]
    }
   ],
   "source": [
    "odd_numbers = list(filter(lambda num: num % 2 != 0, nums))\n",
    "print(odd_numbers) "
   ]
  },
  {
   "attachments": {},
   "cell_type": "markdown",
   "metadata": {},
   "source": [
    "2) Read a CSV file into a pandas DataFrame and display the first few rows.\n",
    "Group a DataFrame by a specific column and calculate the average of another column.\n",
    "Merge two DataFrames based on a common column."
   ]
  },
  {
   "cell_type": "code",
   "execution_count": 4,
   "metadata": {},
   "outputs": [],
   "source": [
    "import pandas as pd\n",
    "# from https://catalog.data.gov/dataset/real-estate-sales-2001-2018\n",
    "real_estate_data = pd.read_csv('Real_Estate_Sales_2001-2020_GL.csv')"
   ]
  },
  {
   "cell_type": "code",
   "execution_count": 5,
   "metadata": {},
   "outputs": [
    {
     "data": {
      "text/plain": [
       "(133385, 14)"
      ]
     },
     "execution_count": 5,
     "metadata": {},
     "output_type": "execute_result"
    }
   ],
   "source": [
    "real_estate_data.shape"
   ]
  },
  {
   "cell_type": "code",
   "execution_count": 6,
   "metadata": {},
   "outputs": [],
   "source": [
    "real_estate_data_2020 = real_estate_data[real_estate_data['List Year']==2020]"
   ]
  },
  {
   "cell_type": "code",
   "execution_count": 7,
   "metadata": {},
   "outputs": [
    {
     "data": {
      "text/plain": [
       "(58954, 14)"
      ]
     },
     "execution_count": 7,
     "metadata": {},
     "output_type": "execute_result"
    }
   ],
   "source": [
    "real_estate_data_2020.shape"
   ]
  },
  {
   "cell_type": "code",
   "execution_count": 8,
   "metadata": {},
   "outputs": [
    {
     "data": {
      "text/html": [
       "<div>\n",
       "<style scoped>\n",
       "    .dataframe tbody tr th:only-of-type {\n",
       "        vertical-align: middle;\n",
       "    }\n",
       "\n",
       "    .dataframe tbody tr th {\n",
       "        vertical-align: top;\n",
       "    }\n",
       "\n",
       "    .dataframe thead th {\n",
       "        text-align: right;\n",
       "    }\n",
       "</style>\n",
       "<table border=\"1\" class=\"dataframe\">\n",
       "  <thead>\n",
       "    <tr style=\"text-align: right;\">\n",
       "      <th></th>\n",
       "      <th>Serial Number</th>\n",
       "      <th>List Year</th>\n",
       "      <th>Date Recorded</th>\n",
       "      <th>Town</th>\n",
       "      <th>Address</th>\n",
       "      <th>Assessed Value</th>\n",
       "      <th>Sale Amount</th>\n",
       "      <th>Sales Ratio</th>\n",
       "      <th>Property Type</th>\n",
       "      <th>Residential Type</th>\n",
       "      <th>Non Use Code</th>\n",
       "      <th>Assessor Remarks</th>\n",
       "      <th>OPM remarks</th>\n",
       "      <th>Location</th>\n",
       "    </tr>\n",
       "  </thead>\n",
       "  <tbody>\n",
       "    <tr>\n",
       "      <th>66592</th>\n",
       "      <td>19000104</td>\n",
       "      <td>2019</td>\n",
       "      <td>12/19/2019</td>\n",
       "      <td>Cheshire</td>\n",
       "      <td>325 SANDBANK RD UB3</td>\n",
       "      <td>78680</td>\n",
       "      <td>145000.0</td>\n",
       "      <td>0.5426</td>\n",
       "      <td>NaN</td>\n",
       "      <td>NaN</td>\n",
       "      <td>NaN</td>\n",
       "      <td>NaN</td>\n",
       "      <td>NaN</td>\n",
       "      <td>NaN</td>\n",
       "    </tr>\n",
       "    <tr>\n",
       "      <th>66593</th>\n",
       "      <td>190622</td>\n",
       "      <td>2019</td>\n",
       "      <td>12/04/2019</td>\n",
       "      <td>Griswold</td>\n",
       "      <td>35 RUSSELL ST UNIT 30</td>\n",
       "      <td>47880</td>\n",
       "      <td>51700.0</td>\n",
       "      <td>0.9261</td>\n",
       "      <td>Condo</td>\n",
       "      <td>Condo</td>\n",
       "      <td>NaN</td>\n",
       "      <td>NaN</td>\n",
       "      <td>NaN</td>\n",
       "      <td>NaN</td>\n",
       "    </tr>\n",
       "    <tr>\n",
       "      <th>66594</th>\n",
       "      <td>190534</td>\n",
       "      <td>2019</td>\n",
       "      <td>08/27/2020</td>\n",
       "      <td>Groton</td>\n",
       "      <td>31 CHASE OAKS CT S24</td>\n",
       "      <td>72940</td>\n",
       "      <td>120000.0</td>\n",
       "      <td>0.6078</td>\n",
       "      <td>Condo</td>\n",
       "      <td>Condo</td>\n",
       "      <td>NaN</td>\n",
       "      <td>NaN</td>\n",
       "      <td>NaN</td>\n",
       "      <td>NaN</td>\n",
       "    </tr>\n",
       "    <tr>\n",
       "      <th>66595</th>\n",
       "      <td>190360</td>\n",
       "      <td>2019</td>\n",
       "      <td>08/04/2020</td>\n",
       "      <td>East Lyme</td>\n",
       "      <td>5 SPINNAKER DR</td>\n",
       "      <td>285460</td>\n",
       "      <td>432500.0</td>\n",
       "      <td>0.6600</td>\n",
       "      <td>Condo</td>\n",
       "      <td>Condo</td>\n",
       "      <td>NaN</td>\n",
       "      <td>NaN</td>\n",
       "      <td>NaN</td>\n",
       "      <td>NaN</td>\n",
       "    </tr>\n",
       "    <tr>\n",
       "      <th>66596</th>\n",
       "      <td>190457</td>\n",
       "      <td>2019</td>\n",
       "      <td>04/13/2020</td>\n",
       "      <td>Hamden</td>\n",
       "      <td>2584 DIXWELL AVE</td>\n",
       "      <td>531370</td>\n",
       "      <td>1190000.0</td>\n",
       "      <td>0.4465</td>\n",
       "      <td>NaN</td>\n",
       "      <td>NaN</td>\n",
       "      <td>NaN</td>\n",
       "      <td>NaN</td>\n",
       "      <td>NaN</td>\n",
       "      <td>NaN</td>\n",
       "    </tr>\n",
       "    <tr>\n",
       "      <th>66597</th>\n",
       "      <td>190943</td>\n",
       "      <td>2019</td>\n",
       "      <td>08/04/2020</td>\n",
       "      <td>Danbury</td>\n",
       "      <td>2 JUDITH DR</td>\n",
       "      <td>294100</td>\n",
       "      <td>440000.0</td>\n",
       "      <td>0.6684</td>\n",
       "      <td>Condo</td>\n",
       "      <td>Condo</td>\n",
       "      <td>NaN</td>\n",
       "      <td>D08042</td>\n",
       "      <td>NaN</td>\n",
       "      <td>NaN</td>\n",
       "    </tr>\n",
       "    <tr>\n",
       "      <th>66598</th>\n",
       "      <td>19729</td>\n",
       "      <td>2019</td>\n",
       "      <td>07/20/2020</td>\n",
       "      <td>Hartford</td>\n",
       "      <td>271 WASHINGTON ST</td>\n",
       "      <td>245210</td>\n",
       "      <td>401670.0</td>\n",
       "      <td>0.6105</td>\n",
       "      <td>NaN</td>\n",
       "      <td>NaN</td>\n",
       "      <td>NaN</td>\n",
       "      <td>NaN</td>\n",
       "      <td>NaN</td>\n",
       "      <td>NaN</td>\n",
       "    </tr>\n",
       "    <tr>\n",
       "      <th>66599</th>\n",
       "      <td>190979</td>\n",
       "      <td>2019</td>\n",
       "      <td>08/31/2020</td>\n",
       "      <td>Bristol</td>\n",
       "      <td>888 FARMINGTON AVE</td>\n",
       "      <td>445060</td>\n",
       "      <td>670000.0</td>\n",
       "      <td>0.6643</td>\n",
       "      <td>NaN</td>\n",
       "      <td>NaN</td>\n",
       "      <td>NaN</td>\n",
       "      <td>NaN</td>\n",
       "      <td>NaN</td>\n",
       "      <td>NaN</td>\n",
       "    </tr>\n",
       "  </tbody>\n",
       "</table>\n",
       "</div>"
      ],
      "text/plain": [
       "       Serial Number  List Year Date Recorded       Town  \\\n",
       "66592       19000104       2019    12/19/2019   Cheshire   \n",
       "66593         190622       2019    12/04/2019   Griswold   \n",
       "66594         190534       2019    08/27/2020     Groton   \n",
       "66595         190360       2019    08/04/2020  East Lyme   \n",
       "66596         190457       2019    04/13/2020     Hamden   \n",
       "66597         190943       2019    08/04/2020    Danbury   \n",
       "66598          19729       2019    07/20/2020   Hartford   \n",
       "66599         190979       2019    08/31/2020    Bristol   \n",
       "\n",
       "                     Address  Assessed Value  Sale Amount  Sales Ratio  \\\n",
       "66592    325 SANDBANK RD UB3           78680     145000.0       0.5426   \n",
       "66593  35 RUSSELL ST UNIT 30           47880      51700.0       0.9261   \n",
       "66594   31 CHASE OAKS CT S24           72940     120000.0       0.6078   \n",
       "66595         5 SPINNAKER DR          285460     432500.0       0.6600   \n",
       "66596       2584 DIXWELL AVE          531370    1190000.0       0.4465   \n",
       "66597            2 JUDITH DR          294100     440000.0       0.6684   \n",
       "66598      271 WASHINGTON ST          245210     401670.0       0.6105   \n",
       "66599     888 FARMINGTON AVE          445060     670000.0       0.6643   \n",
       "\n",
       "      Property Type Residential Type Non Use Code Assessor Remarks  \\\n",
       "66592           NaN              NaN          NaN              NaN   \n",
       "66593         Condo            Condo          NaN              NaN   \n",
       "66594         Condo            Condo          NaN              NaN   \n",
       "66595         Condo            Condo          NaN              NaN   \n",
       "66596           NaN              NaN          NaN              NaN   \n",
       "66597         Condo            Condo          NaN           D08042   \n",
       "66598           NaN              NaN          NaN              NaN   \n",
       "66599           NaN              NaN          NaN              NaN   \n",
       "\n",
       "      OPM remarks Location  \n",
       "66592         NaN      NaN  \n",
       "66593         NaN      NaN  \n",
       "66594         NaN      NaN  \n",
       "66595         NaN      NaN  \n",
       "66596         NaN      NaN  \n",
       "66597         NaN      NaN  \n",
       "66598         NaN      NaN  \n",
       "66599         NaN      NaN  "
      ]
     },
     "execution_count": 8,
     "metadata": {},
     "output_type": "execute_result"
    }
   ],
   "source": [
    "real_estate_data_2020.head(8)"
   ]
  },
  {
   "cell_type": "code",
   "execution_count": 9,
   "metadata": {},
   "outputs": [
    {
     "data": {
      "text/plain": [
       "Town\n",
       "Greenwich      2,125,861.84\n",
       "Darien         1,561,631.18\n",
       "Westport       1,462,921.34\n",
       "New Canaan     1,403,351.66\n",
       "Norwalk        1,041,758.07\n",
       "                   ...     \n",
       "North Canaan     179,220.00\n",
       "Norwich          177,152.85\n",
       "Sprague          173,180.36\n",
       "Hampton          169,115.22\n",
       "Stafford         158,326.50\n",
       "Name: Sale Amount, Length: 158, dtype: float64"
      ]
     },
     "execution_count": 9,
     "metadata": {},
     "output_type": "execute_result"
    }
   ],
   "source": [
    "pd.options.display.float_format = '{:,.2f}'.format\n",
    "real_estate_data_2020_by_town = real_estate_data_2020.groupby(['Town'])['Sale Amount'].mean().sort_values(ascending=False)\n",
    "real_estate_data_2020_by_town"
   ]
  },
  {
   "cell_type": "code",
   "execution_count": 10,
   "metadata": {},
   "outputs": [],
   "source": [
    "# from https://ephtracking.cdc.gov/DataExplorer/\n",
    "# Air Quality Index (AQI) for fine particle pollution (PM2.5)\n",
    "air_quality_data = pd.read_csv('data_062155.csv', encoding= 'unicode_escape')"
   ]
  },
  {
   "cell_type": "code",
   "execution_count": 11,
   "metadata": {},
   "outputs": [
    {
     "data": {
      "text/plain": [
       "(478632, 11)"
      ]
     },
     "execution_count": 11,
     "metadata": {},
     "output_type": "execute_result"
    }
   ],
   "source": [
    "air_quality_data.shape"
   ]
  },
  {
   "cell_type": "code",
   "execution_count": 12,
   "metadata": {},
   "outputs": [
    {
     "data": {
      "text/html": [
       "<div>\n",
       "<style scoped>\n",
       "    .dataframe tbody tr th:only-of-type {\n",
       "        vertical-align: middle;\n",
       "    }\n",
       "\n",
       "    .dataframe tbody tr th {\n",
       "        vertical-align: top;\n",
       "    }\n",
       "\n",
       "    .dataframe thead th {\n",
       "        text-align: right;\n",
       "    }\n",
       "</style>\n",
       "<table border=\"1\" class=\"dataframe\">\n",
       "  <thead>\n",
       "    <tr style=\"text-align: right;\">\n",
       "      <th></th>\n",
       "      <th>StateFIPS</th>\n",
       "      <th>State</th>\n",
       "      <th>CountyFIPS</th>\n",
       "      <th>Location</th>\n",
       "      <th>Year</th>\n",
       "      <th>Date</th>\n",
       "      <th>Value</th>\n",
       "      <th>Data Comment</th>\n",
       "      <th>AQI Category</th>\n",
       "      <th>Concentration (µg/m³)</th>\n",
       "      <th>Data Source</th>\n",
       "    </tr>\n",
       "  </thead>\n",
       "  <tbody>\n",
       "    <tr>\n",
       "      <th>0</th>\n",
       "      <td>1</td>\n",
       "      <td>Alabama</td>\n",
       "      <td>1001</td>\n",
       "      <td>Autauga</td>\n",
       "      <td>2023</td>\n",
       "      <td>03/04/2023</td>\n",
       "      <td>1</td>\n",
       "      <td>NaN</td>\n",
       "      <td>Good (1)</td>\n",
       "      <td>9.40</td>\n",
       "      <td>EPA AirNow Contours [research-grade]</td>\n",
       "    </tr>\n",
       "    <tr>\n",
       "      <th>1</th>\n",
       "      <td>1</td>\n",
       "      <td>Alabama</td>\n",
       "      <td>1001</td>\n",
       "      <td>Autauga</td>\n",
       "      <td>2023</td>\n",
       "      <td>05/04/2023</td>\n",
       "      <td>1</td>\n",
       "      <td>NaN</td>\n",
       "      <td>Good (1)</td>\n",
       "      <td>10.30</td>\n",
       "      <td>EPA AirNow Contours [research-grade]</td>\n",
       "    </tr>\n",
       "    <tr>\n",
       "      <th>2</th>\n",
       "      <td>1</td>\n",
       "      <td>Alabama</td>\n",
       "      <td>1001</td>\n",
       "      <td>Autauga</td>\n",
       "      <td>2023</td>\n",
       "      <td>10/04/2023</td>\n",
       "      <td>1</td>\n",
       "      <td>NaN</td>\n",
       "      <td>Good (1)</td>\n",
       "      <td>8.40</td>\n",
       "      <td>EPA AirNow Contours [research-grade]</td>\n",
       "    </tr>\n",
       "    <tr>\n",
       "      <th>3</th>\n",
       "      <td>1</td>\n",
       "      <td>Alabama</td>\n",
       "      <td>1001</td>\n",
       "      <td>Autauga</td>\n",
       "      <td>2023</td>\n",
       "      <td>12/04/2023</td>\n",
       "      <td>2</td>\n",
       "      <td>NaN</td>\n",
       "      <td>Moderate (2)</td>\n",
       "      <td>19.20</td>\n",
       "      <td>EPA AirNow Contours [research-grade]</td>\n",
       "    </tr>\n",
       "    <tr>\n",
       "      <th>4</th>\n",
       "      <td>1</td>\n",
       "      <td>Alabama</td>\n",
       "      <td>1001</td>\n",
       "      <td>Autauga</td>\n",
       "      <td>2023</td>\n",
       "      <td>03/05/2023</td>\n",
       "      <td>1</td>\n",
       "      <td>NaN</td>\n",
       "      <td>Good (1)</td>\n",
       "      <td>7.70</td>\n",
       "      <td>EPA AirNow Contours [research-grade]</td>\n",
       "    </tr>\n",
       "  </tbody>\n",
       "</table>\n",
       "</div>"
      ],
      "text/plain": [
       "   StateFIPS    State  CountyFIPS Location  Year        Date Value  \\\n",
       "0          1  Alabama        1001  Autauga  2023  03/04/2023     1   \n",
       "1          1  Alabama        1001  Autauga  2023  05/04/2023     1   \n",
       "2          1  Alabama        1001  Autauga  2023  10/04/2023     1   \n",
       "3          1  Alabama        1001  Autauga  2023  12/04/2023     2   \n",
       "4          1  Alabama        1001  Autauga  2023  03/05/2023     1   \n",
       "\n",
       "   Data Comment  AQI Category  Concentration (µg/m³)  \\\n",
       "0           NaN      Good (1)                   9.40   \n",
       "1           NaN      Good (1)                  10.30   \n",
       "2           NaN      Good (1)                   8.40   \n",
       "3           NaN  Moderate (2)                  19.20   \n",
       "4           NaN      Good (1)                   7.70   \n",
       "\n",
       "                            Data Source  \n",
       "0  EPA AirNow Contours [research-grade]  \n",
       "1  EPA AirNow Contours [research-grade]  \n",
       "2  EPA AirNow Contours [research-grade]  \n",
       "3  EPA AirNow Contours [research-grade]  \n",
       "4  EPA AirNow Contours [research-grade]  "
      ]
     },
     "execution_count": 12,
     "metadata": {},
     "output_type": "execute_result"
    }
   ],
   "source": [
    "air_quality_data.head()"
   ]
  },
  {
   "cell_type": "code",
   "execution_count": 13,
   "metadata": {},
   "outputs": [],
   "source": [
    "air_quality_data.rename(columns = {'Location':'Town'}, inplace = True)"
   ]
  },
  {
   "cell_type": "code",
   "execution_count": 14,
   "metadata": {},
   "outputs": [],
   "source": [
    "air_quality_data_by_town = air_quality_data.groupby(['Town'])['Concentration (µg/m³)'].mean().sort_values(ascending=False)"
   ]
  },
  {
   "cell_type": "code",
   "execution_count": 15,
   "metadata": {},
   "outputs": [
    {
     "data": {
      "text/plain": [
       "(1921, 2)"
      ]
     },
     "execution_count": 15,
     "metadata": {},
     "output_type": "execute_result"
    }
   ],
   "source": [
    "merged = pd.merge(real_estate_data_2020_by_town, air_quality_data_by_town, how=\"outer\", on=[\"Town\"])\n",
    "merged.shape"
   ]
  },
  {
   "cell_type": "code",
   "execution_count": 16,
   "metadata": {},
   "outputs": [
    {
     "name": "stderr",
     "output_type": "stream",
     "text": [
      "C:\\Users\\dovil\\AppData\\Local\\Temp\\ipykernel_10256\\1161668436.py:1: UserWarning: Boolean Series key will be reindexed to match DataFrame index.\n",
      "  outer_merged2 = merged[merged['Concentration (µg/m³)']>0][merged['Sale Amount']>0]\n"
     ]
    },
    {
     "data": {
      "text/html": [
       "<div>\n",
       "<style scoped>\n",
       "    .dataframe tbody tr th:only-of-type {\n",
       "        vertical-align: middle;\n",
       "    }\n",
       "\n",
       "    .dataframe tbody tr th {\n",
       "        vertical-align: top;\n",
       "    }\n",
       "\n",
       "    .dataframe thead th {\n",
       "        text-align: right;\n",
       "    }\n",
       "</style>\n",
       "<table border=\"1\" class=\"dataframe\">\n",
       "  <thead>\n",
       "    <tr style=\"text-align: right;\">\n",
       "      <th></th>\n",
       "      <th>Sale Amount</th>\n",
       "      <th>Concentration (µg/m³)</th>\n",
       "    </tr>\n",
       "    <tr>\n",
       "      <th>Town</th>\n",
       "      <th></th>\n",
       "      <th></th>\n",
       "    </tr>\n",
       "  </thead>\n",
       "  <tbody>\n",
       "    <tr>\n",
       "      <th>Washington</th>\n",
       "      <td>952,532.14</td>\n",
       "      <td>9.22</td>\n",
       "    </tr>\n",
       "    <tr>\n",
       "      <th>Warren</th>\n",
       "      <td>843,244.44</td>\n",
       "      <td>10.10</td>\n",
       "    </tr>\n",
       "    <tr>\n",
       "      <th>Weston</th>\n",
       "      <td>807,830.02</td>\n",
       "      <td>6.61</td>\n",
       "    </tr>\n",
       "    <tr>\n",
       "      <th>Orange</th>\n",
       "      <td>776,235.12</td>\n",
       "      <td>9.19</td>\n",
       "    </tr>\n",
       "    <tr>\n",
       "      <th>Fairfield</th>\n",
       "      <td>749,000.40</td>\n",
       "      <td>10.00</td>\n",
       "    </tr>\n",
       "    <tr>\n",
       "      <th>Sherman</th>\n",
       "      <td>552,256.36</td>\n",
       "      <td>5.99</td>\n",
       "    </tr>\n",
       "    <tr>\n",
       "      <th>Madison</th>\n",
       "      <td>506,706.39</td>\n",
       "      <td>9.61</td>\n",
       "    </tr>\n",
       "    <tr>\n",
       "      <th>Kent</th>\n",
       "      <td>454,346.60</td>\n",
       "      <td>10.36</td>\n",
       "    </tr>\n",
       "    <tr>\n",
       "      <th>Trumbull</th>\n",
       "      <td>438,794.30</td>\n",
       "      <td>11.46</td>\n",
       "    </tr>\n",
       "    <tr>\n",
       "      <th>Guilford</th>\n",
       "      <td>430,584.89</td>\n",
       "      <td>10.08</td>\n",
       "    </tr>\n",
       "    <tr>\n",
       "      <th>Oxford</th>\n",
       "      <td>415,936.65</td>\n",
       "      <td>5.17</td>\n",
       "    </tr>\n",
       "    <tr>\n",
       "      <th>Morris</th>\n",
       "      <td>413,006.88</td>\n",
       "      <td>12.56</td>\n",
       "    </tr>\n",
       "    <tr>\n",
       "      <th>Essex</th>\n",
       "      <td>412,452.64</td>\n",
       "      <td>9.27</td>\n",
       "    </tr>\n",
       "    <tr>\n",
       "      <th>Litchfield</th>\n",
       "      <td>398,686.59</td>\n",
       "      <td>10.31</td>\n",
       "    </tr>\n",
       "    <tr>\n",
       "      <th>Cheshire</th>\n",
       "      <td>384,669.71</td>\n",
       "      <td>7.76</td>\n",
       "    </tr>\n",
       "    <tr>\n",
       "      <th>New Haven</th>\n",
       "      <td>370,610.33</td>\n",
       "      <td>11.24</td>\n",
       "    </tr>\n",
       "    <tr>\n",
       "      <th>Windsor</th>\n",
       "      <td>369,650.25</td>\n",
       "      <td>6.97</td>\n",
       "    </tr>\n",
       "    <tr>\n",
       "      <th>Goshen</th>\n",
       "      <td>368,888.38</td>\n",
       "      <td>6.74</td>\n",
       "    </tr>\n",
       "    <tr>\n",
       "      <th>Monroe</th>\n",
       "      <td>367,315.94</td>\n",
       "      <td>10.41</td>\n",
       "    </tr>\n",
       "    <tr>\n",
       "      <th>Sterling</th>\n",
       "      <td>365,429.44</td>\n",
       "      <td>10.63</td>\n",
       "    </tr>\n",
       "    <tr>\n",
       "      <th>Chester</th>\n",
       "      <td>352,391.10</td>\n",
       "      <td>10.96</td>\n",
       "    </tr>\n",
       "    <tr>\n",
       "      <th>Clinton</th>\n",
       "      <td>338,094.16</td>\n",
       "      <td>9.96</td>\n",
       "    </tr>\n",
       "    <tr>\n",
       "      <th>Norfolk</th>\n",
       "      <td>329,645.72</td>\n",
       "      <td>9.60</td>\n",
       "    </tr>\n",
       "    <tr>\n",
       "      <th>Burlington</th>\n",
       "      <td>311,342.61</td>\n",
       "      <td>12.80</td>\n",
       "    </tr>\n",
       "    <tr>\n",
       "      <th>Woodbury</th>\n",
       "      <td>307,030.52</td>\n",
       "      <td>8.38</td>\n",
       "    </tr>\n",
       "    <tr>\n",
       "      <th>Salem</th>\n",
       "      <td>279,094.58</td>\n",
       "      <td>11.58</td>\n",
       "    </tr>\n",
       "    <tr>\n",
       "      <th>Durham</th>\n",
       "      <td>264,631.14</td>\n",
       "      <td>9.18</td>\n",
       "    </tr>\n",
       "    <tr>\n",
       "      <th>Hartford</th>\n",
       "      <td>254,681.84</td>\n",
       "      <td>10.51</td>\n",
       "    </tr>\n",
       "    <tr>\n",
       "      <th>Columbia</th>\n",
       "      <td>237,012.64</td>\n",
       "      <td>9.50</td>\n",
       "    </tr>\n",
       "    <tr>\n",
       "      <th>Lebanon</th>\n",
       "      <td>226,531.95</td>\n",
       "      <td>15.12</td>\n",
       "    </tr>\n",
       "    <tr>\n",
       "      <th>Winchester</th>\n",
       "      <td>212,191.42</td>\n",
       "      <td>10.38</td>\n",
       "    </tr>\n",
       "    <tr>\n",
       "      <th>Bristol</th>\n",
       "      <td>208,059.29</td>\n",
       "      <td>8.64</td>\n",
       "    </tr>\n",
       "    <tr>\n",
       "      <th>Scotland</th>\n",
       "      <td>204,246.43</td>\n",
       "      <td>9.97</td>\n",
       "    </tr>\n",
       "    <tr>\n",
       "      <th>Preston</th>\n",
       "      <td>202,827.77</td>\n",
       "      <td>10.17</td>\n",
       "    </tr>\n",
       "    <tr>\n",
       "      <th>Union</th>\n",
       "      <td>202,350.00</td>\n",
       "      <td>10.05</td>\n",
       "    </tr>\n",
       "    <tr>\n",
       "      <th>New London</th>\n",
       "      <td>202,237.41</td>\n",
       "      <td>9.81</td>\n",
       "    </tr>\n",
       "    <tr>\n",
       "      <th>Vernon</th>\n",
       "      <td>197,865.28</td>\n",
       "      <td>10.03</td>\n",
       "    </tr>\n",
       "    <tr>\n",
       "      <th>Franklin</th>\n",
       "      <td>195,956.96</td>\n",
       "      <td>9.29</td>\n",
       "    </tr>\n",
       "    <tr>\n",
       "      <th>Windham</th>\n",
       "      <td>179,603.95</td>\n",
       "      <td>8.73</td>\n",
       "    </tr>\n",
       "    <tr>\n",
       "      <th>Plymouth</th>\n",
       "      <td>179,488.51</td>\n",
       "      <td>8.85</td>\n",
       "    </tr>\n",
       "    <tr>\n",
       "      <th>Hampton</th>\n",
       "      <td>169,115.22</td>\n",
       "      <td>10.21</td>\n",
       "    </tr>\n",
       "    <tr>\n",
       "      <th>Stafford</th>\n",
       "      <td>158,326.50</td>\n",
       "      <td>11.32</td>\n",
       "    </tr>\n",
       "  </tbody>\n",
       "</table>\n",
       "</div>"
      ],
      "text/plain": [
       "            Sale Amount  Concentration (µg/m³)\n",
       "Town                                          \n",
       "Washington   952,532.14                   9.22\n",
       "Warren       843,244.44                  10.10\n",
       "Weston       807,830.02                   6.61\n",
       "Orange       776,235.12                   9.19\n",
       "Fairfield    749,000.40                  10.00\n",
       "Sherman      552,256.36                   5.99\n",
       "Madison      506,706.39                   9.61\n",
       "Kent         454,346.60                  10.36\n",
       "Trumbull     438,794.30                  11.46\n",
       "Guilford     430,584.89                  10.08\n",
       "Oxford       415,936.65                   5.17\n",
       "Morris       413,006.88                  12.56\n",
       "Essex        412,452.64                   9.27\n",
       "Litchfield   398,686.59                  10.31\n",
       "Cheshire     384,669.71                   7.76\n",
       "New Haven    370,610.33                  11.24\n",
       "Windsor      369,650.25                   6.97\n",
       "Goshen       368,888.38                   6.74\n",
       "Monroe       367,315.94                  10.41\n",
       "Sterling     365,429.44                  10.63\n",
       "Chester      352,391.10                  10.96\n",
       "Clinton      338,094.16                   9.96\n",
       "Norfolk      329,645.72                   9.60\n",
       "Burlington   311,342.61                  12.80\n",
       "Woodbury     307,030.52                   8.38\n",
       "Salem        279,094.58                  11.58\n",
       "Durham       264,631.14                   9.18\n",
       "Hartford     254,681.84                  10.51\n",
       "Columbia     237,012.64                   9.50\n",
       "Lebanon      226,531.95                  15.12\n",
       "Winchester   212,191.42                  10.38\n",
       "Bristol      208,059.29                   8.64\n",
       "Scotland     204,246.43                   9.97\n",
       "Preston      202,827.77                  10.17\n",
       "Union        202,350.00                  10.05\n",
       "New London   202,237.41                   9.81\n",
       "Vernon       197,865.28                  10.03\n",
       "Franklin     195,956.96                   9.29\n",
       "Windham      179,603.95                   8.73\n",
       "Plymouth     179,488.51                   8.85\n",
       "Hampton      169,115.22                  10.21\n",
       "Stafford     158,326.50                  11.32"
      ]
     },
     "execution_count": 16,
     "metadata": {},
     "output_type": "execute_result"
    }
   ],
   "source": [
    "outer_merged2 = merged[merged['Concentration (µg/m³)']>0][merged['Sale Amount']>0]\n",
    "outer_merged2"
   ]
  },
  {
   "attachments": {},
   "cell_type": "markdown",
   "metadata": {},
   "source": [
    "3) Define a Person named tuple with fields for name, age, and city. Create instances of Person and access their attributes."
   ]
  },
  {
   "cell_type": "code",
   "execution_count": 17,
   "metadata": {},
   "outputs": [],
   "source": [
    "from collections import namedtuple"
   ]
  },
  {
   "cell_type": "code",
   "execution_count": 18,
   "metadata": {},
   "outputs": [],
   "source": [
    "Person = namedtuple('Person', ['name','age','city'])"
   ]
  },
  {
   "cell_type": "code",
   "execution_count": 19,
   "metadata": {},
   "outputs": [],
   "source": [
    "Person = Person('Une','11','Riga')"
   ]
  },
  {
   "cell_type": "code",
   "execution_count": 20,
   "metadata": {},
   "outputs": [
    {
     "data": {
      "text/plain": [
       "('Une', '11', 'Riga')"
      ]
     },
     "execution_count": 20,
     "metadata": {},
     "output_type": "execute_result"
    }
   ],
   "source": [
    "Person.name, Person.age, Person.city"
   ]
  },
  {
   "attachments": {},
   "cell_type": "markdown",
   "metadata": {},
   "source": [
    "4) Count the frequency of each word in a given text and display the top 5 most common words.\n",
    "Merge two counters together and calculate the total count of each element."
   ]
  },
  {
   "cell_type": "code",
   "execution_count": 21,
   "metadata": {},
   "outputs": [],
   "source": [
    "from collections import Counter"
   ]
  },
  {
   "cell_type": "code",
   "execution_count": 22,
   "metadata": {},
   "outputs": [],
   "source": [
    "text1 = 'Lithuania  is a country in the Baltic region of Europe.[a] It is one of three Baltic states and lies on the eastern shore of the Baltic Sea. Lithuania shares land borders with Latvia to the north, Belarus to the east and south, Poland to the south, and Russia to the southwest.[b] It has a maritime border with Sweden to the west on the Baltic Sea. Lithuania covers an area of 65,300 km2 (25,200 sq mi), with a population of 2.8 million. Its capital and largest city is Vilnius; other major cities are Kaunas, Klaipėda, Šiauliai and Panevėžys. Lithuanians belong to the ethno-linguistic group of the Balts and speak Lithuanian, one of only a few living Baltic languages.'"
   ]
  },
  {
   "cell_type": "code",
   "execution_count": 23,
   "metadata": {},
   "outputs": [
    {
     "data": {
      "text/plain": [
       "Counter({'Lithuania': 3,\n",
       "         'is': 3,\n",
       "         'a': 4,\n",
       "         'country': 1,\n",
       "         'in': 1,\n",
       "         'the': 11,\n",
       "         'Baltic': 5,\n",
       "         'region': 1,\n",
       "         'of': 7,\n",
       "         'Europe.[a]': 1,\n",
       "         'It': 2,\n",
       "         'one': 2,\n",
       "         'three': 1,\n",
       "         'states': 1,\n",
       "         'and': 6,\n",
       "         'lies': 1,\n",
       "         'on': 2,\n",
       "         'eastern': 1,\n",
       "         'shore': 1,\n",
       "         'Sea.': 2,\n",
       "         'shares': 1,\n",
       "         'land': 1,\n",
       "         'borders': 1,\n",
       "         'with': 3,\n",
       "         'Latvia': 1,\n",
       "         'to': 6,\n",
       "         'north,': 1,\n",
       "         'Belarus': 1,\n",
       "         'east': 1,\n",
       "         'south,': 2,\n",
       "         'Poland': 1,\n",
       "         'Russia': 1,\n",
       "         'southwest.[b]': 1,\n",
       "         'has': 1,\n",
       "         'maritime': 1,\n",
       "         'border': 1,\n",
       "         'Sweden': 1,\n",
       "         'west': 1,\n",
       "         'covers': 1,\n",
       "         'an': 1,\n",
       "         'area': 1,\n",
       "         '65,300': 1,\n",
       "         'km2': 1,\n",
       "         '(25,200': 1,\n",
       "         'sq': 1,\n",
       "         'mi),': 1,\n",
       "         'population': 1,\n",
       "         '2.8': 1,\n",
       "         'million.': 1,\n",
       "         'Its': 1,\n",
       "         'capital': 1,\n",
       "         'largest': 1,\n",
       "         'city': 1,\n",
       "         'Vilnius;': 1,\n",
       "         'other': 1,\n",
       "         'major': 1,\n",
       "         'cities': 1,\n",
       "         'are': 1,\n",
       "         'Kaunas,': 1,\n",
       "         'Klaipėda,': 1,\n",
       "         'Šiauliai': 1,\n",
       "         'Panevėžys.': 1,\n",
       "         'Lithuanians': 1,\n",
       "         'belong': 1,\n",
       "         'ethno-linguistic': 1,\n",
       "         'group': 1,\n",
       "         'Balts': 1,\n",
       "         'speak': 1,\n",
       "         'Lithuanian,': 1,\n",
       "         'only': 1,\n",
       "         'few': 1,\n",
       "         'living': 1,\n",
       "         'languages.': 1})"
      ]
     },
     "execution_count": 23,
     "metadata": {},
     "output_type": "execute_result"
    }
   ],
   "source": [
    "text1_splited = text1.split()\n",
    "count1 = Counter(text1_splited)\n",
    "count1"
   ]
  },
  {
   "cell_type": "code",
   "execution_count": 24,
   "metadata": {},
   "outputs": [
    {
     "data": {
      "text/plain": [
       "[('the', 11), ('of', 7), ('and', 6), ('to', 6), ('Baltic', 5)]"
      ]
     },
     "execution_count": 24,
     "metadata": {},
     "output_type": "execute_result"
    }
   ],
   "source": [
    "count1.most_common(5)"
   ]
  },
  {
   "cell_type": "code",
   "execution_count": 25,
   "metadata": {},
   "outputs": [],
   "source": [
    "text2 = 'Lithuania is a developed country, with a high income advanced economy; ranking very high 35th in the Human Development Index. Lithuania is a member of the European Union, the Council of Europe, eurozone, the Nordic Investment Bank, Schengen Agreement, NATO and OECD. It also participates in the Nordic-Baltic Eight (NB8) regional co-operation format.'"
   ]
  },
  {
   "cell_type": "code",
   "execution_count": 26,
   "metadata": {},
   "outputs": [],
   "source": [
    "text2_splited = text2.split()"
   ]
  },
  {
   "cell_type": "code",
   "execution_count": 27,
   "metadata": {},
   "outputs": [
    {
     "data": {
      "text/plain": [
       "Counter({'Lithuania': 5,\n",
       "         'is': 5,\n",
       "         'a': 7,\n",
       "         'country': 1,\n",
       "         'in': 3,\n",
       "         'the': 16,\n",
       "         'Baltic': 5,\n",
       "         'region': 1,\n",
       "         'of': 9,\n",
       "         'Europe.[a]': 1,\n",
       "         'It': 3,\n",
       "         'one': 2,\n",
       "         'three': 1,\n",
       "         'states': 1,\n",
       "         'and': 7,\n",
       "         'lies': 1,\n",
       "         'on': 2,\n",
       "         'eastern': 1,\n",
       "         'shore': 1,\n",
       "         'Sea.': 2,\n",
       "         'shares': 1,\n",
       "         'land': 1,\n",
       "         'borders': 1,\n",
       "         'with': 4,\n",
       "         'Latvia': 1,\n",
       "         'to': 6,\n",
       "         'north,': 1,\n",
       "         'Belarus': 1,\n",
       "         'east': 1,\n",
       "         'south,': 2,\n",
       "         'Poland': 1,\n",
       "         'Russia': 1,\n",
       "         'southwest.[b]': 1,\n",
       "         'has': 1,\n",
       "         'maritime': 1,\n",
       "         'border': 1,\n",
       "         'Sweden': 1,\n",
       "         'west': 1,\n",
       "         'covers': 1,\n",
       "         'an': 1,\n",
       "         'area': 1,\n",
       "         '65,300': 1,\n",
       "         'km2': 1,\n",
       "         '(25,200': 1,\n",
       "         'sq': 1,\n",
       "         'mi),': 1,\n",
       "         'population': 1,\n",
       "         '2.8': 1,\n",
       "         'million.': 1,\n",
       "         'Its': 1,\n",
       "         'capital': 1,\n",
       "         'largest': 1,\n",
       "         'city': 1,\n",
       "         'Vilnius;': 1,\n",
       "         'other': 1,\n",
       "         'major': 1,\n",
       "         'cities': 1,\n",
       "         'are': 1,\n",
       "         'Kaunas,': 1,\n",
       "         'Klaipėda,': 1,\n",
       "         'Šiauliai': 1,\n",
       "         'Panevėžys.': 1,\n",
       "         'Lithuanians': 1,\n",
       "         'belong': 1,\n",
       "         'ethno-linguistic': 1,\n",
       "         'group': 1,\n",
       "         'Balts': 1,\n",
       "         'speak': 1,\n",
       "         'Lithuanian,': 1,\n",
       "         'only': 1,\n",
       "         'few': 1,\n",
       "         'living': 1,\n",
       "         'languages.': 1,\n",
       "         'developed': 1,\n",
       "         'country,': 1,\n",
       "         'high': 2,\n",
       "         'income': 1,\n",
       "         'advanced': 1,\n",
       "         'economy;': 1,\n",
       "         'ranking': 1,\n",
       "         'very': 1,\n",
       "         '35th': 1,\n",
       "         'Human': 1,\n",
       "         'Development': 1,\n",
       "         'Index.': 1,\n",
       "         'member': 1,\n",
       "         'European': 1,\n",
       "         'Union,': 1,\n",
       "         'Council': 1,\n",
       "         'Europe,': 1,\n",
       "         'eurozone,': 1,\n",
       "         'Nordic': 1,\n",
       "         'Investment': 1,\n",
       "         'Bank,': 1,\n",
       "         'Schengen': 1,\n",
       "         'Agreement,': 1,\n",
       "         'NATO': 1,\n",
       "         'OECD.': 1,\n",
       "         'also': 1,\n",
       "         'participates': 1,\n",
       "         'Nordic-Baltic': 1,\n",
       "         'Eight': 1,\n",
       "         '(NB8)': 1,\n",
       "         'regional': 1,\n",
       "         'co-operation': 1,\n",
       "         'format.': 1})"
      ]
     },
     "execution_count": 27,
     "metadata": {},
     "output_type": "execute_result"
    }
   ],
   "source": [
    "count1.update(text2_splited)\n",
    "count1"
   ]
  },
  {
   "attachments": {},
   "cell_type": "markdown",
   "metadata": {},
   "source": [
    "5) Use a deque to implement a queue and perform enqueue and dequeue operations.\n",
    "Reverse the order of elements in a deque."
   ]
  },
  {
   "cell_type": "code",
   "execution_count": 28,
   "metadata": {},
   "outputs": [],
   "source": [
    "from collections import deque"
   ]
  },
  {
   "cell_type": "code",
   "execution_count": 29,
   "metadata": {},
   "outputs": [],
   "source": [
    "d = deque()"
   ]
  },
  {
   "cell_type": "code",
   "execution_count": 30,
   "metadata": {},
   "outputs": [],
   "source": [
    "d = deque([1, 2, 3, 4, 5, 6, 7, 8, 9, 10])"
   ]
  },
  {
   "cell_type": "code",
   "execution_count": 31,
   "metadata": {},
   "outputs": [
    {
     "data": {
      "text/plain": [
       "deque([1, 2, 3, 4, 5, 6, 7, 8, 9, 10])"
      ]
     },
     "execution_count": 31,
     "metadata": {},
     "output_type": "execute_result"
    }
   ],
   "source": [
    "d"
   ]
  },
  {
   "cell_type": "code",
   "execution_count": 32,
   "metadata": {},
   "outputs": [
    {
     "data": {
      "text/plain": [
       "deque([1, 2, 3, 4, 5, 6, 7, 8, 9, 10, 11, 12, 13])"
      ]
     },
     "execution_count": 32,
     "metadata": {},
     "output_type": "execute_result"
    }
   ],
   "source": [
    "d.extend([11, 12, 13])\n",
    "d"
   ]
  },
  {
   "cell_type": "code",
   "execution_count": 33,
   "metadata": {},
   "outputs": [
    {
     "name": "stdout",
     "output_type": "stream",
     "text": [
      "13\n"
     ]
    }
   ],
   "source": [
    "print(d.pop())"
   ]
  },
  {
   "cell_type": "code",
   "execution_count": 34,
   "metadata": {},
   "outputs": [
    {
     "data": {
      "text/plain": [
       "deque([1, 2, 3, 4, 5, 6, 7, 8, 9, 10, 11, 12])"
      ]
     },
     "execution_count": 34,
     "metadata": {},
     "output_type": "execute_result"
    }
   ],
   "source": [
    "d"
   ]
  },
  {
   "cell_type": "code",
   "execution_count": 35,
   "metadata": {},
   "outputs": [
    {
     "name": "stdout",
     "output_type": "stream",
     "text": [
      "deque([12, 11, 10, 9, 8, 7, 6, 5, 4, 3, 2, 1])\n"
     ]
    }
   ],
   "source": [
    "d.reverse()\n",
    "print(d)"
   ]
  },
  {
   "attachments": {},
   "cell_type": "markdown",
   "metadata": {},
   "source": [
    "6) Create a defaultdict that maps a character to a list of words starting with that character.\n",
    "Calculate the sum of values for each key in a dictionary using a defaultdict."
   ]
  },
  {
   "cell_type": "code",
   "execution_count": 36,
   "metadata": {},
   "outputs": [],
   "source": [
    "from collections import defaultdict"
   ]
  },
  {
   "cell_type": "code",
   "execution_count": 37,
   "metadata": {},
   "outputs": [
    {
     "name": "stdout",
     "output_type": "stream",
     "text": [
      "C ['Cats']\n",
      "D ['Dogs', 'Dolphins']\n",
      "E ['Elephants']\n",
      "H ['Horses', 'Humans']\n",
      "J ['Jaguars']\n",
      "K ['Kangaroos']\n",
      "L ['Leopards', 'Lions']\n",
      "M ['Monkeys']\n",
      "P ['Panthers', 'Pumas']\n",
      "T ['Tigers']\n",
      "W ['Whales']\n"
     ]
    }
   ],
   "source": [
    "mammals = 'Cats Jaguars Dogs Panthers Horses Tigers Kangaroos Leopards Elephants Lions Dolphins Whales Monkeys Pumas Humans'\n",
    "mammals_list = mammals.split()\n",
    "\n",
    "mammals_dict = defaultdict(list)\n",
    "\n",
    "for mammal in mammals_list:\n",
    "    mammals_dict[mammal[0]].append(mammal)\n",
    "\n",
    "for key in sorted(mammals_dict.keys() ):\n",
    "    print(key, mammals_dict[key])"
   ]
  },
  {
   "cell_type": "code",
   "execution_count": 38,
   "metadata": {},
   "outputs": [
    {
     "name": "stdout",
     "output_type": "stream",
     "text": [
      "C 1\n",
      "D 2\n",
      "E 1\n",
      "H 2\n",
      "J 1\n",
      "K 1\n",
      "L 2\n",
      "M 1\n",
      "P 2\n",
      "T 1\n",
      "W 1\n"
     ]
    }
   ],
   "source": [
    "mammals_dict = defaultdict(int)\n",
    "\n",
    "for mammal in mammals_list:\n",
    "    mammals_dict[mammal[0]] += 1\n",
    "\n",
    "for key in sorted(mammals_dict.keys()):\n",
    "    print(key, mammals_dict[key])"
   ]
  },
  {
   "attachments": {},
   "cell_type": "markdown",
   "metadata": {},
   "source": [
    "7) Use reduce to find the maximum element in a list of numbers.\n",
    "Combine a list of strings into a single string using reduce."
   ]
  },
  {
   "cell_type": "code",
   "execution_count": 39,
   "metadata": {},
   "outputs": [],
   "source": [
    "from functools import reduce"
   ]
  },
  {
   "cell_type": "code",
   "execution_count": 40,
   "metadata": {},
   "outputs": [
    {
     "name": "stdout",
     "output_type": "stream",
     "text": [
      "86\n"
     ]
    }
   ],
   "source": [
    "max = reduce(lambda x, y: x if x > y else y, nums)\n",
    "print(max)"
   ]
  },
  {
   "cell_type": "code",
   "execution_count": 41,
   "metadata": {},
   "outputs": [
    {
     "data": {
      "text/plain": [
       "['Vilnius',\n",
       " 'is',\n",
       " 'the',\n",
       " 'capital',\n",
       " 'and',\n",
       " 'the',\n",
       " 'largest',\n",
       " 'city',\n",
       " 'of',\n",
       " 'Lithuania']"
      ]
     },
     "execution_count": 41,
     "metadata": {},
     "output_type": "execute_result"
    }
   ],
   "source": [
    "text = 'Vilnius is the capital and the largest city of Lithuania'\n",
    "text_splited = text.split()\n",
    "text_splited"
   ]
  },
  {
   "cell_type": "code",
   "execution_count": 42,
   "metadata": {},
   "outputs": [
    {
     "name": "stdout",
     "output_type": "stream",
     "text": [
      "Vilnius is the capital and the largest city of Lithuania\n"
     ]
    }
   ],
   "source": [
    "sentence = reduce(lambda x, y: x + ' ' + y, text_splited)\n",
    "print(sentence)"
   ]
  }
 ],
 "metadata": {
  "kernelspec": {
   "display_name": "Python 3",
   "language": "python",
   "name": "python3"
  },
  "language_info": {
   "codemirror_mode": {
    "name": "ipython",
    "version": 3
   },
   "file_extension": ".py",
   "mimetype": "text/x-python",
   "name": "python",
   "nbconvert_exporter": "python",
   "pygments_lexer": "ipython3",
   "version": "3.11.0"
  },
  "orig_nbformat": 4
 },
 "nbformat": 4,
 "nbformat_minor": 2
}
