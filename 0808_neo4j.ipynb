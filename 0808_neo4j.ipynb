{
 "cells": [
  {
   "cell_type": "code",
   "execution_count": 18,
   "metadata": {},
   "outputs": [],
   "source": [
    "from neo4j import GraphDatabase"
   ]
  },
  {
   "cell_type": "code",
   "execution_count": 19,
   "metadata": {},
   "outputs": [],
   "source": [
    "uri = 'neo4j+s://ff864c08.databases.neo4j.io'\n",
    "username = 'neo4j'\n",
    "password = 'JtjMFkHtu1L2YYJ-jDAuNCMhfyjzC8JJTzycaqp1ZlE'"
   ]
  },
  {
   "cell_type": "code",
   "execution_count": 20,
   "metadata": {},
   "outputs": [],
   "source": [
    "driver = GraphDatabase.driver(uri, auth=(username, password))"
   ]
  },
  {
   "cell_type": "code",
   "execution_count": 21,
   "metadata": {},
   "outputs": [],
   "source": [
    "def create_node(transaction, name, age):\n",
    "    transaction.run('CREATE (:rson {name:$name, age:$age})', name=name, age=age)\n",
    "\n",
    "with driver.session() as session:\n",
    "    session.execute_write(create_node,'Arturs',22)\n",
    "    session.execute_write(create_node,'Dov',22)\n",
    "    session.execute_write(create_node,'Bob',33)\n",
    "    session.execute_write(create_node,'Alice',44)"
   ]
  },
  {
   "cell_type": "code",
   "execution_count": 28,
   "metadata": {},
   "outputs": [],
   "source": [
    "def create_friendship(transaction,name1,name2):\n",
    "    transaction.run(\"MATCH (person1:Person {name:$name1}),(person2:Person {name:$name2}) CREATE (person1)-[:FRIEND_OF]->(person1)-[:FRIEND_OF]->(person2)\", name1=name1,name2=name2)"
   ]
  },
  {
   "cell_type": "code",
   "execution_count": 29,
   "metadata": {},
   "outputs": [],
   "source": [
    "with driver.session() as session:\n",
    "    session.execute_write(create_friendship,'Arturs','Bob')"
   ]
  }
 ],
 "metadata": {
  "kernelspec": {
   "display_name": "Python 3",
   "language": "python",
   "name": "python3"
  },
  "language_info": {
   "codemirror_mode": {
    "name": "ipython",
    "version": 3
   },
   "file_extension": ".py",
   "mimetype": "text/x-python",
   "name": "python",
   "nbconvert_exporter": "python",
   "pygments_lexer": "ipython3",
   "version": "3.11.4"
  },
  "orig_nbformat": 4
 },
 "nbformat": 4,
 "nbformat_minor": 2
}
