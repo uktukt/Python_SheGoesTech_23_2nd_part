{
 "cells": [
  {
   "cell_type": "code",
   "execution_count": 18,
   "metadata": {},
   "outputs": [
    {
     "name": "stderr",
     "output_type": "stream",
     "text": [
      "C:\\Users\\dovil\\AppData\\Local\\Temp\\ipykernel_15652\\550956766.py:9: MovedIn20Warning: The ``declarative_base()`` function is now available as sqlalchemy.orm.declarative_base(). (deprecated since: 2.0) (Background on SQLAlchemy 2.0 at: https://sqlalche.me/e/b8d9)\n",
      "  Base = declarative_base()\n"
     ]
    }
   ],
   "source": [
    "import json\n",
    "import requests\n",
    "from sqlalchemy import create_engine, Column, Integer, String\n",
    "from sqlalchemy.orm import sessionmaker\n",
    "from sqlalchemy.ext.declarative import declarative_base\n",
    "import pymysql\n",
    "\n",
    "# Define the SQLAlchemy model\n",
    "Base = declarative_base()"
   ]
  },
  {
   "cell_type": "code",
   "execution_count": 24,
   "metadata": {},
   "outputs": [
    {
     "name": "stderr",
     "output_type": "stream",
     "text": [
      "C:\\Users\\dovil\\AppData\\Local\\Temp\\ipykernel_15652\\305910917.py:8: MovedIn20Warning: The ``declarative_base()`` function is now available as sqlalchemy.orm.declarative_base(). (deprecated since: 2.0) (Background on SQLAlchemy 2.0 at: https://sqlalche.me/e/b8d9)\n",
      "  Base = declarative_base()\n"
     ]
    }
   ],
   "source": [
    "import json\n",
    "import requests\n",
    "from sqlalchemy import create_engine, Column, Integer, String\n",
    "from sqlalchemy.orm import sessionmaker\n",
    "from sqlalchemy.ext.declarative import declarative_base\n",
    "\n",
    "# Define the SQLAlchemy model\n",
    "Base = declarative_base()\n",
    "\n",
    "class Breed(Base):\n",
    "    __tablename__ = 'Breeds'\n",
    "    id = Column(Integer, primary_key=True)\n",
    "    breed = Column(String(30))\n",
    "    origin = Column(String(50))\n",
    "\n",
    "class BreedImage(Base):\n",
    "    __tablename__ = 'Breeds_img'\n",
    "    id = Column(Integer, primary_key=True)\n",
    "    url = Column(String(50))\n",
    "    img = Column(String(50))\n",
    "\n",
    "# Create the database engine and session\n",
    "engine = create_engine('mysql+pymysql://root@localhost/test',  pool_recycle=3600)\n",
    "Session = sessionmaker(bind=engine)\n",
    "session = Session()\n",
    "\n",
    "# Create the tables\n",
    "Base.metadata.create_all(engine)\n"
   ]
  },
  {
   "cell_type": "code",
   "execution_count": 25,
   "metadata": {},
   "outputs": [],
   "source": [
    "# Make the API request\n",
    "url = \"https://dog-breeds2.p.rapidapi.com/dog_breeds/group/breed_status/extinct\"\n",
    "headers = {\n",
    "    \"X-RapidAPI-Key\": \"51b07a06c6mshbaae7fd65806f5cp13da34jsn59c5aa35baa7\",\n",
    "    \"X-RapidAPI-Host\": \"dog-breeds2.p.rapidapi.com\"\n",
    "}\n",
    "response = requests.get(url, headers=headers)\n",
    "api_data = response.json()\n",
    "\n",
    "# Insert data into the tables\n",
    "for record in api_data:\n",
    "    breed = Breed(id=record['id'], breed=record['breed'], origin=record['origin'])\n",
    "    session.add(breed)\n",
    "    breed_image = BreedImage(id=record['id'], url=record['url'], img=record['img'])\n",
    "    session.add(breed_image)\n",
    "\n",
    "session.commit()"
   ]
  },
  {
   "cell_type": "code",
   "execution_count": 27,
   "metadata": {},
   "outputs": [
    {
     "data": {
      "text/html": [
       "<div>\n",
       "<style scoped>\n",
       "    .dataframe tbody tr th:only-of-type {\n",
       "        vertical-align: middle;\n",
       "    }\n",
       "\n",
       "    .dataframe tbody tr th {\n",
       "        vertical-align: top;\n",
       "    }\n",
       "\n",
       "    .dataframe thead th {\n",
       "        text-align: right;\n",
       "    }\n",
       "</style>\n",
       "<table border=\"1\" class=\"dataframe\">\n",
       "  <thead>\n",
       "    <tr style=\"text-align: right;\">\n",
       "      <th></th>\n",
       "      <th>Breed</th>\n",
       "      <th>Origin</th>\n",
       "      <th>Link</th>\n",
       "      <th>Img</th>\n",
       "    </tr>\n",
       "  </thead>\n",
       "  <tbody>\n",
       "    <tr>\n",
       "      <th>0</th>\n",
       "      <td>Old English Terrier</td>\n",
       "      <td>England</td>\n",
       "      <td>https://en.wikipedia</td>\n",
       "      <td>https://upload.wikim</td>\n",
       "    </tr>\n",
       "    <tr>\n",
       "      <th>1</th>\n",
       "      <td>African hairless dog</td>\n",
       "      <td>Africa</td>\n",
       "      <td>https://en.wikipedia</td>\n",
       "      <td>https://upload.wikim</td>\n",
       "    </tr>\n",
       "    <tr>\n",
       "      <th>2</th>\n",
       "      <td>Alaunt</td>\n",
       "      <td>Pontic-Caspian Stepp</td>\n",
       "      <td>https://en.wikipedia</td>\n",
       "      <td>https://upload.wikim</td>\n",
       "    </tr>\n",
       "    <tr>\n",
       "      <th>3</th>\n",
       "      <td>Alpine Mastiff</td>\n",
       "      <td>Swiss and Italian Al</td>\n",
       "      <td>https://en.wikipedia</td>\n",
       "      <td>https://upload.wikim</td>\n",
       "    </tr>\n",
       "    <tr>\n",
       "      <th>4</th>\n",
       "      <td>Belgian Mastiff</td>\n",
       "      <td>Belgium and the Neth</td>\n",
       "      <td>https://en.wikipedia</td>\n",
       "      <td>https://upload.wikim</td>\n",
       "    </tr>\n",
       "  </tbody>\n",
       "</table>\n",
       "</div>"
      ],
      "text/plain": [
       "                  Breed                Origin                  Link  \\\n",
       "0   Old English Terrier               England  https://en.wikipedia   \n",
       "1  African hairless dog                Africa  https://en.wikipedia   \n",
       "2                Alaunt  Pontic-Caspian Stepp  https://en.wikipedia   \n",
       "3        Alpine Mastiff  Swiss and Italian Al  https://en.wikipedia   \n",
       "4       Belgian Mastiff  Belgium and the Neth  https://en.wikipedia   \n",
       "\n",
       "                    Img  \n",
       "0  https://upload.wikim  \n",
       "1  https://upload.wikim  \n",
       "2  https://upload.wikim  \n",
       "3  https://upload.wikim  \n",
       "4  https://upload.wikim  "
      ]
     },
     "execution_count": 27,
     "metadata": {},
     "output_type": "execute_result"
    }
   ],
   "source": [
    "# Query the data using SQLAlchemy\n",
    "breeds = session.query(Breed.breed, Breed.origin, BreedImage.url, BreedImage.img).\\\n",
    "    join(BreedImage, Breed.id == BreedImage.id).all()\n",
    "\n",
    "# Close the session\n",
    "session.close()\n",
    "\n",
    "# Convert the query result to a Pandas DataFrame\n",
    "import pandas as pd\n",
    "df = pd.DataFrame(breeds, columns=['Breed', 'Origin', 'Link', 'Img'])\n",
    "df.head()"
   ]
  }
 ],
 "metadata": {
  "kernelspec": {
   "display_name": "Python 3",
   "language": "python",
   "name": "python3"
  },
  "language_info": {
   "codemirror_mode": {
    "name": "ipython",
    "version": 3
   },
   "file_extension": ".py",
   "mimetype": "text/x-python",
   "name": "python",
   "nbconvert_exporter": "python",
   "pygments_lexer": "ipython3",
   "version": "3.11.0"
  },
  "orig_nbformat": 4
 },
 "nbformat": 4,
 "nbformat_minor": 2
}
