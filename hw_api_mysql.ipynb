{
 "cells": [
  {
   "attachments": {},
   "cell_type": "markdown",
   "metadata": {},
   "source": [
    "1) Select any free API (the choice is up to you, you can use any from https://rapidapi.com/collection/list-of-free-apis).\n",
    "2) Create the database which stores the infomration related to the API chosen (at least 2 tables).\n",
    "3) In Python, 3.1) implement the logic which fetches the data from API and moves it to Database 3.2) Fetches the data from database and 3.2.1) If there is the API functionality\n",
    "(POST/GET request) which allows you to use the data from database in an API call, do it 3.2.2.) If not - display the data from database as Pandas dataframe"
   ]
  },
  {
   "cell_type": "code",
   "execution_count": 32,
   "metadata": {},
   "outputs": [],
   "source": [
    "import json\n",
    "import requests\n",
    "from sqlalchemy import create_engine, Column, Integer, String\n",
    "from sqlalchemy.orm import sessionmaker\n",
    "from sqlalchemy.ext.declarative import declarative_base"
   ]
  },
  {
   "cell_type": "code",
   "execution_count": 33,
   "metadata": {},
   "outputs": [
    {
     "name": "stderr",
     "output_type": "stream",
     "text": [
      "C:\\Users\\dovil\\AppData\\Local\\Temp\\ipykernel_15652\\3707988397.py:1: MovedIn20Warning: The ``declarative_base()`` function is now available as sqlalchemy.orm.declarative_base(). (deprecated since: 2.0) (Background on SQLAlchemy 2.0 at: https://sqlalche.me/e/b8d9)\n",
      "  Base = declarative_base()\n"
     ]
    }
   ],
   "source": [
    "Base = declarative_base()\n",
    "\n",
    "class Breed(Base):\n",
    "    __tablename__ = 'Breeds'\n",
    "    id = Column(Integer, primary_key=True)\n",
    "    breed = Column(String(30))\n",
    "    origin = Column(String(50))\n",
    "\n",
    "class BreedImage(Base):\n",
    "    __tablename__ = 'Breeds_img'\n",
    "    id = Column(Integer, primary_key=True)\n",
    "    url = Column(String(50))\n",
    "    img = Column(String(50))\n",
    "\n",
    "engine = create_engine('mysql+pymysql://root@localhost/test',  pool_recycle=3600)\n",
    "Session = sessionmaker(bind=engine)\n",
    "session = Session()\n",
    "\n",
    "Base.metadata.create_all(engine)\n"
   ]
  },
  {
   "cell_type": "code",
   "execution_count": 34,
   "metadata": {},
   "outputs": [],
   "source": [
    "\n",
    "url = \"https://dog-breeds2.p.rapidapi.com/dog_breeds/group/breed_status/extinct\"\n",
    "headers = {\n",
    "    \"X-RapidAPI-Key\": \"51b07a06c6mshbaae7fd65806f5cp13da34jsn59c5aa35baa7\",\n",
    "    \"X-RapidAPI-Host\": \"dog-breeds2.p.rapidapi.com\"\n",
    "}\n",
    "\n",
    "response = requests.get(url, headers=headers)\n",
    "api_data = response.json()\n",
    "\n",
    "for record in api_data:\n",
    "    breed = Breed(id=record['id'], breed=record['breed'], origin=record['origin'])\n",
    "    session.add(breed)\n",
    "    breed_image = BreedImage(id=record['id'], url=record['url'], img=record['img'])\n",
    "    session.add(breed_image)\n",
    "\n",
    "session.commit()"
   ]
  },
  {
   "cell_type": "code",
   "execution_count": 35,
   "metadata": {},
   "outputs": [
    {
     "data": {
      "text/html": [
       "<div>\n",
       "<style scoped>\n",
       "    .dataframe tbody tr th:only-of-type {\n",
       "        vertical-align: middle;\n",
       "    }\n",
       "\n",
       "    .dataframe tbody tr th {\n",
       "        vertical-align: top;\n",
       "    }\n",
       "\n",
       "    .dataframe thead th {\n",
       "        text-align: right;\n",
       "    }\n",
       "</style>\n",
       "<table border=\"1\" class=\"dataframe\">\n",
       "  <thead>\n",
       "    <tr style=\"text-align: right;\">\n",
       "      <th></th>\n",
       "      <th>Breed</th>\n",
       "      <th>Origin</th>\n",
       "      <th>Link</th>\n",
       "      <th>Img</th>\n",
       "    </tr>\n",
       "  </thead>\n",
       "  <tbody>\n",
       "    <tr>\n",
       "      <th>0</th>\n",
       "      <td>Old English Terrier</td>\n",
       "      <td>England</td>\n",
       "      <td>https://en.wikipedia.org/wiki/Old_English_Terrier</td>\n",
       "      <td>https://upload.wikimedia.org/wikipedia/commons...</td>\n",
       "    </tr>\n",
       "    <tr>\n",
       "      <th>1</th>\n",
       "      <td>African hairless dog</td>\n",
       "      <td>Africa</td>\n",
       "      <td>https://en.wikipedia.org/wiki/Abyssinian_sand_...</td>\n",
       "      <td>https://upload.wikimedia.org/wikipedia/commons...</td>\n",
       "    </tr>\n",
       "    <tr>\n",
       "      <th>2</th>\n",
       "      <td>Alaunt</td>\n",
       "      <td>Pontic-Caspian Steppe</td>\n",
       "      <td>https://en.wikipedia.org/wiki/Alaunt</td>\n",
       "      <td>https://upload.wikimedia.org/wikipedia/commons...</td>\n",
       "    </tr>\n",
       "    <tr>\n",
       "      <th>3</th>\n",
       "      <td>Alpine Mastiff</td>\n",
       "      <td>Swiss and Italian Alps</td>\n",
       "      <td>https://en.wikipedia.org/wiki/Alpine_Mastiff</td>\n",
       "      <td>https://upload.wikimedia.org/wikipedia/commons...</td>\n",
       "    </tr>\n",
       "    <tr>\n",
       "      <th>4</th>\n",
       "      <td>Belgian Mastiff</td>\n",
       "      <td>Belgium and the Netherlands</td>\n",
       "      <td>https://en.wikipedia.org/wiki/Belgian_Mastiff</td>\n",
       "      <td>https://upload.wikimedia.org/wikipedia/commons...</td>\n",
       "    </tr>\n",
       "  </tbody>\n",
       "</table>\n",
       "</div>"
      ],
      "text/plain": [
       "                  Breed                       Origin  \\\n",
       "0   Old English Terrier                      England   \n",
       "1  African hairless dog                       Africa   \n",
       "2                Alaunt        Pontic-Caspian Steppe   \n",
       "3        Alpine Mastiff       Swiss and Italian Alps   \n",
       "4       Belgian Mastiff  Belgium and the Netherlands   \n",
       "\n",
       "                                                Link  \\\n",
       "0  https://en.wikipedia.org/wiki/Old_English_Terrier   \n",
       "1  https://en.wikipedia.org/wiki/Abyssinian_sand_...   \n",
       "2               https://en.wikipedia.org/wiki/Alaunt   \n",
       "3       https://en.wikipedia.org/wiki/Alpine_Mastiff   \n",
       "4      https://en.wikipedia.org/wiki/Belgian_Mastiff   \n",
       "\n",
       "                                                 Img  \n",
       "0  https://upload.wikimedia.org/wikipedia/commons...  \n",
       "1  https://upload.wikimedia.org/wikipedia/commons...  \n",
       "2  https://upload.wikimedia.org/wikipedia/commons...  \n",
       "3  https://upload.wikimedia.org/wikipedia/commons...  \n",
       "4  https://upload.wikimedia.org/wikipedia/commons...  "
      ]
     },
     "execution_count": 35,
     "metadata": {},
     "output_type": "execute_result"
    }
   ],
   "source": [
    "breeds = session.query(Breed.breed, Breed.origin, BreedImage.url, BreedImage.img).\\\n",
    "    join(BreedImage, Breed.id == BreedImage.id).all()\n",
    "\n",
    "session.close()\n",
    "\n",
    "import pandas as pd\n",
    "df = pd.DataFrame(breeds, columns=['Breed', 'Origin', 'Link', 'Img'])\n",
    "df.head()"
   ]
  }
 ],
 "metadata": {
  "kernelspec": {
   "display_name": "Python 3",
   "language": "python",
   "name": "python3"
  },
  "language_info": {
   "codemirror_mode": {
    "name": "ipython",
    "version": 3
   },
   "file_extension": ".py",
   "mimetype": "text/x-python",
   "name": "python",
   "nbconvert_exporter": "python",
   "pygments_lexer": "ipython3",
   "version": "3.11.0"
  },
  "orig_nbformat": 4
 },
 "nbformat": 4,
 "nbformat_minor": 2
}
