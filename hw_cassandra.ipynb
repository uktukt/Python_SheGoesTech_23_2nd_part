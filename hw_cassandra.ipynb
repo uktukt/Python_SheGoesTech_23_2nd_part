{
 "cells": [
  {
   "cell_type": "markdown",
   "metadata": {},
   "source": [
    "## Cassandra:\n",
    "\n",
    "Data Model Creation:\n",
    "* Design a data model for an e-commerce platform to handle products, orders, and user information.\n",
    "* Define appropriate column families and primary keys to ensure efficient querying."
   ]
  },
  {
   "cell_type": "code",
   "execution_count": 78,
   "metadata": {},
   "outputs": [],
   "source": [
    "from cassandra.cluster import Cluster\n",
    "import uuid\n",
    "from decimal import Decimal\n",
    "from datetime import datetime"
   ]
  },
  {
   "cell_type": "code",
   "execution_count": 79,
   "metadata": {},
   "outputs": [
    {
     "data": {
      "text/plain": [
       "UUID('b2fb3c93-9d88-4e73-9a82-912f6cdc440e')"
      ]
     },
     "execution_count": 79,
     "metadata": {},
     "output_type": "execute_result"
    }
   ],
   "source": [
    "uuid.uuid4()"
   ]
  },
  {
   "cell_type": "code",
   "execution_count": 80,
   "metadata": {},
   "outputs": [],
   "source": [
    "cluster = Cluster([\"127.0.0.1\"],port=9042)\n",
    "session = cluster.connect()"
   ]
  },
  {
   "cell_type": "code",
   "execution_count": 84,
   "metadata": {},
   "outputs": [
    {
     "data": {
      "text/plain": [
       "<cassandra.cluster.ResultSet at 0x24a4a8e6110>"
      ]
     },
     "execution_count": 84,
     "metadata": {},
     "output_type": "execute_result"
    }
   ],
   "source": [
    "session.execute(\"\"\"CREATE KEYSPACE IF NOT EXISTS e_commerce\n",
    "    WITH replication = {'class': 'SimpleStrategy', 'replication_factor': 1}\"\"\")"
   ]
  },
  {
   "cell_type": "code",
   "execution_count": 85,
   "metadata": {},
   "outputs": [],
   "source": [
    "session.set_keyspace('e_commerce')"
   ]
  },
  {
   "cell_type": "code",
   "execution_count": 86,
   "metadata": {},
   "outputs": [
    {
     "data": {
      "text/plain": [
       "<cassandra.cluster.ResultSet at 0x24a4a6542d0>"
      ]
     },
     "execution_count": 86,
     "metadata": {},
     "output_type": "execute_result"
    }
   ],
   "source": [
    "session.execute(\"\"\"CREATE TABLE IF NOT EXISTS users (\n",
    "        user_id UUID PRIMARY KEY,\n",
    "        username TEXT,\n",
    "        email TEXT)\"\"\")\n",
    "\n",
    "session.execute(\"\"\"CREATE TABLE IF NOT EXISTS products (\n",
    "        product_id UUID PRIMARY KEY,\n",
    "        product_name TEXT,\n",
    "        price DECIMAL)\"\"\")\n",
    "\n",
    "session.execute(\"\"\"CREATE TABLE IF NOT EXISTS user_orders (\n",
    "        user_id UUID,\n",
    "        order_id UUID,\n",
    "        order_date TIMESTAMP,\n",
    "        product_name TEXT,\n",
    "        quantity INT,\n",
    "        total_amount DECIMAL,\n",
    "        PRIMARY KEY (user_id, order_id))\"\"\")"
   ]
  },
  {
   "cell_type": "markdown",
   "metadata": {},
   "source": [
    "Data Insertion and Retrieval:\n",
    "* Insert sample data into the Cassandra database, including user information and product details.\n",
    "* Retrieve a user's order history using CQL (Cassandra Query Language)."
   ]
  },
  {
   "cell_type": "code",
   "execution_count": 87,
   "metadata": {},
   "outputs": [],
   "source": [
    "users_data = [\n",
    "    (uuid.uuid4(), 'user1', 'user1@example.com'),\n",
    "    (uuid.uuid4(), 'user2', 'user2@example.com'),\n",
    "    (uuid.uuid4(), 'user3', 'user3@example.com')]\n",
    "\n",
    "for user_data in users_data:\n",
    "    session.execute(\n",
    "        \"\"\"INSERT INTO users (user_id, username, email)\n",
    "        VALUES (%s, %s, %s)\"\"\",\n",
    "        user_data)\n",
    "\n",
    "products_data = [\n",
    "    (uuid.uuid4(), 'Product A', Decimal('2')),\n",
    "    (uuid.uuid4(), 'Product B', Decimal('2.5')),\n",
    "    (uuid.uuid4(), 'Product C', Decimal('2.99'))]\n",
    "\n",
    "for product_data in products_data:\n",
    "    session.execute(\n",
    "        \"\"\"INSERT INTO products (product_id, product_name, price)\n",
    "        VALUES (%s, %s, %s)\"\"\",\n",
    "        product_data)\n",
    "\n",
    "user_orders = [\n",
    "    (uuid.uuid4(), users_data[0][0], datetime.now(), 'Product A', 1, Decimal('2')),\n",
    "    (uuid.uuid4(), users_data[0][0], datetime.now(), 'Product C', 2, Decimal('5.98'))]\n",
    "\n",
    "for order_data in user_orders:\n",
    "    session.execute(\"\"\"INSERT INTO user_orders (order_id, user_id, order_date, product_name, quantity, total_amount)\n",
    "        VALUES (%s, %s, %s, %s, %s, %s)\"\"\",\n",
    "        order_data)"
   ]
  },
  {
   "cell_type": "code",
   "execution_count": 88,
   "metadata": {},
   "outputs": [
    {
     "name": "stdout",
     "output_type": "stream",
     "text": [
      "65277254-7289-41e4-bab0-33040908bf06 2023-08-11 20:22:57.712000 Product A 2\n",
      "a96f856e-a98f-4e86-8245-5324f930c09f 2023-08-11 20:22:57.712000 Product C 5.98\n"
     ]
    }
   ],
   "source": [
    "user_id_to_retrieve = users_data[0][0]\n",
    "\n",
    "result = session.execute(\n",
    "    \"\"\"SELECT * FROM user_orders WHERE user_id = %s\"\"\",\n",
    "    (user_id_to_retrieve,))\n",
    "\n",
    "for row in result:\n",
    "    print(row.order_id, row.order_date, row.product_name, row.total_amount)"
   ]
  }
 ],
 "metadata": {
  "kernelspec": {
   "display_name": "Python 3",
   "language": "python",
   "name": "python3"
  },
  "language_info": {
   "codemirror_mode": {
    "name": "ipython",
    "version": 3
   },
   "file_extension": ".py",
   "mimetype": "text/x-python",
   "name": "python",
   "nbconvert_exporter": "python",
   "pygments_lexer": "ipython3",
   "version": "3.11.4"
  },
  "orig_nbformat": 4
 },
 "nbformat": 4,
 "nbformat_minor": 2
}
