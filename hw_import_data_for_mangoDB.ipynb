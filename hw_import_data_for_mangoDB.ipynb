{
 "cells": [
  {
   "cell_type": "code",
   "execution_count": 2,
   "metadata": {},
   "outputs": [],
   "source": [
    "import mysql.connector\n",
    "from decimal import Decimal\n",
    "from datetime import date\n",
    "import csv"
   ]
  },
  {
   "cell_type": "code",
   "execution_count": 3,
   "metadata": {},
   "outputs": [
    {
     "name": "stdout",
     "output_type": "stream",
     "text": [
      "Connected to MySQL database!\n"
     ]
    }
   ],
   "source": [
    "try:\n",
    "    connection = mysql.connector.connect(\n",
    "        host='localhost',\n",
    "        user='root',\n",
    "        password='1234',\n",
    "        database='advanced_sql')\n",
    "\n",
    "    if connection.is_connected():\n",
    "        print('Connected to MySQL database!')\n",
    "    else:\n",
    "        print('Failed to connect to the database.')\n",
    "except mysql.connector.Error as e:\n",
    "    print(f'Error connecting to MySQL: {e}')"
   ]
  },
  {
   "cell_type": "code",
   "execution_count": 4,
   "metadata": {},
   "outputs": [],
   "source": [
    "def execute_query(query):\n",
    "    cursor = connection.cursor()\n",
    "    cursor.execute(query)\n",
    "    rows = cursor.fetchall()\n",
    "    return rows\n",
    "\n",
    "def convert_value(value):\n",
    "    if isinstance(value, Decimal):\n",
    "        return float(value)\n",
    "    elif isinstance(value, date):\n",
    "        return value.strftime('%Y-%m-%d')\n",
    "    return value"
   ]
  },
  {
   "cell_type": "code",
   "execution_count": 5,
   "metadata": {},
   "outputs": [],
   "source": [
    "query = '''SELECT * FROM employees'''\n",
    "result = execute_query(query)\n",
    "\n",
    "file_name = 'employees.csv'\n",
    "\n",
    "header = ['EmployeeID', 'FullName', 'Age', 'Salary', 'Department']\n",
    "\n",
    "with open(file_name, mode='w', newline='') as csv_file:\n",
    "    writer = csv.writer(csv_file)\n",
    "\n",
    "    # Write the header row to the CSV file\n",
    "    writer.writerow(header)\n",
    "\n",
    "    for row in result:\n",
    "        formatted_row = [convert_value(value) for value in row]\n",
    "        writer.writerow(formatted_row)"
   ]
  }
 ],
 "metadata": {
  "kernelspec": {
   "display_name": "Python 3",
   "language": "python",
   "name": "python3"
  },
  "language_info": {
   "codemirror_mode": {
    "name": "ipython",
    "version": 3
   },
   "file_extension": ".py",
   "mimetype": "text/x-python",
   "name": "python",
   "nbconvert_exporter": "python",
   "pygments_lexer": "ipython3",
   "version": "3.11.4"
  },
  "orig_nbformat": 4
 },
 "nbformat": 4,
 "nbformat_minor": 2
}
