{
 "cells": [
  {
   "cell_type": "code",
   "execution_count": 1,
   "metadata": {},
   "outputs": [],
   "source": [
    "import csv\n",
    "import requests"
   ]
  },
  {
   "cell_type": "code",
   "execution_count": 2,
   "metadata": {},
   "outputs": [
    {
     "name": "stdout",
     "output_type": "stream",
     "text": [
      "Data has been saved to public_stations.csv.\n",
      "Data has been saved to private_stations.csv.\n",
      "Data has been saved to others_stations.csv.\n"
     ]
    }
   ],
   "source": [
    "\n",
    "class FuelStationDataProcessor:\n",
    "    def __init__(self, api_key):\n",
    "        self.url = 'https://community-nrel-national-renewable-energy-laboratory.p.rapidapi.com/api/alt-fuel-stations/v1/nearest.json'\n",
    "        self.location = '433 Bryant St., San Francisco'\n",
    "        self.fuel_type = 'ELEC'\n",
    "        self.limit = 50\n",
    "        self.offset = 0\n",
    "        self.api_key = api_key\n",
    "        self.headers = {\n",
    "            'X-RapidAPI-Key': self.api_key,\n",
    "            'X-RapidAPI-Host': 'community-nrel-national-renewable-energy-laboratory.p.rapidapi.com'\n",
    "        }\n",
    "        self.public_data = []\n",
    "        self.private_data = []\n",
    "        self.others_data = []\n",
    "\n",
    "    def fetch_data(self):\n",
    "        while True:\n",
    "            querystring = {\n",
    "                'location': self.location,\n",
    "                'fuel_type': self.fuel_type,\n",
    "                'limit': self.limit,\n",
    "                'offset': self.offset\n",
    "            }\n",
    "            response = requests.get(self.url, headers=self.headers, params=querystring)\n",
    "\n",
    "            if response.status_code == 200:\n",
    "                data = response.json()['fuel_stations']\n",
    "                if not data:\n",
    "                    break\n",
    "\n",
    "                for station in data:\n",
    "                    group = station.get('groups_with_access_code', '').lower()\n",
    "                    if group == 'public':\n",
    "                        self.public_data.append(station)\n",
    "                    elif group == 'private':\n",
    "                        self.private_data.append(station)\n",
    "                    else:\n",
    "                        self.others_data.append(station)\n",
    "\n",
    "                self.offset += self.limit\n",
    "            else:\n",
    "                print(f'Failed to get data for offset {self.offset}. Skipping...')\n",
    "                break\n",
    "\n",
    "    def save_data_to_csv(self, data, filename):\n",
    "        if data:\n",
    "            keys = list(data[0].keys()) + ['federal_agency', 'ev_network_ids']\n",
    "            with open(filename, mode='w', newline='') as csv_file:\n",
    "                writer = csv.DictWriter(csv_file, fieldnames=keys)\n",
    "                writer.writeheader()\n",
    "                writer.writerows(data)\n",
    "            print(f'Data has been saved to {filename}.')\n",
    "        else:\n",
    "            print('No data to save.')\n",
    "\n",
    "    def process_data(self):\n",
    "        self.fetch_data()\n",
    "        self.save_data_to_csv(self.public_data, 'public_stations.csv')\n",
    "        self.save_data_to_csv(self.private_data, 'private_stations.csv')\n",
    "        self.save_data_to_csv(self.others_data, 'others_stations.csv')\n",
    "\n",
    "if __name__ == '__main__':\n",
    "    api_key = 'YOUR_RAPIDAPI_KEY_HERE'\n",
    "    db = FuelStationDataProcessor(api_key='51b07a06c6mshbaae7fd65806f5cp13da34jsn59c5aa35baa7')\n",
    "    db.process_data()\n"
   ]
  }
 ],
 "metadata": {
  "kernelspec": {
   "display_name": "Python 3",
   "language": "python",
   "name": "python3"
  },
  "language_info": {
   "codemirror_mode": {
    "name": "ipython",
    "version": 3
   },
   "file_extension": ".py",
   "mimetype": "text/x-python",
   "name": "python",
   "nbconvert_exporter": "python",
   "pygments_lexer": "ipython3",
   "version": "3.11.0"
  },
  "orig_nbformat": 4
 },
 "nbformat": 4,
 "nbformat_minor": 2
}
