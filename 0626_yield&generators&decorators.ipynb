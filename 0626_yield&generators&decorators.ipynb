{
 "cells": [
  {
   "cell_type": "code",
   "execution_count": 1,
   "metadata": {},
   "outputs": [],
   "source": [
    "def swap_squared(a,b):\n",
    "    return list([b * b, a * a])"
   ]
  },
  {
   "cell_type": "code",
   "execution_count": 2,
   "metadata": {},
   "outputs": [
    {
     "data": {
      "text/plain": [
       "[16, 9]"
      ]
     },
     "execution_count": 2,
     "metadata": {},
     "output_type": "execute_result"
    }
   ],
   "source": [
    "swap_squared(3, 4)"
   ]
  },
  {
   "cell_type": "code",
   "execution_count": 14,
   "metadata": {},
   "outputs": [],
   "source": [
    "def multiplied(start):\n",
    "    while True:\n",
    "        start = start * 2\n",
    "        yield start"
   ]
  },
  {
   "cell_type": "code",
   "execution_count": 15,
   "metadata": {},
   "outputs": [
    {
     "data": {
      "text/plain": [
       "20"
      ]
     },
     "execution_count": 15,
     "metadata": {},
     "output_type": "execute_result"
    }
   ],
   "source": [
    "a = 10\n",
    "result = multiplied(a)\n",
    "next(result)"
   ]
  },
  {
   "cell_type": "code",
   "execution_count": 16,
   "metadata": {},
   "outputs": [
    {
     "data": {
      "text/plain": [
       "40"
      ]
     },
     "execution_count": 16,
     "metadata": {},
     "output_type": "execute_result"
    }
   ],
   "source": [
    "next(result)"
   ]
  },
  {
   "cell_type": "code",
   "execution_count": 22,
   "metadata": {},
   "outputs": [
    {
     "data": {
      "text/plain": [
       "[0, 1, 1, 2, 3, 5, 8, 13, 21, 34]"
      ]
     },
     "execution_count": 22,
     "metadata": {},
     "output_type": "execute_result"
    }
   ],
   "source": [
    "def fibonacci(last_element):\n",
    "    a = 0\n",
    "    b = 1\n",
    "    result = list([0,1])\n",
    "    for i in range(2, last_element):\n",
    "        b,a = a,b\n",
    "        b = a + b\n",
    "        result.append(b)\n",
    "    return result\n",
    "\n",
    "fibonacci(10)"
   ]
  },
  {
   "cell_type": "code",
   "execution_count": 29,
   "metadata": {},
   "outputs": [],
   "source": [
    "def fibonacci():\n",
    "    a = 0\n",
    "    b = 1\n",
    "    while True:\n",
    "        b,a = a,b\n",
    "        b = a + b\n",
    "        yield b"
   ]
  },
  {
   "cell_type": "code",
   "execution_count": 30,
   "metadata": {},
   "outputs": [],
   "source": [
    "fib_gen = fibonacci()"
   ]
  },
  {
   "cell_type": "code",
   "execution_count": 41,
   "metadata": {},
   "outputs": [
    {
     "data": {
      "text/plain": [
       "144"
      ]
     },
     "execution_count": 41,
     "metadata": {},
     "output_type": "execute_result"
    }
   ],
   "source": [
    "next(fib_gen)"
   ]
  },
  {
   "cell_type": "code",
   "execution_count": 47,
   "metadata": {},
   "outputs": [],
   "source": [
    "class Person:\n",
    "    name: str\n",
    "    last_name: str\n",
    "    date_of_birth: str\n",
    "    def __init__(self, name, last_name, date_of_birth):\n",
    "        self.name = name\n",
    "        self.last_name = last_name\n",
    "        self.date_of_birth = date_of_birth\n",
    "    def __str__(self):\n",
    "        return 'Name: ' + self.name + ', Last Name: ' + self.last_name + ', Date of Birth: ' + self.date_of_birth"
   ]
  },
  {
   "cell_type": "code",
   "execution_count": 48,
   "metadata": {},
   "outputs": [],
   "source": [
    "person = Person('Dov', 'M', '123')"
   ]
  },
  {
   "cell_type": "code",
   "execution_count": 49,
   "metadata": {},
   "outputs": [
    {
     "name": "stdout",
     "output_type": "stream",
     "text": [
      "Name: Dov, Last Name: M, Date of Birth: 123\n"
     ]
    }
   ],
   "source": [
    "print(person)"
   ]
  },
  {
   "cell_type": "code",
   "execution_count": 50,
   "metadata": {},
   "outputs": [],
   "source": [
    "from dataclasses import dataclass"
   ]
  },
  {
   "cell_type": "code",
   "execution_count": 51,
   "metadata": {},
   "outputs": [],
   "source": [
    "@dataclass\n",
    "class Person:\n",
    "    name: str\n",
    "    last_name: str\n",
    "    date_of_birth: str"
   ]
  },
  {
   "cell_type": "code",
   "execution_count": 52,
   "metadata": {},
   "outputs": [],
   "source": [
    "person = Person('Dov2', 'M2', '123')"
   ]
  },
  {
   "cell_type": "code",
   "execution_count": 53,
   "metadata": {},
   "outputs": [
    {
     "name": "stdout",
     "output_type": "stream",
     "text": [
      "Person(name='Dov2', last_name='M2', date_of_birth='123')\n"
     ]
    }
   ],
   "source": [
    "print(person)"
   ]
  },
  {
   "cell_type": "code",
   "execution_count": 58,
   "metadata": {},
   "outputs": [
    {
     "name": "stdout",
     "output_type": "stream",
     "text": [
      "calling: add\n",
      "function add finished\n"
     ]
    },
    {
     "data": {
      "text/plain": [
       "12"
      ]
     },
     "execution_count": 58,
     "metadata": {},
     "output_type": "execute_result"
    }
   ],
   "source": [
    "def logger_decorator(func):\n",
    "    def wrapper(*args, **kwargs):\n",
    "        print('calling: '+func.__name__)\n",
    "        result = func(*args, **kwargs)\n",
    "        print('function',func.__name__,'finished')\n",
    "        return result\n",
    "    return wrapper\n",
    "\n",
    "@logger_decorator\n",
    "def add(a,b):\n",
    "    return a + b\n",
    "\n",
    "add(5,7)"
   ]
  },
  {
   "cell_type": "code",
   "execution_count": 60,
   "metadata": {},
   "outputs": [
    {
     "data": {
      "text/plain": [
       "'the result of the function - add is 12'"
      ]
     },
     "execution_count": 60,
     "metadata": {},
     "output_type": "execute_result"
    }
   ],
   "source": [
    "def logger_decorator(func):\n",
    "    def wrapper(*args, **kwargs):\n",
    "        return 'the result of the function - ' + func.__name__ + ' is ' + str(func(*args, **kwargs))\n",
    "    return wrapper\n",
    "\n",
    "@logger_decorator\n",
    "def add(a,b):\n",
    "    return a + b\n",
    "\n",
    "add(5,7)"
   ]
  },
  {
   "cell_type": "code",
   "execution_count": 61,
   "metadata": {},
   "outputs": [],
   "source": [
    "@logger_decorator\n",
    "def multiplication(a,b):\n",
    "    return a * b"
   ]
  },
  {
   "cell_type": "code",
   "execution_count": 62,
   "metadata": {},
   "outputs": [
    {
     "data": {
      "text/plain": [
       "'the result of the function - multiplication is 36'"
      ]
     },
     "execution_count": 62,
     "metadata": {},
     "output_type": "execute_result"
    }
   ],
   "source": [
    "multiplication(4,9)"
   ]
  },
  {
   "cell_type": "code",
   "execution_count": 63,
   "metadata": {},
   "outputs": [],
   "source": [
    "import time"
   ]
  },
  {
   "cell_type": "code",
   "execution_count": 68,
   "metadata": {},
   "outputs": [
    {
     "name": "stdout",
     "output_type": "stream",
     "text": [
      "function loop_sum is executed in 0.4858975410461426\n",
      "49999985000001\n"
     ]
    }
   ],
   "source": [
    "def measure_time(func):\n",
    "    def wrapper(*args, **kwargs):\n",
    "        start_time = time.time()\n",
    "        result = func(*args, **kwargs)\n",
    "        end_time = time.time()\n",
    "        execution_time = end_time - start_time\n",
    "        print('function ' + func.__name__ + ' is executed in ' + str(execution_time))\n",
    "        print(result)\n",
    "    return wrapper\n",
    "\n",
    "@measure_time\n",
    "def loop_sum(elements):\n",
    "    sum_total = 0\n",
    "    for i in range (1, elements):\n",
    "        sum_total = sum_total + i\n",
    "    return sum_total\n",
    "\n",
    "loop_sum(9999999)"
   ]
  },
  {
   "cell_type": "code",
   "execution_count": 75,
   "metadata": {},
   "outputs": [
    {
     "data": {
      "text/plain": [
       "{'time': 0.0, 'result': 4851}"
      ]
     },
     "execution_count": 75,
     "metadata": {},
     "output_type": "execute_result"
    }
   ],
   "source": [
    "def measure_time(func):\n",
    "    def wrapper(*args, **kwargs):\n",
    "        start_time = time.time()\n",
    "        result = func(*args, **kwargs)\n",
    "        end_time = time.time()\n",
    "        execution_time = end_time - start_time\n",
    "        # print('function ' + func.__name__ + ' is executed in ' + str(execution_time))\n",
    "        # print(result)\n",
    "        func_res = dict()\n",
    "        func_res['time'] = execution_time\n",
    "        func_res['result'] = result\n",
    "        return func_res\n",
    "    return wrapper\n",
    "\n",
    "@measure_time\n",
    "def loop_sum(elements):\n",
    "    sum_total = 0\n",
    "    for i in range (1, elements):\n",
    "        sum_total = sum_total + i\n",
    "    return sum_total\n",
    "\n",
    "loop_sum(9999999)\n",
    "loop_sum(99)"
   ]
  },
  {
   "cell_type": "code",
   "execution_count": 80,
   "metadata": {},
   "outputs": [],
   "source": [
    "def add_name(cls):\n",
    "    cls.name = 'default'\n",
    "    return cls\n",
    "\n",
    "@add_name\n",
    "class Person:\n",
    "    pass\n",
    "\n",
    "person = Person()"
   ]
  },
  {
   "cell_type": "code",
   "execution_count": 81,
   "metadata": {},
   "outputs": [
    {
     "data": {
      "text/plain": [
       "'default'"
      ]
     },
     "execution_count": 81,
     "metadata": {},
     "output_type": "execute_result"
    }
   ],
   "source": [
    "person.name"
   ]
  },
  {
   "cell_type": "code",
   "execution_count": 84,
   "metadata": {},
   "outputs": [],
   "source": [
    "def add_name(cls):\n",
    "    def wrapper(*args, **kwargs):\n",
    "        try:\n",
    "            cls.name = args[0]\n",
    "            cls.last_name = args[1]\n",
    "        except:\n",
    "            pass\n",
    "        return cls\n",
    "    return wrapper\n",
    "\n",
    "@add_name\n",
    "class Person:\n",
    "    pass\n",
    "\n",
    "person = Person('Dov')"
   ]
  },
  {
   "cell_type": "code",
   "execution_count": 83,
   "metadata": {},
   "outputs": [
    {
     "data": {
      "text/plain": [
       "'Dov'"
      ]
     },
     "execution_count": 83,
     "metadata": {},
     "output_type": "execute_result"
    }
   ],
   "source": [
    "person.name"
   ]
  },
  {
   "cell_type": "code",
   "execution_count": 86,
   "metadata": {},
   "outputs": [
    {
     "data": {
      "text/plain": [
       "'M'"
      ]
     },
     "execution_count": 86,
     "metadata": {},
     "output_type": "execute_result"
    }
   ],
   "source": [
    "person.last_name"
   ]
  },
  {
   "cell_type": "code",
   "execution_count": 87,
   "metadata": {},
   "outputs": [],
   "source": [
    "def authorize_decorator(allowed_roles):\n",
    "    def decorator(func):\n",
    "        def wrapper(*args, **kwargs):\n",
    "            if 'admin' in allowed_roles:\n",
    "                print('authorized')\n",
    "                return func(*args, **kwargs)\n",
    "            else:\n",
    "                print('unauthorized')\n",
    "        return wrapper\n",
    "    return decorator"
   ]
  },
  {
   "cell_type": "code",
   "execution_count": 88,
   "metadata": {},
   "outputs": [
    {
     "name": "stdout",
     "output_type": "stream",
     "text": [
      "authorized\n",
      "protected function called\n"
     ]
    }
   ],
   "source": [
    "@authorize_decorator(allowed_roles=['admin','end user'])\n",
    "def protected_funcion():\n",
    "    print('protected function called')\n",
    "\n",
    "protected_funcion()"
   ]
  },
  {
   "cell_type": "code",
   "execution_count": 89,
   "metadata": {},
   "outputs": [
    {
     "name": "stdout",
     "output_type": "stream",
     "text": [
      "unauthorized\n"
     ]
    }
   ],
   "source": [
    "@authorize_decorator(allowed_roles=['end user'])\n",
    "def protected_funcion():\n",
    "    print('protected function called')\n",
    "\n",
    "protected_funcion()"
   ]
  },
  {
   "cell_type": "code",
   "execution_count": 90,
   "metadata": {},
   "outputs": [],
   "source": [
    "user_name = 'dov'\n",
    "# selection from the database\n",
    "user_roles = ['admin', 'end_user', 'tester']\n",
    "\n",
    "@authorize_decorator(allowed_roles=user_roles)\n",
    "def get_sensitive_data():\n",
    "    return 'sensitive data'"
   ]
  },
  {
   "cell_type": "code",
   "execution_count": 91,
   "metadata": {},
   "outputs": [
    {
     "name": "stdout",
     "output_type": "stream",
     "text": [
      "authorized\n"
     ]
    },
    {
     "data": {
      "text/plain": [
       "'sensitive data'"
      ]
     },
     "execution_count": 91,
     "metadata": {},
     "output_type": "execute_result"
    }
   ],
   "source": [
    "get_sensitive_data()"
   ]
  }
 ],
 "metadata": {
  "kernelspec": {
   "display_name": "Python 3",
   "language": "python",
   "name": "python3"
  },
  "language_info": {
   "codemirror_mode": {
    "name": "ipython",
    "version": 3
   },
   "file_extension": ".py",
   "mimetype": "text/x-python",
   "name": "python",
   "nbconvert_exporter": "python",
   "pygments_lexer": "ipython3",
   "version": "3.11.0"
  },
  "orig_nbformat": 4
 },
 "nbformat": 4,
 "nbformat_minor": 2
}
