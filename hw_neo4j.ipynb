{
 "cells": [
  {
   "cell_type": "markdown",
   "metadata": {},
   "source": [
    "** Neo4j\n",
    "Graph Creation:\n",
    "* Build a graph database to represent a social network, with nodes for users and relationships for friendships.\n",
    "* Create nodes for users and relationships to model their interactions."
   ]
  },
  {
   "cell_type": "code",
   "execution_count": 1,
   "metadata": {},
   "outputs": [],
   "source": [
    "from neo4j import GraphDatabase"
   ]
  },
  {
   "cell_type": "code",
   "execution_count": 3,
   "metadata": {},
   "outputs": [],
   "source": [
    "uri = 'neo4j+s://ff864c08.databases.neo4j.io'\n",
    "username = 'neo4j'\n",
    "password = 'JtjMFkHtu1L2YYJ-jDAuNCMhfyjzC8JJTzycaqp1ZlE'\n",
    "driver = GraphDatabase.driver(uri, auth=(username, password))"
   ]
  },
  {
   "cell_type": "code",
   "execution_count": 23,
   "metadata": {},
   "outputs": [],
   "source": [
    "def create_node(transaction,name):\n",
    "    transaction.run(\"CREATE (:Person {name:$name})\",name=name)\n",
    "\n",
    "with driver.session() as session:\n",
    "    session.execute_write(create_node,'Dovile')\n",
    "    session.execute_write(create_node,'Jonas')\n",
    "    session.execute_write(create_node,'Ana')\n",
    "    session.execute_write(create_node,'Petras')"
   ]
  },
  {
   "cell_type": "code",
   "execution_count": 26,
   "metadata": {},
   "outputs": [],
   "source": [
    "def create_friendship(transaction, name1, name2):\n",
    "  transaction.run(\n",
    "      \"MATCH (person1:Person {name: $name1}), (person2:Person {name: $name2}) CREATE (person1)-[:FRIEND]->(person2)\",\n",
    "      name1=name1,\n",
    "      name2=name2)\n"
   ]
  },
  {
   "cell_type": "code",
   "execution_count": 27,
   "metadata": {},
   "outputs": [],
   "source": [
    "with driver.session() as session:\n",
    "    session.execute_write(create_friendship,'Dovile','Jonas')\n",
    "    session.execute_write(create_friendship,'Dovile','Ana')\n",
    "    session.execute_write(create_friendship,'Petras','Jonas')\n",
    "    session.execute_write(create_friendship,'Petras','Ana')"
   ]
  },
  {
   "cell_type": "markdown",
   "metadata": {},
   "source": [
    "Querying Graph Data:\n",
    "* Write a Cypher query to find all friends of a given user up to a certain depth (degree of separation).\n",
    "* Retrieve common friends between two users in the graph."
   ]
  },
  {
   "cell_type": "code",
   "execution_count": null,
   "metadata": {},
   "outputs": [],
   "source": []
  },
  {
   "cell_type": "markdown",
   "metadata": {},
   "source": [
    "Recommendation System:\n",
    "* Implement a basic recommendation system by finding users who have similar interests based on their interactions.\n",
    "* Propose movies, books, or other items that a user might be interested in based on their connections' preferences."
   ]
  },
  {
   "cell_type": "code",
   "execution_count": null,
   "metadata": {},
   "outputs": [],
   "source": []
  },
  {
   "cell_type": "markdown",
   "metadata": {},
   "source": [
    "Pathfinding:\n",
    "* Use graph algorithms in Neo4j to find the shortest path between two nodes in the graph.\n",
    "* Find the path of mutual friends between two users."
   ]
  }
 ],
 "metadata": {
  "kernelspec": {
   "display_name": "Python 3",
   "language": "python",
   "name": "python3"
  },
  "language_info": {
   "codemirror_mode": {
    "name": "ipython",
    "version": 3
   },
   "file_extension": ".py",
   "mimetype": "text/x-python",
   "name": "python",
   "nbconvert_exporter": "python",
   "pygments_lexer": "ipython3",
   "version": "3.11.4"
  },
  "orig_nbformat": 4
 },
 "nbformat": 4,
 "nbformat_minor": 2
}
