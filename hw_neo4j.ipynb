{
 "cells": [
  {
   "cell_type": "markdown",
   "metadata": {},
   "source": [
    "** Neo4j\n",
    "Graph Creation:\n",
    "* Build a graph database to represent a social network, with nodes for users and relationships for friendships.\n",
    "* Create nodes for users and relationships to model their interactions."
   ]
  },
  {
   "cell_type": "code",
   "execution_count": 56,
   "metadata": {},
   "outputs": [],
   "source": [
    "from neo4j import GraphDatabase"
   ]
  },
  {
   "cell_type": "code",
   "execution_count": 57,
   "metadata": {},
   "outputs": [],
   "source": [
    "uri = 'neo4j+s://ff864c08.databases.neo4j.io'\n",
    "username = 'neo4j'\n",
    "password = 'JtjMFkHtu1L2YYJ-jDAuNCMhfyjzC8JJTzycaqp1ZlE'\n",
    "driver = GraphDatabase.driver(uri, auth=(username, password))"
   ]
  },
  {
   "cell_type": "code",
   "execution_count": 58,
   "metadata": {},
   "outputs": [],
   "source": [
    "def create_node(transaction,name):\n",
    "    transaction.run(\"CREATE (:Person {name:$name})\",name=name)\n",
    "\n",
    "with driver.session() as session:\n",
    "    session.execute_write(create_node,'Dovile')\n",
    "    session.execute_write(create_node,'Jonas')\n",
    "    session.execute_write(create_node,'Ana')\n",
    "    session.execute_write(create_node,'Petras')\n",
    "    session.execute_write(create_node,'Ada')\n",
    "    session.execute_write(create_node,'Vytas')"
   ]
  },
  {
   "cell_type": "code",
   "execution_count": 59,
   "metadata": {},
   "outputs": [],
   "source": [
    "def create_friendship(transaction, name1, name2):\n",
    "  transaction.run(\n",
    "      \"MATCH (person1:Person {name: $name1}), (person2:Person {name: $name2})\"\n",
    "      \"CREATE (person1)-[:FRIEND]->(person2)\",\n",
    "      name1=name1,\n",
    "      name2=name2)\n"
   ]
  },
  {
   "cell_type": "code",
   "execution_count": 89,
   "metadata": {},
   "outputs": [],
   "source": [
    "with driver.session() as session:\n",
    "    session.execute_write(create_friendship,'Jonas','Dovile')\n",
    "    session.execute_write(create_friendship,'Dovile','Ana')\n",
    "    session.execute_write(create_friendship,'Petras','Jonas')\n",
    "    session.execute_write(create_friendship,'Petras','Ana')\n",
    "    session.execute_write(create_friendship,'Ada','Ana')\n",
    "    session.execute_write(create_friendship,'Petras','Vytas')\n",
    "    session.execute_write(create_friendship,'Petras','Ada')"
   ]
  },
  {
   "cell_type": "markdown",
   "metadata": {},
   "source": [
    "Querying Graph Data:\n",
    "* Write a Cypher query to find all friends of a given user up to a certain depth (degree of separation).\n",
    "* Retrieve common friends between two users in the graph."
   ]
  },
  {
   "cell_type": "code",
   "execution_count": 7,
   "metadata": {},
   "outputs": [
    {
     "name": "stdout",
     "output_type": "stream",
     "text": [
      "Friends of Dovile: ['Ana', 'Jonas']\n"
     ]
    }
   ],
   "source": [
    "def friends_of_user(session, user_name, depth):\n",
    "    session = driver.session()\n",
    "    query = (\"MATCH (user:Person {name: $name})\"\n",
    "        \"WITH user \"\n",
    "        \"MATCH (user)-[:FRIEND*1..\" + str(depth) + \"]->(friend) \"\n",
    "        \"WHERE friend.name IS NOT NULL \"\n",
    "        \"RETURN friend.name\")\n",
    "\n",
    "    results = session.run(query, name=user_name)\n",
    "    return [result['friend.name'] for result in results]\n",
    "\n",
    "friends_of_dovile = friends_of_user(session, 'Dovile', 2)\n",
    "print('Friends of Dovile:', friends_of_dovile)\n"
   ]
  },
  {
   "cell_type": "code",
   "execution_count": 8,
   "metadata": {},
   "outputs": [
    {
     "name": "stdout",
     "output_type": "stream",
     "text": [
      "Common friends of Dovile and Jonas: ['Ana', 'Jonas']\n"
     ]
    }
   ],
   "source": [
    "def common_friends_between_users(session, user1_name, user2_name):\n",
    "    session = driver.session()\n",
    "    query = (\"MATCH (user1:Person {name: $name1}), (user2:Person {name: $name2}) \"\n",
    "        \"WITH user1, user2 \"\n",
    "        \"MATCH (user1)-[:FRIEND]->(commonFriend)<-[:FRIEND]-(user2) \"\n",
    "        \"WHERE commonFriend.name IS NOT NULL \"\n",
    "        \"RETURN commonFriend.name\")\n",
    "\n",
    "    results = session.run(query, name1=user1_name, name2=user2_name)\n",
    "    return [result['commonFriend.name'] for result in results]\n",
    "\n",
    "common_friends_of_dovile_and_petras = common_friends_between_users(session, 'Dovile', 'Petras')\n",
    "print('Common friends of Dovile and Jonas:', common_friends_of_dovile_and_petras)"
   ]
  },
  {
   "cell_type": "markdown",
   "metadata": {},
   "source": [
    "Recommendation System:\n",
    "* Implement a basic recommendation system by finding users who have similar interests based on their interactions.\n",
    "* Propose movies, books, or other items that a user might be interested in based on their connections' preferences."
   ]
  },
  {
   "cell_type": "code",
   "execution_count": 75,
   "metadata": {},
   "outputs": [],
   "source": [
    "def add_hobbies_to_person(transaction, name, hobbies):\n",
    "    query = \"MATCH (p:Person {name:$name}) SET p.hobbies = $hobbies\"\n",
    "    transaction.run(query, name=name, hobbies=hobbies)\n",
    "\n",
    "with driver.session() as session:\n",
    "    persons = {'Dovile': ['Reading', 'Swimming'],\n",
    "                'Jonas': ['Cooking', 'Hiking'],\n",
    "                'Ana': ['Painting', 'Dancing'],\n",
    "                'Petras': ['Photography', 'Cycling'],\n",
    "                'Ada': ['Gardening', 'Yoga'],\n",
    "                'Vytas': ['Traveling', 'Playing Guitar']}\n",
    "\n",
    "    for name, hobbies in persons.items():\n",
    "        session.execute_write(add_hobbies_to_person, name, hobbies)\n"
   ]
  },
  {
   "cell_type": "code",
   "execution_count": 74,
   "metadata": {},
   "outputs": [
    {
     "name": "stdout",
     "output_type": "stream",
     "text": [
      "Suggested hobbies for Dovile: ['Cycling', 'Yoga']\n"
     ]
    }
   ],
   "source": [
    "def get_suggested_hobbies(session, person_name):\n",
    "    query = \"MATCH (:Person {name: $name})-[:FRIEND]->(friend:Person) \"\n",
    "    \"RETURN COLLECT(DISTINCT friend.hobbies) AS suggested_hobbies\"\n",
    "    result = session.run(query, name=person_name)\n",
    "    record = result.single()\n",
    "    if record:\n",
    "        suggested_hobbies = [hobby for hobbies in record['suggested_hobbies'] for hobby in hobbies]\n",
    "        return suggested_hobbies\n",
    "    return []\n",
    "\n",
    "with driver.session() as session:\n",
    "    person_name = 'Dovile'\n",
    "    suggested_hobbies = get_suggested_hobbies(session, person_name)\n",
    "    print(f'Suggested hobbies for {person_name}: {suggested_hobbies}')\n"
   ]
  },
  {
   "cell_type": "markdown",
   "metadata": {},
   "source": [
    "Pathfinding:\n",
    "* Use graph algorithms in Neo4j to find the shortest path between two nodes in the graph.\n",
    "* Find the path of mutual friends between two users."
   ]
  },
  {
   "cell_type": "code",
   "execution_count": 96,
   "metadata": {},
   "outputs": [
    {
     "name": "stdout",
     "output_type": "stream",
     "text": [
      "Shortest path nodes:\n",
      "- Dovile\n",
      "- Ana\n",
      "Relationships:\n",
      "- FRIEND\n"
     ]
    },
    {
     "name": "stderr",
     "output_type": "stream",
     "text": [
      "C:\\Users\\dovil\\AppData\\Local\\Temp\\ipykernel_22984\\2873084052.py:8: DeprecationWarning: read_transaction has been renamed to execute_read\n",
      "  results = session.read_transaction(find_shortest_path, 'Dovile', 'Ana')\n"
     ]
    }
   ],
   "source": [
    "def find_shortest_path(transaction, name1, name2):\n",
    "    result = transaction.run(\"MATCH (person1:Person {name: $name1}), (person2:Person {name: $name2}), \"\n",
    "                             \"path = SHORTESTPATH((person1)-[*]->(person2)) \"\n",
    "                             \"RETURN nodes(path), relationships(path)\", name1=name1, name2=name2)\n",
    "    return [{'nodes': record['nodes(path)'], 'relationships': record['relationships(path)']} for record in result]\n",
    "\n",
    "with driver.session() as session:\n",
    "    results = session.read_transaction(find_shortest_path, 'Dovile', 'Ana')\n",
    "    if results:\n",
    "        nodes = results[0]['nodes']\n",
    "        relationships = results[0]['relationships']\n",
    "        \n",
    "        print('Shortest path nodes:')\n",
    "        for node in nodes:\n",
    "            print(f'- {node[\"name\"]}')\n",
    "        \n",
    "        print('Relationships:')\n",
    "        for relationship in relationships:\n",
    "            print(f'- {relationship.type}')\n",
    "    else:\n",
    "        print('No path found between the two persons')\n",
    "\n"
   ]
  },
  {
   "cell_type": "code",
   "execution_count": 113,
   "metadata": {},
   "outputs": [
    {
     "name": "stdout",
     "output_type": "stream",
     "text": [
      "Path of mutual friends between Petras and Dovile:\n",
      " Jonas\n"
     ]
    },
    {
     "name": "stderr",
     "output_type": "stream",
     "text": [
      "C:\\Users\\dovil\\AppData\\Local\\Temp\\ipykernel_22984\\695707109.py:15: DeprecationWarning: read_transaction has been renamed to execute_read\n",
      "  mutual_friends_path = session.read_transaction(find_mutual_friends_path, user1, user2)\n"
     ]
    }
   ],
   "source": [
    "def find_mutual_friends_path(transaction, name1, name2):\n",
    "    query = (\"MATCH (p1:Person {name: $name1})-[:FRIEND]->(mf:Person)-[:FRIEND]->(p2:Person {name: $name2}) \"\n",
    "    \"RETURN COLLECT(DISTINCT mf) AS mutualFriends\")\n",
    "    \n",
    "    result = transaction.run(query, name1=name1, name2=name2)\n",
    "    record = result.single()\n",
    "    if record:\n",
    "        mutual_friends = record[\"mutualFriends\"]\n",
    "        return [node[\"name\"] for node in mutual_friends]\n",
    "    return []\n",
    "\n",
    "with driver.session() as session:\n",
    "    user1 = 'Petras'\n",
    "    user2 = 'Dovile'\n",
    "    mutual_friends_path = session.read_transaction(find_mutual_friends_path, user1, user2)\n",
    "    \n",
    "    if mutual_friends_path:\n",
    "        print(f'Path of mutual friends between {user1} and {user2}:')\n",
    "        for friend in mutual_friends_path:\n",
    "            print(f' {friend}')\n",
    "    else:\n",
    "        print('No path of mutual friends found between the two users')\n"
   ]
  }
 ],
 "metadata": {
  "kernelspec": {
   "display_name": "Python 3",
   "language": "python",
   "name": "python3"
  },
  "language_info": {
   "codemirror_mode": {
    "name": "ipython",
    "version": 3
   },
   "file_extension": ".py",
   "mimetype": "text/x-python",
   "name": "python",
   "nbconvert_exporter": "python",
   "pygments_lexer": "ipython3",
   "version": "3.11.4"
  },
  "orig_nbformat": 4
 },
 "nbformat": 4,
 "nbformat_minor": 2
}
