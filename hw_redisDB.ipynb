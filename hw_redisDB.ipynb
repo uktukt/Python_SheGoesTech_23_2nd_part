{
 "cells": [
  {
   "cell_type": "markdown",
   "metadata": {},
   "source": [
    "Redis DB:\n",
    "\n",
    "  1)Use the same SQL data as in MongoDB.\n",
    "  \n",
    "  2)Create Redis DB, with the data from SQL:\n",
    "    Set a key with a specific value in Redis.\n",
    "    Retrieve the value of a key from Redis.\n",
    "    Delete a key-value pair from Redis."
   ]
  },
  {
   "cell_type": "code",
   "execution_count": 1,
   "metadata": {},
   "outputs": [
    {
     "name": "stdout",
     "output_type": "stream",
     "text": [
      "Connected to MySQL database!\n"
     ]
    }
   ],
   "source": [
    "import mysql.connector\n",
    "\n",
    "try:\n",
    "    connection = mysql.connector.connect(\n",
    "        host='localhost',\n",
    "        user='root',\n",
    "        password='1234',\n",
    "        database='advanced_sql')\n",
    "\n",
    "    if connection.is_connected():\n",
    "        print('Connected to MySQL database!')\n",
    "    else:\n",
    "        print('Failed to connect to the database.')\n",
    "except mysql.connector.Error as e:\n",
    "    print(f'Error connecting to MySQL: {e}')"
   ]
  },
  {
   "cell_type": "code",
   "execution_count": 2,
   "metadata": {},
   "outputs": [],
   "source": [
    "def execute_query(query):\n",
    "    cursor = connection.cursor()\n",
    "    cursor.execute(query)\n",
    "    rows = cursor.fetchall()\n",
    "    return rows"
   ]
  },
  {
   "cell_type": "code",
   "execution_count": 3,
   "metadata": {},
   "outputs": [],
   "source": [
    "from decimal import Decimal\n",
    "from datetime import date\n",
    "\n",
    "def convert_value(value):\n",
    "    if isinstance(value, Decimal):\n",
    "        return float(value)\n",
    "    elif isinstance(value, date):\n",
    "        return value.strftime('%Y-%m-%d')\n",
    "    return value"
   ]
  },
  {
   "cell_type": "code",
   "execution_count": 4,
   "metadata": {},
   "outputs": [
    {
     "name": "stdout",
     "output_type": "stream",
     "text": [
      "[1, 'John Doe', 35, 47655.0, 'Sales']\n",
      "[2, 'Jane Smith', 28, 37506.0, 'HR']\n",
      "[3, 'Mike Johnson', 42, 34947.0, 'Finance']\n",
      "[4, 'Emily Brown', 29, 68342.0, 'IT']\n",
      "[5, 'David Lee', 38, 48759.0, 'Sales']\n"
     ]
    }
   ],
   "source": [
    "query = \"\"\"SELECT * FROM employees\"\"\"\n",
    "result = execute_query(query)\n",
    "for row in result:\n",
    "    formatted_row = [convert_value(value) for value in row]\n",
    "    print(formatted_row)"
   ]
  },
  {
   "cell_type": "code",
   "execution_count": 29,
   "metadata": {},
   "outputs": [],
   "source": [
    "import redis\n",
    "\n",
    "redis_client = redis.StrictRedis(host='localhost', port=6379, db=0, decode_responses=True)"
   ]
  },
  {
   "cell_type": "code",
   "execution_count": 38,
   "metadata": {},
   "outputs": [
    {
     "name": "stderr",
     "output_type": "stream",
     "text": [
      "C:\\Users\\dovil\\AppData\\Local\\Temp\\ipykernel_8148\\2738367741.py:11: DeprecationWarning: Redis.hmset() is deprecated. Use Redis.hset() instead.\n",
      "  redis_client.hmset(key, value)\n"
     ]
    }
   ],
   "source": [
    "def save_data_to_redis(data):\n",
    "    for row in data:\n",
    "        user_id = int(row[0])\n",
    "        key = f'user:{user_id}'\n",
    "\n",
    "        formatted_row = [convert_value(value) for value in row[1:]]\n",
    "\n",
    "        # dictionary with field names as keys and formatted values\n",
    "        value = {field: formatted_row[i] for i, field in enumerate(['name', 'age', 'salary', 'department'])}\n",
    "\n",
    "        redis_client.hmset(key, value)\n",
    "\n",
    "save_data_to_redis(result)"
   ]
  },
  {
   "cell_type": "code",
   "execution_count": 39,
   "metadata": {},
   "outputs": [],
   "source": [
    "def get_user_info(user_id):\n",
    "    key = f'user:{user_id}'\n",
    "    user_info = redis_client.hgetall(key)\n",
    "    return user_info"
   ]
  },
  {
   "cell_type": "code",
   "execution_count": 41,
   "metadata": {},
   "outputs": [
    {
     "name": "stdout",
     "output_type": "stream",
     "text": [
      "{'name': 'Jane Smith', 'age': '28', 'salary': '37506.0', 'department': 'HR'}\n"
     ]
    }
   ],
   "source": [
    "user_id = 2\n",
    "user_info = get_user_info(user_id)\n",
    "print(user_info)"
   ]
  },
  {
   "cell_type": "code",
   "execution_count": 34,
   "metadata": {},
   "outputs": [],
   "source": [
    "def delete_user(user_id):\n",
    "    key = f'user:{user_id}'\n",
    "    redis_client.delete(key)"
   ]
  },
  {
   "cell_type": "code",
   "execution_count": 42,
   "metadata": {},
   "outputs": [
    {
     "name": "stdout",
     "output_type": "stream",
     "text": [
      "User with ID 2 has been deleted\n"
     ]
    }
   ],
   "source": [
    "user_id = 2\n",
    "delete_user(user_id)\n",
    "print(f'User with ID {user_id} has been deleted')"
   ]
  }
 ],
 "metadata": {
  "kernelspec": {
   "display_name": "Python 3",
   "language": "python",
   "name": "python3"
  },
  "language_info": {
   "codemirror_mode": {
    "name": "ipython",
    "version": 3
   },
   "file_extension": ".py",
   "mimetype": "text/x-python",
   "name": "python",
   "nbconvert_exporter": "python",
   "pygments_lexer": "ipython3",
   "version": "3.11.0"
  },
  "orig_nbformat": 4
 },
 "nbformat": 4,
 "nbformat_minor": 2
}
