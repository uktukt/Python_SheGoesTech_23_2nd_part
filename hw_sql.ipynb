{
 "cells": [
  {
   "cell_type": "code",
   "execution_count": 40,
   "metadata": {},
   "outputs": [
    {
     "name": "stdout",
     "output_type": "stream",
     "text": [
      "Connected to MySQL database!\n"
     ]
    }
   ],
   "source": [
    "import mysql.connector\n",
    "\n",
    "try:\n",
    "    connection = mysql.connector.connect(\n",
    "        host='localhost',\n",
    "        user='root',\n",
    "        password='1234',\n",
    "        database='advanced_sql')\n",
    "\n",
    "    if connection.is_connected():\n",
    "        print('Connected to MySQL database!')\n",
    "    else:\n",
    "        print('Failed to connect to the database.')\n",
    "except mysql.connector.Error as e:\n",
    "    print(f'Error connecting to MySQL: {e}')"
   ]
  },
  {
   "cell_type": "code",
   "execution_count": 41,
   "metadata": {},
   "outputs": [],
   "source": [
    "def execute_query(query):\n",
    "    cursor = connection.cursor()\n",
    "    cursor.execute(query)\n",
    "    rows = cursor.fetchall()\n",
    "    return rows"
   ]
  },
  {
   "cell_type": "code",
   "execution_count": 42,
   "metadata": {},
   "outputs": [],
   "source": [
    "from decimal import Decimal\n",
    "from datetime import date\n",
    "\n",
    "def convert_value(value):\n",
    "    if isinstance(value, Decimal):\n",
    "        return float(value)\n",
    "    elif isinstance(value, date):\n",
    "        return value.strftime('%Y-%m-%d')\n",
    "    return value "
   ]
  },
  {
   "cell_type": "markdown",
   "metadata": {},
   "source": [
    "## Basic SQL"
   ]
  },
  {
   "cell_type": "code",
   "execution_count": 43,
   "metadata": {},
   "outputs": [
    {
     "name": "stdout",
     "output_type": "stream",
     "text": [
      "[1, 'John Doe', 35, 50000.0, 'Sales']\n",
      "[2, 'Jane Smith', 28, 42000.0, 'HR']\n",
      "[3, 'Mike Johnson', 42, 60000.0, 'Finance']\n",
      "[4, 'Emily Brown', 29, 48000.0, 'IT']\n",
      "[5, 'David Lee', 38, 55000.0, 'Sales']\n"
     ]
    }
   ],
   "source": [
    "# Retrieve all columns from the \"employees\" table\n",
    "query = \"\"\"SELECT * FROM employees\"\"\"\n",
    "result = execute_query(query)\n",
    "for row in result:\n",
    "    formatted_row = [convert_value(value) for value in row]\n",
    "    print(formatted_row)"
   ]
  },
  {
   "cell_type": "code",
   "execution_count": 44,
   "metadata": {},
   "outputs": [
    {
     "name": "stdout",
     "output_type": "stream",
     "text": [
      "['John Doe', 35]\n",
      "['Mike Johnson', 42]\n",
      "['David Lee', 38]\n"
     ]
    }
   ],
   "source": [
    "# Find the names and ages of all employees whose age is above 30\n",
    "query = \"\"\"SELECT employee_name, age FROM employees WHERE age > 30\"\"\"\n",
    "result = execute_query(query)\n",
    "for row in result:\n",
    "    formatted_row = [convert_value(value) for value in row]\n",
    "    print(formatted_row)"
   ]
  },
  {
   "cell_type": "code",
   "execution_count": 45,
   "metadata": {},
   "outputs": [
    {
     "name": "stdout",
     "output_type": "stream",
     "text": [
      "['New York']\n",
      "['Los Angeles']\n",
      "['Chicago']\n",
      "['Houston']\n",
      "['San Francisco']\n"
     ]
    }
   ],
   "source": [
    "# List the unique cities in the \"customers\" table\n",
    "query = \"\"\"SELECT DISTINCT city FROM customers\"\"\"\n",
    "result = execute_query(query)\n",
    "for row in result:\n",
    "    formatted_row = [convert_value(value) for value in row]\n",
    "    print(formatted_row)"
   ]
  },
  {
   "cell_type": "code",
   "execution_count": 46,
   "metadata": {},
   "outputs": [
    {
     "name": "stdout",
     "output_type": "stream",
     "text": [
      "[5]\n"
     ]
    }
   ],
   "source": [
    "# Calculate the total number of orders in the \"orders\" table\n",
    "query = \"\"\"SELECT COUNT(order_id) FROM orders;\"\"\"\n",
    "result = execute_query(query)\n",
    "for row in result:\n",
    "    formatted_row = [convert_value(value) for value in row]\n",
    "    print(formatted_row)"
   ]
  },
  {
   "cell_type": "code",
   "execution_count": 47,
   "metadata": {},
   "outputs": [
    {
     "name": "stdout",
     "output_type": "stream",
     "text": [
      "[32.618]\n"
     ]
    }
   ],
   "source": [
    "# Find the average price of all products in the \"products\" table\n",
    "query = \"\"\"SELECT AVG(price) FROM products;\"\"\"\n",
    "result = execute_query(query)\n",
    "for row in result:\n",
    "    formatted_row = [convert_value(value) for value in row]\n",
    "    print(formatted_row)"
   ]
  },
  {
   "cell_type": "markdown",
   "metadata": {},
   "source": [
    "## SQL Grouping"
   ]
  },
  {
   "cell_type": "code",
   "execution_count": 48,
   "metadata": {},
   "outputs": [
    {
     "name": "stdout",
     "output_type": "stream",
     "text": [
      "[201, 204.0]\n",
      "[202, 70.4]\n",
      "[204, 109.9]\n",
      "[205, 75.6]\n"
     ]
    }
   ],
   "source": [
    "# Calculate the total sales amount for each product in the \"sales\" table\n",
    "query = \"\"\"SELECT product_id, SUM(revenue) FROM sales GROUP BY product_id;\"\"\"\n",
    "result = execute_query(query)\n",
    "for row in result:\n",
    "    formatted_row = [convert_value(value) for value in row]\n",
    "    print(formatted_row)"
   ]
  },
  {
   "cell_type": "code",
   "execution_count": 49,
   "metadata": {},
   "outputs": [
    {
     "name": "stdout",
     "output_type": "stream",
     "text": [
      "['New York', 1]\n",
      "['Los Angeles', 1]\n",
      "['Chicago', 1]\n",
      "['Houston', 1]\n",
      "['San Francisco', 1]\n"
     ]
    }
   ],
   "source": [
    "# Find the number of customers in each country from the \"customers\" table\n",
    "query = \"\"\"SELECT city, COUNT(*) FROM customers GROUP BY city\"\"\"\n",
    "result = execute_query(query)\n",
    "for row in result:\n",
    "    formatted_row = [convert_value(value) for value in row]\n",
    "    print(formatted_row)"
   ]
  },
  {
   "cell_type": "code",
   "execution_count": 50,
   "metadata": {},
   "outputs": [
    {
     "name": "stdout",
     "output_type": "stream",
     "text": [
      "['Sales', 52500.0]\n",
      "['HR', 42000.0]\n",
      "['Finance', 60000.0]\n",
      "['IT', 48000.0]\n"
     ]
    }
   ],
   "source": [
    "# Calculate the average salary for each department in the \"employees\" table\n",
    "query = \"\"\"SELECT department, AVG(salary) FROM employees GROUP BY department;\"\"\"\n",
    "result = execute_query(query)\n",
    "for row in result:\n",
    "    formatted_row = [convert_value(value) for value in row]\n",
    "    print(formatted_row)"
   ]
  },
  {
   "cell_type": "code",
   "execution_count": 51,
   "metadata": {},
   "outputs": [
    {
     "name": "stdout",
     "output_type": "stream",
     "text": [
      "['Electronics', 35.2, 25.5]\n",
      "['Hardware', 15.8, 15.8]\n",
      "['Toys', 10.99, 10.99]\n",
      "['Home', 75.6, 75.6]\n"
     ]
    }
   ],
   "source": [
    "# List the highest and lowest prices for each category in the \"products\" table\n",
    "query = \"\"\"SELECT category, MAX(price), MIN(price) FROM products GROUP BY category;\"\"\"\n",
    "result = execute_query(query)\n",
    "for row in result:\n",
    "    formatted_row = [convert_value(value) for value in row]\n",
    "    print(formatted_row)"
   ]
  },
  {
   "cell_type": "code",
   "execution_count": 52,
   "metadata": {},
   "outputs": [
    {
     "name": "stdout",
     "output_type": "stream",
     "text": [
      "[101, 2]\n",
      "[102, 1]\n",
      "[103, 1]\n",
      "[105, 1]\n"
     ]
    }
   ],
   "source": [
    "# Find the number of orders placed by each customer in the \"orders\" table\n",
    "query = \"\"\"SELECT customer_id, COUNT(order_id) FROM orders GROUP BY customer_id;\"\"\"\n",
    "result = execute_query(query)\n",
    "for row in result:\n",
    "    formatted_row = [convert_value(value) for value in row]\n",
    "    print(formatted_row)"
   ]
  },
  {
   "cell_type": "markdown",
   "metadata": {},
   "source": [
    "## SQL Aggregation"
   ]
  },
  {
   "cell_type": "code",
   "execution_count": 53,
   "metadata": {},
   "outputs": [
    {
     "name": "stdout",
     "output_type": "stream",
     "text": [
      "[459.9]\n"
     ]
    }
   ],
   "source": [
    "# Calculate the total revenue generated by the company from the \"sales\" table\n",
    "query = \"\"\"SELECT SUM(revenue) FROM sales;\"\"\"\n",
    "result = execute_query(query)\n",
    "for row in result:\n",
    "    formatted_row = [convert_value(value) for value in row]\n",
    "    print(formatted_row)"
   ]
  },
  {
   "cell_type": "code",
   "execution_count": 54,
   "metadata": {},
   "outputs": [
    {
     "name": "stdout",
     "output_type": "stream",
     "text": [
      "[60000.0]\n"
     ]
    }
   ],
   "source": [
    "# Find the highest salary among all employees in the \"employees\" table\n",
    "query = \"\"\"SELECT MAX(salary) FROM employees;\"\"\"\n",
    "result = execute_query(query)\n",
    "for row in result:\n",
    "    formatted_row = [convert_value(value) for value in row]\n",
    "    print(formatted_row)"
   ]
  },
  {
   "cell_type": "code",
   "execution_count": 55,
   "metadata": {},
   "outputs": [
    {
     "name": "stdout",
     "output_type": "stream",
     "text": [
      "[34.4]\n"
     ]
    }
   ],
   "source": [
    "# Calculate the average age of employees in the \"employees\" table\n",
    "query = \"\"\"SELECT AVG(age) FROM employees;\"\"\"\n",
    "result = execute_query(query)\n",
    "for row in result:\n",
    "    formatted_row = [convert_value(value) for value in row]\n",
    "    print(formatted_row)"
   ]
  },
  {
   "cell_type": "code",
   "execution_count": 56,
   "metadata": {},
   "outputs": [
    {
     "name": "stdout",
     "output_type": "stream",
     "text": [
      "[5]\n"
     ]
    }
   ],
   "source": [
    "# Determine the number of distinct products in the \"products\" table\n",
    "query = \"\"\"SELECT COUNT(DISTINCT product_id) FROM products;\"\"\"\n",
    "result = execute_query(query)\n",
    "for row in result:\n",
    "    formatted_row = [convert_value(value) for value in row]\n",
    "    print(formatted_row)"
   ]
  },
  {
   "cell_type": "code",
   "execution_count": 57,
   "metadata": {},
   "outputs": [
    {
     "name": "stdout",
     "output_type": "stream",
     "text": [
      "[201, 8.0]\n",
      "[202, 2.0]\n",
      "[204, 10.0]\n",
      "[205, 1.0]\n"
     ]
    }
   ],
   "source": [
    "# Calculate the total quantity sold for each product in the \"sales\" table\n",
    "query = \"\"\"SELECT product_id, SUM(quantity) FROM sales GROUP BY product_id;\"\"\"\n",
    "result = execute_query(query)\n",
    "for row in result:\n",
    "    formatted_row = [convert_value(value) for value in row]\n",
    "    print(formatted_row)"
   ]
  },
  {
   "cell_type": "markdown",
   "metadata": {},
   "source": [
    "## Advanced SQL"
   ]
  },
  {
   "cell_type": "code",
   "execution_count": 58,
   "metadata": {},
   "outputs": [
    {
     "name": "stdout",
     "output_type": "stream",
     "text": [
      "[3, 'Mike Johnson', 42, 60000.0, 'Finance']\n",
      "[5, 'David Lee', 38, 55000.0, 'Sales']\n",
      "[1, 'John Doe', 35, 50000.0, 'Sales']\n",
      "[4, 'Emily Brown', 29, 48000.0, 'IT']\n",
      "[2, 'Jane Smith', 28, 42000.0, 'HR']\n"
     ]
    }
   ],
   "source": [
    "# Retrieve the top 5 employees with the highest salaries from the \"employees\" table\n",
    "query = \"\"\"SELECT * FROM employees ORDER BY salary DESC LIMIT 5;\"\"\"\n",
    "result = execute_query(query)\n",
    "for row in result:\n",
    "    formatted_row = [convert_value(value) for value in row]\n",
    "    print(formatted_row)"
   ]
  },
  {
   "cell_type": "code",
   "execution_count": 59,
   "metadata": {},
   "outputs": [
    {
     "name": "stdout",
     "output_type": "stream",
     "text": [
      "['Alice Johnson']\n",
      "['Bob Smith']\n",
      "['Eva Lee']\n",
      "['Sophia Wang']\n"
     ]
    }
   ],
   "source": [
    "# Find the names of all customers who have placed orders in the \"customers\" table\n",
    "query = \"\"\"SELECT DISTINCT c.customer_name FROM customers c\n",
    "            INNER JOIN orders o ON c.customer_id = o.customer_id;\"\"\"\n",
    "result = execute_query(query)\n",
    "for row in result:\n",
    "    formatted_row = [convert_value(value) for value in row]\n",
    "    print(formatted_row)"
   ]
  },
  {
   "cell_type": "code",
   "execution_count": 60,
   "metadata": {},
   "outputs": [
    {
     "name": "stdout",
     "output_type": "stream",
     "text": [
      "['2023-07', 459.9]\n"
     ]
    }
   ],
   "source": [
    "# Calculate the running total sales for each month in the \"sales\" table\n",
    "query = \"\"\"SELECT \n",
    "    DATE_FORMAT(sale_date, '%Y-%m') AS month,\n",
    "    SUM(revenue) FROM sales\n",
    "    GROUP BY DATE_FORMAT(sale_date, '%Y-%m')\n",
    "    ORDER BY DATE_FORMAT(sale_date, '%Y-%m');\"\"\"\n",
    "result = execute_query(query)\n",
    "for row in result:\n",
    "    formatted_row = [convert_value(value) for value in row]\n",
    "    print(formatted_row)"
   ]
  },
  {
   "cell_type": "code",
   "execution_count": 61,
   "metadata": {},
   "outputs": [
    {
     "name": "stdout",
     "output_type": "stream",
     "text": [
      "['2023-07-01', 201, 127.5, 127.5]\n",
      "['2023-07-03', 201, 76.5, 102.0]\n",
      "['2023-07-02', 202, 70.4, 70.4]\n",
      "['2023-07-03', 204, 109.9, 109.9]\n",
      "['2023-07-04', 205, 75.6, 75.6]\n"
     ]
    }
   ],
   "source": [
    "# Determine the average sales amount over a 3-month sliding window for each product in the \"sales\" table\n",
    "query = \"\"\"SELECT sale_date, product_id, revenue,\n",
    "    AVG(revenue) OVER (PARTITION BY product_id ORDER BY sale_date\n",
    "        RANGE BETWEEN INTERVAL '2' MONTH PRECEDING AND CURRENT ROW) FROM sales;\"\"\"\n",
    "result = execute_query(query)\n",
    "for row in result:\n",
    "    formatted_row = [convert_value(value) for value in row]\n",
    "    print(formatted_row)"
   ]
  },
  {
   "cell_type": "code",
   "execution_count": 62,
   "metadata": {},
   "outputs": [
    {
     "name": "stdout",
     "output_type": "stream",
     "text": [
      "[102, 250.75, 1]\n",
      "[101, 200.5, 2]\n",
      "[105, 150.3, 3]\n",
      "[103, 70.2, 4]\n"
     ]
    }
   ],
   "source": [
    "# Rank customers based on their total order amounts in the \"orders\" table\n",
    "query = \"\"\"SELECT customer_id, SUM(order_total) AS total_order_amount,\n",
    "            DENSE_RANK() OVER (ORDER BY SUM(order_total) DESC) FROM orders\n",
    "            GROUP BY customer_id\n",
    "            ORDER BY total_order_amount DESC;\"\"\"\n",
    "result = execute_query(query)\n",
    "for row in result:\n",
    "    formatted_row = [convert_value(value) for value in row]\n",
    "    print(formatted_row)"
   ]
  },
  {
   "cell_type": "markdown",
   "metadata": {},
   "source": [
    "## Window Functions in SQL"
   ]
  },
  {
   "cell_type": "code",
   "execution_count": 63,
   "metadata": {},
   "outputs": [
    {
     "name": "stdout",
     "output_type": "stream",
     "text": [
      "[201, 76.5, 76.5]\n",
      "[201, 127.5, 204.0]\n",
      "[202, 70.4, 70.4]\n",
      "[204, 109.9, 109.9]\n",
      "[205, 75.6, 75.6]\n"
     ]
    }
   ],
   "source": [
    "# Calculate the cumulative sum of revenue for each product in the \"sales\" table\n",
    "query = \"\"\"SELECT product_id, revenue,\n",
    "            SUM(revenue) OVER(PARTITION BY product_id ORDER BY revenue)\n",
    "            FROM sales;\"\"\"\n",
    "result = execute_query(query)\n",
    "for row in result:\n",
    "    formatted_row = [convert_value(value) for value in row]\n",
    "    print(formatted_row)"
   ]
  },
  {
   "cell_type": "code",
   "execution_count": 64,
   "metadata": {},
   "outputs": [
    {
     "name": "stdout",
     "output_type": "stream",
     "text": [
      "['Widget A', '2023-07-01', 25.5, 25.5]\n",
      "['Widget A', '2023-07-03', 25.5, 25.5]\n",
      "['Gadget B', '2023-07-02', 35.2, 35.2]\n",
      "['Toy D', '2023-07-03', 10.99, 10.99]\n",
      "['Appliance E', '2023-07-04', 75.6, 75.6]\n"
     ]
    }
   ],
   "source": [
    "# Find the moving average of prices for each product over a 5-day window in the \"products\" table\n",
    "query = \"\"\"SELECT p.product_name, s.sale_date, p.price,\n",
    "    AVG(p.price) OVER (PARTITION BY s.product_id ORDER BY s.sale_date ROWS BETWEEN 4 PRECEDING AND CURRENT ROW)\n",
    "    AS moving_average FROM sales s\n",
    "    JOIN products p ON s.product_id = p.product_id;\"\"\"\n",
    "result = execute_query(query)\n",
    "for row in result:\n",
    "    formatted_row = [convert_value(value) for value in row]\n",
    "    print(formatted_row)"
   ]
  },
  {
   "cell_type": "code",
   "execution_count": 65,
   "metadata": {},
   "outputs": [
    {
     "name": "stdout",
     "output_type": "stream",
     "text": [
      "[3, 60000.0, 0.0]\n",
      "[5, 55000.0, 0.25]\n",
      "[1, 50000.0, 0.5]\n",
      "[4, 48000.0, 0.75]\n",
      "[2, 42000.0, 1.0]\n"
     ]
    }
   ],
   "source": [
    "# Assign percentile ranks to employees based on their salaries in the \"employees\" table\n",
    "query = \"\"\"SELECT employee_id, salary,\n",
    "            PERCENT_RANK() OVER (ORDER BY salary DESC)\n",
    "            FROM employees;\"\"\"\n",
    "result = execute_query(query)\n",
    "for row in result:\n",
    "    formatted_row = [convert_value(value) for value in row]\n",
    "    print(formatted_row)"
   ]
  },
  {
   "cell_type": "code",
   "execution_count": 66,
   "metadata": {},
   "outputs": [
    {
     "name": "stdout",
     "output_type": "stream",
     "text": [
      "[1, 50000.0, 0.0]\n",
      "[2, 42000.0, 50000.0]\n",
      "[3, 60000.0, 42000.0]\n",
      "[4, 48000.0, 60000.0]\n",
      "[5, 55000.0, 48000.0]\n"
     ]
    }
   ],
   "source": [
    "# Retrieve the previous salary for each employee in the \"employees\" table,\n",
    "# considering 0 as the default value for the first row\n",
    "query = \"\"\"SELECT employee_id, salary,\n",
    "            COALESCE(LAG(salary) OVER (ORDER BY employee_id), 0)\n",
    "            FROM employees;\"\"\"\n",
    "result = execute_query(query)\n",
    "for row in result:\n",
    "    formatted_row = [convert_value(value) for value in row]\n",
    "    print(formatted_row)"
   ]
  },
  {
   "cell_type": "code",
   "execution_count": 67,
   "metadata": {},
   "outputs": [
    {
     "name": "stdout",
     "output_type": "stream",
     "text": [
      "[201, '2023-07-01', 127.5, 127.5]\n",
      "[201, '2023-07-03', 76.5, 204.0]\n",
      "[202, '2023-07-02', 70.4, 70.4]\n",
      "[204, '2023-07-03', 109.9, 109.9]\n",
      "[205, '2023-07-04', 75.6, 75.6]\n"
     ]
    }
   ],
   "source": [
    "# Calculate the sum of revenue for each product within a 2-day window,\n",
    "# including the current row, in the \"sales\" table\n",
    "query = \"\"\"SELECT product_id, sale_date, revenue,\n",
    "    SUM(revenue) OVER (PARTITION BY product_id ORDER BY sale_date ROWS BETWEEN 1 PRECEDING AND CURRENT ROW)\n",
    "    FROM sales;\"\"\"\n",
    "result = execute_query(query)\n",
    "for row in result:\n",
    "    formatted_row = [convert_value(value) for value in row]\n",
    "    print(formatted_row)"
   ]
  },
  {
   "cell_type": "code",
   "execution_count": 68,
   "metadata": {},
   "outputs": [
    {
     "name": "stdout",
     "output_type": "stream",
     "text": [
      "Connection closed.\n"
     ]
    }
   ],
   "source": [
    "\n",
    "connection.close()\n",
    "print('Connection closed.')"
   ]
  }
 ],
 "metadata": {
  "kernelspec": {
   "display_name": "Python 3",
   "language": "python",
   "name": "python3"
  },
  "language_info": {
   "codemirror_mode": {
    "name": "ipython",
    "version": 3
   },
   "file_extension": ".py",
   "mimetype": "text/x-python",
   "name": "python",
   "nbconvert_exporter": "python",
   "pygments_lexer": "ipython3",
   "version": "3.11.0"
  },
  "orig_nbformat": 4
 },
 "nbformat": 4,
 "nbformat_minor": 2
}
