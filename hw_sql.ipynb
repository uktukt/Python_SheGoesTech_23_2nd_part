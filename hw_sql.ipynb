{
 "cells": [
  {
   "cell_type": "code",
   "execution_count": 3,
   "metadata": {},
   "outputs": [
    {
     "name": "stdout",
     "output_type": "stream",
     "text": [
      "Connected to MySQL database!\n"
     ]
    }
   ],
   "source": [
    "import mysql.connector\n",
    "\n",
    "try:\n",
    "    connection = mysql.connector.connect(\n",
    "        host='localhost',\n",
    "        user='root',\n",
    "        password='1234',\n",
    "        database='advanced_sql')\n",
    "\n",
    "    if connection.is_connected():\n",
    "        print('Connected to MySQL database!')\n",
    "    else:\n",
    "        print('Failed to connect to the database.')\n",
    "except mysql.connector.Error as e:\n",
    "    print(f'Error connecting to MySQL: {e}')"
   ]
  },
  {
   "cell_type": "markdown",
   "metadata": {},
   "source": [
    "## Basic SQL"
   ]
  },
  {
   "cell_type": "code",
   "execution_count": 6,
   "metadata": {},
   "outputs": [
    {
     "name": "stdout",
     "output_type": "stream",
     "text": [
      "(1, 'John Doe', 35, Decimal('50000.00'), 'Sales')\n",
      "(2, 'Jane Smith', 28, Decimal('42000.00'), 'HR')\n",
      "(3, 'Mike Johnson', 42, Decimal('60000.00'), 'Finance')\n",
      "(4, 'Emily Brown', 29, Decimal('48000.00'), 'IT')\n",
      "(5, 'David Lee', 38, Decimal('55000.00'), 'Sales')\n"
     ]
    }
   ],
   "source": [
    "# Retrieve all columns from the \"employees\" table\n",
    "cursor = connection.cursor()\n",
    "query = 'SELECT * FROM employees'\n",
    "cursor.execute(query)\n",
    "rows = cursor.fetchall()\n",
    "\n",
    "for row in rows:\n",
    "    print(row)"
   ]
  },
  {
   "cell_type": "code",
   "execution_count": 8,
   "metadata": {},
   "outputs": [
    {
     "name": "stdout",
     "output_type": "stream",
     "text": [
      "('John Doe', 35)\n",
      "('Mike Johnson', 42)\n",
      "('David Lee', 38)\n"
     ]
    }
   ],
   "source": [
    "# Find the names and ages of all employees whose age is above 30\n",
    "cursor = connection.cursor()\n",
    "query = 'SELECT employee_name, age FROM employees WHERE age > 30'\n",
    "cursor.execute(query)\n",
    "rows = cursor.fetchall()\n",
    "\n",
    "for row in rows:\n",
    "    print(row)"
   ]
  },
  {
   "cell_type": "code",
   "execution_count": 9,
   "metadata": {},
   "outputs": [
    {
     "name": "stdout",
     "output_type": "stream",
     "text": [
      "('New York',)\n",
      "('Los Angeles',)\n",
      "('Chicago',)\n",
      "('Houston',)\n",
      "('San Francisco',)\n"
     ]
    }
   ],
   "source": [
    "# List the unique cities in the \"customers\" table\n",
    "cursor = connection.cursor()\n",
    "query = 'SELECT DISTINCT city FROM customers'\n",
    "cursor.execute(query)\n",
    "rows = cursor.fetchall()\n",
    "\n",
    "for row in rows:\n",
    "    print(row)"
   ]
  },
  {
   "cell_type": "code",
   "execution_count": 12,
   "metadata": {},
   "outputs": [
    {
     "name": "stdout",
     "output_type": "stream",
     "text": [
      "(5,)\n"
     ]
    }
   ],
   "source": [
    "# Calculate the total number of orders in the \"orders\" table\n",
    "cursor = connection.cursor()\n",
    "query = 'SELECT COUNT(order_id) FROM orders;'\n",
    "cursor.execute(query)\n",
    "rows = cursor.fetchall()\n",
    "\n",
    "for row in rows:\n",
    "    print(row)"
   ]
  },
  {
   "cell_type": "code",
   "execution_count": 13,
   "metadata": {},
   "outputs": [
    {
     "name": "stdout",
     "output_type": "stream",
     "text": [
      "(Decimal('32.62'),)\n"
     ]
    }
   ],
   "source": [
    "# Find the average price of all products in the \"products\" table\n",
    "cursor = connection.cursor()\n",
    "query = 'SELECT ROUND(AVG(price),2) FROM products;'\n",
    "cursor.execute(query)\n",
    "rows = cursor.fetchall()\n",
    "\n",
    "for row in rows:\n",
    "    print(row)"
   ]
  },
  {
   "cell_type": "markdown",
   "metadata": {},
   "source": [
    "## SQL Grouping"
   ]
  },
  {
   "cell_type": "code",
   "execution_count": 19,
   "metadata": {},
   "outputs": [
    {
     "name": "stdout",
     "output_type": "stream",
     "text": [
      "(201, Decimal('204.00'))\n",
      "(202, Decimal('70.40'))\n",
      "(204, Decimal('109.90'))\n",
      "(205, Decimal('75.60'))\n"
     ]
    }
   ],
   "source": [
    "# Calculate the total sales amount for each product in the \"sales\" table\n",
    "cursor = connection.cursor()\n",
    "query = 'SELECT product_id, SUM(revenue) FROM sales GROUP BY product_id;'\n",
    "cursor.execute(query)\n",
    "rows = cursor.fetchall()\n",
    "\n",
    "for row in rows:\n",
    "    print(row)"
   ]
  },
  {
   "cell_type": "code",
   "execution_count": 10,
   "metadata": {},
   "outputs": [
    {
     "name": "stdout",
     "output_type": "stream",
     "text": [
      "('New York', 1)\n",
      "('Los Angeles', 1)\n",
      "('Chicago', 1)\n",
      "('Houston', 1)\n",
      "('San Francisco', 1)\n"
     ]
    }
   ],
   "source": [
    "# Find the number of customers in each country from the \"customers\" table\n",
    "cursor = connection.cursor()\n",
    "query = \"\"\"SELECT city, COUNT(*) FROM customers GROUP BY city\"\"\"\n",
    "cursor.execute(query)\n",
    "rows = cursor.fetchall()\n",
    "\n",
    "for row in rows:\n",
    "    print(row)"
   ]
  },
  {
   "cell_type": "code",
   "execution_count": 14,
   "metadata": {},
   "outputs": [
    {
     "name": "stdout",
     "output_type": "stream",
     "text": [
      "('Sales', Decimal('52500'))\n",
      "('HR', Decimal('42000'))\n",
      "('Finance', Decimal('60000'))\n",
      "('IT', Decimal('48000'))\n"
     ]
    }
   ],
   "source": [
    "# Calculate the average salary for each department in the \"employees\" table\n",
    "cursor = connection.cursor()\n",
    "query = \"\"\"SELECT department, ROUND(AVG(salary)) FROM employees GROUP BY department;\"\"\"\n",
    "cursor.execute(query)\n",
    "rows = cursor.fetchall()\n",
    "\n",
    "for row in rows:\n",
    "    print(row)"
   ]
  },
  {
   "cell_type": "code",
   "execution_count": 15,
   "metadata": {},
   "outputs": [
    {
     "name": "stdout",
     "output_type": "stream",
     "text": [
      "('Electronics', Decimal('35.20'), Decimal('25.50'))\n",
      "('Hardware', Decimal('15.80'), Decimal('15.80'))\n",
      "('Toys', Decimal('10.99'), Decimal('10.99'))\n",
      "('Home', Decimal('75.60'), Decimal('75.60'))\n"
     ]
    }
   ],
   "source": [
    "# List the highest and lowest prices for each category in the \"products\" table\n",
    "cursor = connection.cursor()\n",
    "query = \"\"\"SELECT category, MAX(price), MIN(price) FROM products GROUP BY category;\"\"\"\n",
    "cursor.execute(query)\n",
    "rows = cursor.fetchall()\n",
    "\n",
    "for row in rows:\n",
    "    print(row)\n"
   ]
  },
  {
   "cell_type": "code",
   "execution_count": 16,
   "metadata": {},
   "outputs": [
    {
     "name": "stdout",
     "output_type": "stream",
     "text": [
      "(101, 2)\n",
      "(102, 1)\n",
      "(103, 1)\n",
      "(105, 1)\n"
     ]
    }
   ],
   "source": [
    "# Find the number of orders placed by each customer in the \"orders\" table\n",
    "cursor = connection.cursor()\n",
    "query = \"\"\"SELECT customer_id, COUNT(order_id) FROM orders GROUP BY customer_id;\"\"\"\n",
    "cursor.execute(query)\n",
    "rows = cursor.fetchall()\n",
    "\n",
    "for row in rows:\n",
    "    print(row)"
   ]
  },
  {
   "cell_type": "markdown",
   "metadata": {},
   "source": [
    "## SQL Aggregation"
   ]
  },
  {
   "cell_type": "code",
   "execution_count": 20,
   "metadata": {},
   "outputs": [
    {
     "name": "stdout",
     "output_type": "stream",
     "text": [
      "(Decimal('459.90'),)\n"
     ]
    }
   ],
   "source": [
    "# Calculate the total revenue generated by the company from the \"sales\" table\n",
    "cursor = connection.cursor()\n",
    "query = \"\"\"SELECT SUM(revenue) FROM sales;\"\"\"\n",
    "cursor.execute(query)\n",
    "rows = cursor.fetchall()\n",
    "\n",
    "for row in rows:\n",
    "    print(row)"
   ]
  },
  {
   "cell_type": "code",
   "execution_count": 22,
   "metadata": {},
   "outputs": [
    {
     "name": "stdout",
     "output_type": "stream",
     "text": [
      "(Decimal('60000'),)\n"
     ]
    }
   ],
   "source": [
    "# Find the highest salary among all employees in the \"employees\" table\n",
    "cursor = connection.cursor()\n",
    "query = \"\"\"SELECT ROUND(MAX(salary)) FROM employees;\"\"\"\n",
    "cursor.execute(query)\n",
    "rows = cursor.fetchall()\n",
    "\n",
    "for row in rows:\n",
    "    print(row)"
   ]
  },
  {
   "cell_type": "code",
   "execution_count": 23,
   "metadata": {},
   "outputs": [
    {
     "name": "stdout",
     "output_type": "stream",
     "text": [
      "(Decimal('34.4000'),)\n"
     ]
    }
   ],
   "source": [
    "# Calculate the average age of employees in the \"employees\" table\n",
    "cursor = connection.cursor()\n",
    "query = \"\"\"SELECT AVG(age) FROM employees;\"\"\"\n",
    "cursor.execute(query)\n",
    "rows = cursor.fetchall()\n",
    "\n",
    "for row in rows:\n",
    "    print(row)"
   ]
  },
  {
   "cell_type": "code",
   "execution_count": null,
   "metadata": {},
   "outputs": [],
   "source": [
    "# Determine the number of distinct products in the \"products\" table"
   ]
  },
  {
   "cell_type": "code",
   "execution_count": null,
   "metadata": {},
   "outputs": [],
   "source": [
    "# Calculate the total quantity sold for each product in the \"sales\" table"
   ]
  },
  {
   "cell_type": "markdown",
   "metadata": {},
   "source": [
    "## Advanced SQL"
   ]
  },
  {
   "cell_type": "code",
   "execution_count": null,
   "metadata": {},
   "outputs": [],
   "source": [
    "# Retrieve the top 5 employees with the highest salaries from the \"employees\" table"
   ]
  },
  {
   "cell_type": "code",
   "execution_count": null,
   "metadata": {},
   "outputs": [],
   "source": [
    "# Find the names of all customers who have placed orders in the \"customers\" table"
   ]
  },
  {
   "cell_type": "code",
   "execution_count": null,
   "metadata": {},
   "outputs": [],
   "source": [
    "# Calculate the running total sales for each month in the \"sales\" table"
   ]
  },
  {
   "cell_type": "code",
   "execution_count": null,
   "metadata": {},
   "outputs": [],
   "source": [
    "# Determine the average sales amount over a 3-month sliding window for each product in the \"sales\" table"
   ]
  },
  {
   "cell_type": "code",
   "execution_count": null,
   "metadata": {},
   "outputs": [],
   "source": [
    "# Rank customers based on their total order amounts in the \"orders\" table"
   ]
  },
  {
   "cell_type": "markdown",
   "metadata": {},
   "source": [
    "## Window Functions in SQL"
   ]
  },
  {
   "cell_type": "code",
   "execution_count": null,
   "metadata": {},
   "outputs": [],
   "source": [
    "# Calculate the cumulative sum of revenue for each product in the \"sales\" table"
   ]
  },
  {
   "cell_type": "code",
   "execution_count": null,
   "metadata": {},
   "outputs": [],
   "source": [
    "# Find the moving average of prices for each product over a 5-day window in the \"products\" table"
   ]
  },
  {
   "cell_type": "code",
   "execution_count": null,
   "metadata": {},
   "outputs": [],
   "source": [
    "# Assign percentile ranks to employees based on their salaries in the \"employees\" table"
   ]
  },
  {
   "cell_type": "code",
   "execution_count": null,
   "metadata": {},
   "outputs": [],
   "source": [
    "# Retrieve the previous salary for each employee in the \"employees\" table,\n",
    "# considering 0 as the default value for the first row"
   ]
  },
  {
   "cell_type": "code",
   "execution_count": null,
   "metadata": {},
   "outputs": [],
   "source": [
    "# Calculate the sum of revenue for each product within a 2-day window,\n",
    "# including the current row, in the \"sales\" table"
   ]
  },
  {
   "cell_type": "code",
   "execution_count": null,
   "metadata": {},
   "outputs": [],
   "source": [
    "\n",
    "connection.close()\n",
    "print('Connection closed.')"
   ]
  }
 ],
 "metadata": {
  "kernelspec": {
   "display_name": "Python 3",
   "language": "python",
   "name": "python3"
  },
  "language_info": {
   "codemirror_mode": {
    "name": "ipython",
    "version": 3
   },
   "file_extension": ".py",
   "mimetype": "text/x-python",
   "name": "python",
   "nbconvert_exporter": "python",
   "pygments_lexer": "ipython3",
   "version": "3.11.0"
  },
  "orig_nbformat": 4
 },
 "nbformat": 4,
 "nbformat_minor": 2
}
