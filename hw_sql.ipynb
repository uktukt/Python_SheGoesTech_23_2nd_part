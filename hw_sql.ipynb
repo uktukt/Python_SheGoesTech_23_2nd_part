{
 "cells": [
  {
   "cell_type": "code",
   "execution_count": 3,
   "metadata": {},
   "outputs": [
    {
     "name": "stdout",
     "output_type": "stream",
     "text": [
      "Connected to MySQL database!\n"
     ]
    }
   ],
   "source": [
    "import mysql.connector\n",
    "\n",
    "try:\n",
    "    connection = mysql.connector.connect(\n",
    "        host='localhost',\n",
    "        user='root',\n",
    "        password='1234',\n",
    "        database='advanced_sql')\n",
    "\n",
    "    if connection.is_connected():\n",
    "        print('Connected to MySQL database!')\n",
    "    else:\n",
    "        print('Failed to connect to the database.')\n",
    "except mysql.connector.Error as e:\n",
    "    print(f'Error connecting to MySQL: {e}')"
   ]
  },
  {
   "cell_type": "code",
   "execution_count": 27,
   "metadata": {},
   "outputs": [],
   "source": [
    "def execute_query(cursor, query):\n",
    "    cursor = connection.cursor()\n",
    "    cursor.execute(query)\n",
    "    rows = cursor.fetchall()\n",
    "    return rows"
   ]
  },
  {
   "cell_type": "markdown",
   "metadata": {},
   "source": [
    "## Basic SQL"
   ]
  },
  {
   "cell_type": "code",
   "execution_count": 29,
   "metadata": {},
   "outputs": [
    {
     "name": "stdout",
     "output_type": "stream",
     "text": [
      "(1, 'John Doe', 35, Decimal('50000.00'), 'Sales')\n",
      "(2, 'Jane Smith', 28, Decimal('42000.00'), 'HR')\n",
      "(3, 'Mike Johnson', 42, Decimal('60000.00'), 'Finance')\n",
      "(4, 'Emily Brown', 29, Decimal('48000.00'), 'IT')\n",
      "(5, 'David Lee', 38, Decimal('55000.00'), 'Sales')\n"
     ]
    }
   ],
   "source": [
    "# Retrieve all columns from the \"employees\" table\n",
    "query = 'SELECT * FROM employees'\n",
    "result = execute_query(cursor, query)\n",
    "for row in result:\n",
    "    print(row)"
   ]
  },
  {
   "cell_type": "code",
   "execution_count": 30,
   "metadata": {},
   "outputs": [
    {
     "name": "stdout",
     "output_type": "stream",
     "text": [
      "('John Doe', 35)\n",
      "('Mike Johnson', 42)\n",
      "('David Lee', 38)\n"
     ]
    }
   ],
   "source": [
    "# Find the names and ages of all employees whose age is above 30\n",
    "query = 'SELECT employee_name, age FROM employees WHERE age > 30'\n",
    "result = execute_query(cursor, query)\n",
    "for row in result:\n",
    "    print(row)"
   ]
  },
  {
   "cell_type": "code",
   "execution_count": 31,
   "metadata": {},
   "outputs": [
    {
     "name": "stdout",
     "output_type": "stream",
     "text": [
      "('New York',)\n",
      "('Los Angeles',)\n",
      "('Chicago',)\n",
      "('Houston',)\n",
      "('San Francisco',)\n"
     ]
    }
   ],
   "source": [
    "# List the unique cities in the \"customers\" table\n",
    "query = 'SELECT DISTINCT city FROM customers'\n",
    "result = execute_query(cursor, query)\n",
    "for row in result:\n",
    "    print(row)"
   ]
  },
  {
   "cell_type": "code",
   "execution_count": 32,
   "metadata": {},
   "outputs": [
    {
     "name": "stdout",
     "output_type": "stream",
     "text": [
      "(5,)\n"
     ]
    }
   ],
   "source": [
    "# Calculate the total number of orders in the \"orders\" table\n",
    "query = 'SELECT COUNT(order_id) FROM orders;'\n",
    "result = execute_query(cursor, query)\n",
    "for row in result:\n",
    "    print(row)"
   ]
  },
  {
   "cell_type": "code",
   "execution_count": 33,
   "metadata": {},
   "outputs": [
    {
     "name": "stdout",
     "output_type": "stream",
     "text": [
      "(Decimal('32.62'),)\n"
     ]
    }
   ],
   "source": [
    "# Find the average price of all products in the \"products\" table\n",
    "query = 'SELECT ROUND(AVG(price),2) FROM products;'\n",
    "result = execute_query(cursor, query)\n",
    "for row in result:\n",
    "    print(row)"
   ]
  },
  {
   "cell_type": "markdown",
   "metadata": {},
   "source": [
    "## SQL Grouping"
   ]
  },
  {
   "cell_type": "code",
   "execution_count": 34,
   "metadata": {},
   "outputs": [
    {
     "name": "stdout",
     "output_type": "stream",
     "text": [
      "(201, Decimal('204.00'))\n",
      "(202, Decimal('70.40'))\n",
      "(204, Decimal('109.90'))\n",
      "(205, Decimal('75.60'))\n"
     ]
    }
   ],
   "source": [
    "# Calculate the total sales amount for each product in the \"sales\" table\n",
    "query = 'SELECT product_id, SUM(revenue) FROM sales GROUP BY product_id;'\n",
    "result = execute_query(cursor, query)\n",
    "for row in result:\n",
    "    print(row)"
   ]
  },
  {
   "cell_type": "code",
   "execution_count": 35,
   "metadata": {},
   "outputs": [
    {
     "name": "stdout",
     "output_type": "stream",
     "text": [
      "('New York', 1)\n",
      "('Los Angeles', 1)\n",
      "('Chicago', 1)\n",
      "('Houston', 1)\n",
      "('San Francisco', 1)\n"
     ]
    }
   ],
   "source": [
    "# Find the number of customers in each country from the \"customers\" table\n",
    "query = \"\"\"SELECT city, COUNT(*) FROM customers GROUP BY city\"\"\"\n",
    "result = execute_query(cursor, query)\n",
    "for row in result:\n",
    "    print(row)"
   ]
  },
  {
   "cell_type": "code",
   "execution_count": 36,
   "metadata": {},
   "outputs": [
    {
     "name": "stdout",
     "output_type": "stream",
     "text": [
      "('Sales', Decimal('52500'))\n",
      "('HR', Decimal('42000'))\n",
      "('Finance', Decimal('60000'))\n",
      "('IT', Decimal('48000'))\n"
     ]
    }
   ],
   "source": [
    "# Calculate the average salary for each department in the \"employees\" table\n",
    "query = \"\"\"SELECT department, ROUND(AVG(salary)) FROM employees GROUP BY department;\"\"\"\n",
    "result = execute_query(cursor, query)\n",
    "for row in result:\n",
    "    print(row)"
   ]
  },
  {
   "cell_type": "code",
   "execution_count": 37,
   "metadata": {},
   "outputs": [
    {
     "name": "stdout",
     "output_type": "stream",
     "text": [
      "('Electronics', Decimal('35.20'), Decimal('25.50'))\n",
      "('Hardware', Decimal('15.80'), Decimal('15.80'))\n",
      "('Toys', Decimal('10.99'), Decimal('10.99'))\n",
      "('Home', Decimal('75.60'), Decimal('75.60'))\n"
     ]
    }
   ],
   "source": [
    "# List the highest and lowest prices for each category in the \"products\" table\n",
    "query = \"\"\"SELECT category, MAX(price), MIN(price) FROM products GROUP BY category;\"\"\"\n",
    "result = execute_query(cursor, query)\n",
    "for row in result:\n",
    "    print(row)"
   ]
  },
  {
   "cell_type": "code",
   "execution_count": 38,
   "metadata": {},
   "outputs": [
    {
     "name": "stdout",
     "output_type": "stream",
     "text": [
      "(101, 2)\n",
      "(102, 1)\n",
      "(103, 1)\n",
      "(105, 1)\n"
     ]
    }
   ],
   "source": [
    "# Find the number of orders placed by each customer in the \"orders\" table\n",
    "query = \"\"\"SELECT customer_id, COUNT(order_id) FROM orders GROUP BY customer_id;\"\"\"\n",
    "result = execute_query(cursor, query)\n",
    "for row in result:\n",
    "    print(row)"
   ]
  },
  {
   "cell_type": "markdown",
   "metadata": {},
   "source": [
    "## SQL Aggregation"
   ]
  },
  {
   "cell_type": "code",
   "execution_count": 39,
   "metadata": {},
   "outputs": [
    {
     "name": "stdout",
     "output_type": "stream",
     "text": [
      "(Decimal('459.90'),)\n"
     ]
    }
   ],
   "source": [
    "# Calculate the total revenue generated by the company from the \"sales\" table\n",
    "query = \"\"\"SELECT SUM(revenue) FROM sales;\"\"\"\n",
    "result = execute_query(cursor, query)\n",
    "for row in result:\n",
    "    print(row)"
   ]
  },
  {
   "cell_type": "code",
   "execution_count": 40,
   "metadata": {},
   "outputs": [
    {
     "name": "stdout",
     "output_type": "stream",
     "text": [
      "(Decimal('60000'),)\n"
     ]
    }
   ],
   "source": [
    "# Find the highest salary among all employees in the \"employees\" table\n",
    "query = \"\"\"SELECT ROUND(MAX(salary)) FROM employees;\"\"\"\n",
    "result = execute_query(cursor, query)\n",
    "for row in result:\n",
    "    print(row)"
   ]
  },
  {
   "cell_type": "code",
   "execution_count": 41,
   "metadata": {},
   "outputs": [
    {
     "name": "stdout",
     "output_type": "stream",
     "text": [
      "(Decimal('34.4000'),)\n"
     ]
    }
   ],
   "source": [
    "# Calculate the average age of employees in the \"employees\" table\n",
    "query = \"\"\"SELECT AVG(age) FROM employees;\"\"\"\n",
    "result = execute_query(cursor, query)\n",
    "for row in result:\n",
    "    print(row)"
   ]
  },
  {
   "cell_type": "code",
   "execution_count": 42,
   "metadata": {},
   "outputs": [
    {
     "name": "stdout",
     "output_type": "stream",
     "text": [
      "(5,)\n"
     ]
    }
   ],
   "source": [
    "# Determine the number of distinct products in the \"products\" table\n",
    "query = \"\"\"SELECT COUNT(DISTINCT product_id) FROM products;\"\"\"\n",
    "result = execute_query(cursor, query)\n",
    "for row in result:\n",
    "    print(row)"
   ]
  },
  {
   "cell_type": "code",
   "execution_count": 43,
   "metadata": {},
   "outputs": [
    {
     "name": "stdout",
     "output_type": "stream",
     "text": [
      "(201, Decimal('8'))\n",
      "(202, Decimal('2'))\n",
      "(204, Decimal('10'))\n",
      "(205, Decimal('1'))\n"
     ]
    }
   ],
   "source": [
    "# Calculate the total quantity sold for each product in the \"sales\" table\n",
    "query = \"\"\"SELECT product_id, SUM(quantity) FROM sales GROUP BY product_id;\"\"\"\n",
    "result = execute_query(cursor, query)\n",
    "for row in result:\n",
    "    print(row)"
   ]
  },
  {
   "cell_type": "markdown",
   "metadata": {},
   "source": [
    "## Advanced SQL"
   ]
  },
  {
   "cell_type": "code",
   "execution_count": 47,
   "metadata": {},
   "outputs": [
    {
     "name": "stdout",
     "output_type": "stream",
     "text": [
      "(3, 'Mike Johnson', 42, Decimal('60000.00'), 'Finance')\n",
      "(5, 'David Lee', 38, Decimal('55000.00'), 'Sales')\n",
      "(1, 'John Doe', 35, Decimal('50000.00'), 'Sales')\n",
      "(4, 'Emily Brown', 29, Decimal('48000.00'), 'IT')\n",
      "(2, 'Jane Smith', 28, Decimal('42000.00'), 'HR')\n"
     ]
    }
   ],
   "source": [
    "# Retrieve the top 5 employees with the highest salaries from the \"employees\" table\n",
    "query = \"\"\"SELECT * FROM employees ORDER BY salary DESC LIMIT 5;\"\"\"\n",
    "result = execute_query(cursor, query)\n",
    "for row in result:\n",
    "    print(row)"
   ]
  },
  {
   "cell_type": "code",
   "execution_count": 49,
   "metadata": {},
   "outputs": [
    {
     "name": "stdout",
     "output_type": "stream",
     "text": [
      "('Alice Johnson',)\n",
      "('Bob Smith',)\n",
      "('Eva Lee',)\n",
      "('Sophia Wang',)\n"
     ]
    }
   ],
   "source": [
    "# Find the names of all customers who have placed orders in the \"customers\" table\n",
    "query = \"\"\"SELECT DISTINCT c.customer_name FROM customers c\n",
    "            INNER JOIN orders o ON c.customer_id = o.customer_id;\"\"\"\n",
    "result = execute_query(cursor, query)\n",
    "for row in result:\n",
    "    print(row)"
   ]
  },
  {
   "cell_type": "code",
   "execution_count": 56,
   "metadata": {},
   "outputs": [
    {
     "name": "stdout",
     "output_type": "stream",
     "text": [
      "('2023-07', Decimal('459.90'))\n"
     ]
    }
   ],
   "source": [
    "# Calculate the running total sales for each month in the \"sales\" table\n",
    "query = \"\"\"SELECT \n",
    "    DATE_FORMAT(sale_date, '%Y-%m') AS month,\n",
    "    SUM(revenue) FROM sales\n",
    "    GROUP BY DATE_FORMAT(sale_date, '%Y-%m')\n",
    "    ORDER BY DATE_FORMAT(sale_date, '%Y-%m');\"\"\"\n",
    "result = execute_query(cursor, query)\n",
    "for row in result:\n",
    "    print(row)"
   ]
  },
  {
   "cell_type": "code",
   "execution_count": 57,
   "metadata": {},
   "outputs": [
    {
     "name": "stdout",
     "output_type": "stream",
     "text": [
      "(datetime.date(2023, 7, 1), 201, Decimal('127.50'), Decimal('127.500000'))\n",
      "(datetime.date(2023, 7, 3), 201, Decimal('76.50'), Decimal('102.000000'))\n",
      "(datetime.date(2023, 7, 2), 202, Decimal('70.40'), Decimal('70.400000'))\n",
      "(datetime.date(2023, 7, 3), 204, Decimal('109.90'), Decimal('109.900000'))\n",
      "(datetime.date(2023, 7, 4), 205, Decimal('75.60'), Decimal('75.600000'))\n"
     ]
    }
   ],
   "source": [
    "# Determine the average sales amount over a 3-month sliding window for each product in the \"sales\" table\n",
    "query = \"\"\"SELECT sale_date, product_id, revenue,\n",
    "    AVG(revenue) OVER (PARTITION BY product_id ORDER BY sale_date\n",
    "        RANGE BETWEEN INTERVAL '2' MONTH PRECEDING AND CURRENT ROW) FROM sales;\"\"\"\n",
    "result = execute_query(cursor, query)\n",
    "for row in result:\n",
    "    print(row)"
   ]
  },
  {
   "cell_type": "code",
   "execution_count": 63,
   "metadata": {},
   "outputs": [
    {
     "name": "stdout",
     "output_type": "stream",
     "text": [
      "(102, Decimal('250.75'), 1)\n",
      "(101, Decimal('200.50'), 2)\n",
      "(105, Decimal('150.30'), 3)\n",
      "(103, Decimal('70.20'), 4)\n"
     ]
    }
   ],
   "source": [
    "# Rank customers based on their total order amounts in the \"orders\" table\n",
    "query = \"\"\"SELECT customer_id, SUM(order_total) AS total_order_amount,\n",
    "            DENSE_RANK() OVER (ORDER BY SUM(order_total) DESC) FROM orders\n",
    "            GROUP BY customer_id\n",
    "            ORDER BY total_order_amount DESC;\"\"\"\n",
    "result = execute_query(cursor, query)\n",
    "for row in result:\n",
    "    print(row)"
   ]
  },
  {
   "cell_type": "markdown",
   "metadata": {},
   "source": [
    "## Window Functions in SQL"
   ]
  },
  {
   "cell_type": "code",
   "execution_count": null,
   "metadata": {},
   "outputs": [],
   "source": [
    "# Calculate the cumulative sum of revenue for each product in the \"sales\" table\n",
    "query = \"\"\"\n",
    "\"\"\"\n",
    "result = execute_query(cursor, query)\n",
    "for row in result:\n",
    "    print(row)"
   ]
  },
  {
   "cell_type": "code",
   "execution_count": null,
   "metadata": {},
   "outputs": [],
   "source": [
    "# Find the moving average of prices for each product over a 5-day window in the \"products\" table\n",
    "query = \"\"\"\n",
    "\"\"\"\n",
    "result = execute_query(cursor, query)\n",
    "for row in result:\n",
    "    print(row)"
   ]
  },
  {
   "cell_type": "code",
   "execution_count": null,
   "metadata": {},
   "outputs": [],
   "source": [
    "# Assign percentile ranks to employees based on their salaries in the \"employees\" table\n",
    "query = \"\"\"\n",
    "\"\"\"\n",
    "result = execute_query(cursor, query)\n",
    "for row in result:\n",
    "    print(row)"
   ]
  },
  {
   "cell_type": "code",
   "execution_count": null,
   "metadata": {},
   "outputs": [],
   "source": [
    "# Retrieve the previous salary for each employee in the \"employees\" table,\n",
    "# considering 0 as the default value for the first row\n",
    "query = \"\"\"\n",
    "\"\"\"\n",
    "result = execute_query(cursor, query)\n",
    "for row in result:\n",
    "    print(row)"
   ]
  },
  {
   "cell_type": "code",
   "execution_count": null,
   "metadata": {},
   "outputs": [],
   "source": [
    "# Calculate the sum of revenue for each product within a 2-day window,\n",
    "# including the current row, in the \"sales\" table\n",
    "query = \"\"\"\n",
    "\"\"\"\n",
    "result = execute_query(cursor, query)\n",
    "for row in result:\n",
    "    print(row)"
   ]
  },
  {
   "cell_type": "code",
   "execution_count": null,
   "metadata": {},
   "outputs": [],
   "source": [
    "\n",
    "connection.close()\n",
    "print('Connection closed.')"
   ]
  }
 ],
 "metadata": {
  "kernelspec": {
   "display_name": "Python 3",
   "language": "python",
   "name": "python3"
  },
  "language_info": {
   "codemirror_mode": {
    "name": "ipython",
    "version": 3
   },
   "file_extension": ".py",
   "mimetype": "text/x-python",
   "name": "python",
   "nbconvert_exporter": "python",
   "pygments_lexer": "ipython3",
   "version": "3.11.0"
  },
  "orig_nbformat": 4
 },
 "nbformat": 4,
 "nbformat_minor": 2
}
