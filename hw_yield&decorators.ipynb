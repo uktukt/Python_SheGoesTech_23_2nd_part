{
 "cells": [
  {
   "attachments": {},
   "cell_type": "markdown",
   "metadata": {},
   "source": [
    "1st part of homework (task2)"
   ]
  },
  {
   "attachments": {},
   "cell_type": "markdown",
   "metadata": {},
   "source": [
    "1) Create a generator for prime numbers:\n",
    "Write a generator function that generates prime numbers. Each call to the generator should yield the next prime number."
   ]
  },
  {
   "cell_type": "code",
   "execution_count": 5,
   "metadata": {},
   "outputs": [],
   "source": [
    "def prime_gen():\n",
    "    def is_prime(n):\n",
    "        if n < 2:\n",
    "            return False\n",
    "        for i in range(2, int(n**0.5) + 1):\n",
    "            if n % i == 0:\n",
    "                return False\n",
    "        return True\n",
    "\n",
    "    num = 2\n",
    "    while True:\n",
    "        if is_prime(num):\n",
    "            yield num\n",
    "        num += 1"
   ]
  },
  {
   "cell_type": "code",
   "execution_count": 6,
   "metadata": {},
   "outputs": [],
   "source": [
    "prime_generator = prime_gen()"
   ]
  },
  {
   "cell_type": "code",
   "execution_count": 15,
   "metadata": {},
   "outputs": [
    {
     "data": {
      "text/plain": [
       "23"
      ]
     },
     "execution_count": 15,
     "metadata": {},
     "output_type": "execute_result"
    }
   ],
   "source": [
    "next(prime_generator)"
   ]
  },
  {
   "attachments": {},
   "cell_type": "markdown",
   "metadata": {},
   "source": [
    "2) Create a generator to generate random numbers within a range:\n",
    "Write a generator function that generates random numbers within a specified range. Each call to the generator should yield a random number."
   ]
  },
  {
   "cell_type": "code",
   "execution_count": 5,
   "metadata": {},
   "outputs": [],
   "source": [
    "import random"
   ]
  },
  {
   "cell_type": "code",
   "execution_count": 6,
   "metadata": {},
   "outputs": [],
   "source": [
    "def random_num(start, end):\n",
    "    while True:\n",
    "        yield random.randint(start, end)\n",
    "\n",
    "random_gen = random_num(0, 100)"
   ]
  },
  {
   "cell_type": "code",
   "execution_count": 7,
   "metadata": {},
   "outputs": [
    {
     "name": "stdout",
     "output_type": "stream",
     "text": [
      "46\n"
     ]
    }
   ],
   "source": [
    "print(next(random_gen))"
   ]
  },
  {
   "attachments": {},
   "cell_type": "markdown",
   "metadata": {},
   "source": [
    "3) Create a generator to generate permutations of a list:\n",
    "Write a generator function that generates all possible permutations of a given list. Each call to the generator should yield a different permutation."
   ]
  },
  {
   "cell_type": "code",
   "execution_count": 8,
   "metadata": {},
   "outputs": [],
   "source": [
    "import itertools"
   ]
  },
  {
   "cell_type": "code",
   "execution_count": 9,
   "metadata": {},
   "outputs": [],
   "source": [
    "perm_list = [1, 2, 3, 4, 5]\n",
    "def permutations(perm_list):\n",
    "    permutation = itertools.permutations(perm_list)\n",
    "\n",
    "    for _ in permutation:\n",
    "        return permutation"
   ]
  },
  {
   "cell_type": "code",
   "execution_count": 10,
   "metadata": {},
   "outputs": [],
   "source": [
    "permutations_gen = permutations(perm_list)"
   ]
  },
  {
   "cell_type": "code",
   "execution_count": 31,
   "metadata": {},
   "outputs": [
    {
     "data": {
      "text/plain": [
       "(1, 3, 2, 4, 5)"
      ]
     },
     "execution_count": 31,
     "metadata": {},
     "output_type": "execute_result"
    }
   ],
   "source": [
    "next(permutations_gen)"
   ]
  },
  {
   "attachments": {},
   "cell_type": "markdown",
   "metadata": {},
   "source": [
    "4) Implement a memoization decorator:\n",
    "Write a decorator that caches the result of a function for given input arguments. \n",
    "Apply this decorator to a computationally expensive function and observe the improved performance by reusing cached results."
   ]
  },
  {
   "cell_type": "code",
   "execution_count": 12,
   "metadata": {},
   "outputs": [],
   "source": [
    "import functools"
   ]
  },
  {
   "cell_type": "code",
   "execution_count": 13,
   "metadata": {},
   "outputs": [],
   "source": [
    "def memoize(fun):\n",
    "    cache = {}\n",
    "\n",
    "    @functools.wraps(fun)\n",
    "    def wrapper(*args, **kwargs):\n",
    "        key = str(args) + str(sorted(kwargs.items()))\n",
    "        if key in cache:\n",
    "            return cache[key]\n",
    "        else:\n",
    "            result = fun(*args, **kwargs)\n",
    "            cache[key] = result\n",
    "            return result\n",
    "\n",
    "    return wrapper"
   ]
  },
  {
   "cell_type": "code",
   "execution_count": 14,
   "metadata": {},
   "outputs": [],
   "source": [
    "@memoize\n",
    "def concatenated(*args, **kwargs):\n",
    "    text = ' '.join(args) + ' ' + ' '.join(kwargs.values())\n",
    "    return text"
   ]
  },
  {
   "cell_type": "code",
   "execution_count": 15,
   "metadata": {},
   "outputs": [],
   "source": [
    "text1 = concatenated('Implement', 'a', 'memoization', word='decorator')"
   ]
  },
  {
   "cell_type": "code",
   "execution_count": 16,
   "metadata": {},
   "outputs": [
    {
     "name": "stdout",
     "output_type": "stream",
     "text": [
      "Implement a memoization decorator\n"
     ]
    }
   ],
   "source": [
    "print(text1)"
   ]
  },
  {
   "attachments": {},
   "cell_type": "markdown",
   "metadata": {},
   "source": [
    "5) Implement a retry decorator:\n",
    "Write a decorator that retries the execution of a function a specified number of times in case of failures or exceptions. Apply this decorator to functions\n",
    "that interact with external services to handle temporary failures gracefully."
   ]
  },
  {
   "cell_type": "code",
   "execution_count": 17,
   "metadata": {},
   "outputs": [],
   "source": [
    "import functools\n",
    "import random"
   ]
  },
  {
   "cell_type": "code",
   "execution_count": 18,
   "metadata": {},
   "outputs": [],
   "source": [
    "def retry(max_attempts=2):\n",
    "    def decorator(fun):\n",
    "        @functools.wraps(fun)\n",
    "        def wrapper(*args, **kwargs):\n",
    "            attempts = 0\n",
    "            while attempts < max_attempts:\n",
    "                try:\n",
    "                    result = fun(*args, **kwargs)\n",
    "                    return result\n",
    "                except Exception as exc:\n",
    "                    attempts += 1\n",
    "                    if attempts < max_attempts:\n",
    "                        print(f'{attempts}/{max_attempts} due to exception: {exc}')\n",
    "                    else:\n",
    "                        raise\n",
    "        return wrapper\n",
    "    return decorator\n"
   ]
  },
  {
   "cell_type": "code",
   "execution_count": 19,
   "metadata": {},
   "outputs": [
    {
     "name": "stdout",
     "output_type": "stream",
     "text": [
      "1/2 due to exception: Permission Error\n",
      "Result: Done\n"
     ]
    }
   ],
   "source": [
    "@retry(max_attempts=2)\n",
    "def attempting():\n",
    "    if random.random() < 0.65:\n",
    "        raise PermissionError('Permission Error')\n",
    "    return 'Done'\n",
    "\n",
    "try:\n",
    "    result = attempting()\n",
    "    print(f'Result: {result}')\n",
    "except Exception as exc:\n",
    "    print(f'Failed. Exception: {exc}')"
   ]
  },
  {
   "attachments": {},
   "cell_type": "markdown",
   "metadata": {},
   "source": [
    "6) Create a rate-limiting decorator:\n",
    "Write a decorator that limits the rate at which a function can be called. Apply this decorator to functions that should not be invoked\n",
    "more than a certain number of times per second or minute."
   ]
  },
  {
   "cell_type": "code",
   "execution_count": 20,
   "metadata": {},
   "outputs": [],
   "source": [
    "import time"
   ]
  },
  {
   "cell_type": "code",
   "execution_count": 21,
   "metadata": {},
   "outputs": [],
   "source": [
    "def rate_limit(max_calls_per_second, time_period_seconds):\n",
    "    def decorator(func):\n",
    "        call_times = []\n",
    "\n",
    "        def wrapper(*args, **kwargs):\n",
    "            nonlocal call_times\n",
    "\n",
    "            current_time = time.time()\n",
    "            calls_num = []\n",
    "            for t in call_times:\n",
    "                if current_time - t <= time_period_seconds:\n",
    "                    calls_num.append(t)\n",
    "            call_times = calls_num\n",
    "\n",
    "            if len(call_times) < max_calls_per_second:\n",
    "                call_times.append(current_time)\n",
    "                return func(*args, **kwargs)\n",
    "            else:\n",
    "                print('Rate limit exceeded')\n",
    "\n",
    "        return wrapper\n",
    "\n",
    "    return decorator"
   ]
  },
  {
   "cell_type": "code",
   "execution_count": 22,
   "metadata": {},
   "outputs": [
    {
     "name": "stdout",
     "output_type": "stream",
     "text": [
      "Function was called\n"
     ]
    },
    {
     "name": "stdout",
     "output_type": "stream",
     "text": [
      "Function was called\n",
      "Rate limit exceeded\n",
      "Rate limit exceeded\n",
      "Rate limit exceeded\n"
     ]
    }
   ],
   "source": [
    "@rate_limit(max_calls_per_second=2, time_period_seconds=5)\n",
    "def call_function():\n",
    "    print('Function was called')\n",
    "\n",
    "for _ in range(5):\n",
    "    call_function()\n",
    "    time.sleep(1)"
   ]
  }
 ],
 "metadata": {
  "kernelspec": {
   "display_name": "Python 3",
   "language": "python",
   "name": "python3"
  },
  "language_info": {
   "codemirror_mode": {
    "name": "ipython",
    "version": 3
   },
   "file_extension": ".py",
   "mimetype": "text/x-python",
   "name": "python",
   "nbconvert_exporter": "python",
   "pygments_lexer": "ipython3",
   "version": "3.11.0"
  },
  "orig_nbformat": 4
 },
 "nbformat": 4,
 "nbformat_minor": 2
}
