{
 "cells": [
  {
   "attachments": {},
   "cell_type": "markdown",
   "metadata": {},
   "source": [
    "1) Create a generator for prime numbers:\n",
    "Write a generator function that generates prime numbers. Each call to the generator should yield the next prime number."
   ]
  },
  {
   "cell_type": "code",
   "execution_count": 152,
   "metadata": {},
   "outputs": [],
   "source": [
    "def primes_num():\n",
    "    primes = []\n",
    "    \n",
    "    def prime(num):\n",
    "        if num < 2:\n",
    "            return False\n",
    "\n",
    "        for prime in primes:\n",
    "            if num % prime == 0:\n",
    "                return False\n",
    "\n",
    "        return True\n",
    "    \n",
    "    number = 2\n",
    "    \n",
    "    while True:\n",
    "        if prime(number):\n",
    "            yield number\n",
    "        number += 1\n",
    "\n",
    "prime_gen = primes_num()"
   ]
  },
  {
   "cell_type": "code",
   "execution_count": 205,
   "metadata": {},
   "outputs": [
    {
     "name": "stdout",
     "output_type": "stream",
     "text": [
      "2\n"
     ]
    }
   ],
   "source": [
    "next(prime_gen)"
   ]
  },
  {
   "attachments": {},
   "cell_type": "markdown",
   "metadata": {},
   "source": [
    "2) Create a generator to generate random numbers within a range:\n",
    "Write a generator function that generates random numbers within a specified range. Each call to the generator should yield a random number."
   ]
  },
  {
   "cell_type": "code",
   "execution_count": 159,
   "metadata": {},
   "outputs": [],
   "source": [
    "import random"
   ]
  },
  {
   "cell_type": "code",
   "execution_count": 200,
   "metadata": {},
   "outputs": [],
   "source": [
    "def random_num(start, end):\n",
    "    while True:\n",
    "        yield random.randint(start, end)\n",
    "\n",
    "random_gen = random_num(0, 100)"
   ]
  },
  {
   "cell_type": "code",
   "execution_count": 201,
   "metadata": {},
   "outputs": [
    {
     "name": "stdout",
     "output_type": "stream",
     "text": [
      "57\n"
     ]
    }
   ],
   "source": [
    "print(next(random_gen))"
   ]
  },
  {
   "attachments": {},
   "cell_type": "markdown",
   "metadata": {},
   "source": [
    "3) Create a generator to generate permutations of a list:\n",
    "Write a generator function that generates all possible permutations of a given list. Each call to the generator should yield a different permutation."
   ]
  },
  {
   "cell_type": "code",
   "execution_count": 1,
   "metadata": {},
   "outputs": [],
   "source": [
    "import itertools"
   ]
  },
  {
   "cell_type": "code",
   "execution_count": 25,
   "metadata": {},
   "outputs": [],
   "source": [
    "perm_list = [1, 2, 3, 4, 5]\n",
    "def permutations(perm_list):\n",
    "    permutation = itertools.permutations(perm_list)\n",
    "\n",
    "    for _ in permutation:\n",
    "        return permutation"
   ]
  },
  {
   "cell_type": "code",
   "execution_count": 27,
   "metadata": {},
   "outputs": [],
   "source": [
    "permutations_gen = permutations(perm_list)"
   ]
  },
  {
   "cell_type": "code",
   "execution_count": 41,
   "metadata": {},
   "outputs": [
    {
     "data": {
      "text/plain": [
       "(1, 4, 3, 2, 5)"
      ]
     },
     "execution_count": 41,
     "metadata": {},
     "output_type": "execute_result"
    }
   ],
   "source": [
    "next(permutations_gen)"
   ]
  },
  {
   "attachments": {},
   "cell_type": "markdown",
   "metadata": {},
   "source": [
    "4) Implement a memoization decorator:\n",
    "Write a decorator that caches the result of a function for given input arguments. \n",
    "Apply this decorator to a computationally expensive function and observe the improved performance by reusing cached results."
   ]
  },
  {
   "cell_type": "code",
   "execution_count": 49,
   "metadata": {},
   "outputs": [],
   "source": [
    "import functools\n",
    "import string"
   ]
  },
  {
   "cell_type": "code",
   "execution_count": 72,
   "metadata": {},
   "outputs": [],
   "source": [
    "def memoize(fun):\n",
    "    cache = {}\n",
    "\n",
    "    @functools.wraps(fun)\n",
    "    def wrapper(*args, **kwargs):\n",
    "        key = str(args) + str(sorted(kwargs.items()))\n",
    "        if key in cache:\n",
    "            return cache[key]\n",
    "        else:\n",
    "            result = fun(*args, **kwargs)\n",
    "            cache[key] = result\n",
    "            return result\n",
    "\n",
    "    return wrapper"
   ]
  },
  {
   "cell_type": "code",
   "execution_count": 84,
   "metadata": {},
   "outputs": [],
   "source": [
    "@memoize\n",
    "def concatenated(*args, **kwargs):\n",
    "    text = ' '.join(args) + ' '.join(kwargs.values())\n",
    "    return text"
   ]
  },
  {
   "cell_type": "code",
   "execution_count": 85,
   "metadata": {},
   "outputs": [],
   "source": [
    "text1 = concatenated('Implement', 'a', 'memoization', 'decorator')"
   ]
  },
  {
   "cell_type": "code",
   "execution_count": 86,
   "metadata": {},
   "outputs": [
    {
     "name": "stdout",
     "output_type": "stream",
     "text": [
      "Implement a memoization decorator\n"
     ]
    }
   ],
   "source": [
    "print(text1)"
   ]
  },
  {
   "attachments": {},
   "cell_type": "markdown",
   "metadata": {},
   "source": [
    "5) Implement a retry decorator:\n",
    "Write a decorator that retries the execution of a function a specified number of times in case of failures or exceptions. Apply this decorator to functions\n",
    "that interact with external services to handle temporary failures gracefully."
   ]
  },
  {
   "cell_type": "code",
   "execution_count": null,
   "metadata": {},
   "outputs": [],
   "source": []
  },
  {
   "attachments": {},
   "cell_type": "markdown",
   "metadata": {},
   "source": [
    "6) Create a rate-limiting decorator:\n",
    "Write a decorator that limits the rate at which a function can be called. Apply this decorator to functions that should not be invoked\n",
    "more than a certain number of times per second or minute."
   ]
  }
 ],
 "metadata": {
  "kernelspec": {
   "display_name": "Python 3",
   "language": "python",
   "name": "python3"
  },
  "language_info": {
   "codemirror_mode": {
    "name": "ipython",
    "version": 3
   },
   "file_extension": ".py",
   "mimetype": "text/x-python",
   "name": "python",
   "nbconvert_exporter": "python",
   "pygments_lexer": "ipython3",
   "version": "3.11.0"
  },
  "orig_nbformat": 4
 },
 "nbformat": 4,
 "nbformat_minor": 2
}
