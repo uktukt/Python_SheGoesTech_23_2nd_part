{
 "cells": [
  {
   "attachments": {},
   "cell_type": "markdown",
   "metadata": {},
   "source": [
    "1) Create a generator for prime numbers:\n",
    "Write a generator function that generates prime numbers. Each call to the generator should yield the next prime number."
   ]
  },
  {
   "cell_type": "code",
   "execution_count": 152,
   "metadata": {},
   "outputs": [],
   "source": [
    "def primes_num():\n",
    "    primes = []\n",
    "    \n",
    "    def prime(num):\n",
    "        if num < 2:\n",
    "            return False\n",
    "\n",
    "        for prime in primes:\n",
    "            if num % prime == 0:\n",
    "                return False\n",
    "\n",
    "        return True\n",
    "    \n",
    "    number = 2\n",
    "    \n",
    "    while True:\n",
    "        if prime(number):\n",
    "            yield number\n",
    "        number += 1\n",
    "\n",
    "prime_gen = primes_num()"
   ]
  },
  {
   "cell_type": "code",
   "execution_count": 205,
   "metadata": {},
   "outputs": [
    {
     "name": "stdout",
     "output_type": "stream",
     "text": [
      "2\n"
     ]
    }
   ],
   "source": [
    "next(prime_gen)"
   ]
  },
  {
   "attachments": {},
   "cell_type": "markdown",
   "metadata": {},
   "source": [
    "2) Create a generator to generate random numbers within a range:\n",
    "Write a generator function that generates random numbers within a specified range. Each call to the generator should yield a random number."
   ]
  },
  {
   "cell_type": "code",
   "execution_count": 159,
   "metadata": {},
   "outputs": [],
   "source": [
    "import random"
   ]
  },
  {
   "cell_type": "code",
   "execution_count": 200,
   "metadata": {},
   "outputs": [],
   "source": [
    "def random_num(start, end):\n",
    "    while True:\n",
    "        yield random.randint(start, end)\n",
    "\n",
    "random_gen = random_num(0, 100)"
   ]
  },
  {
   "cell_type": "code",
   "execution_count": 201,
   "metadata": {},
   "outputs": [
    {
     "name": "stdout",
     "output_type": "stream",
     "text": [
      "57\n"
     ]
    }
   ],
   "source": [
    "print(next(random_gen))"
   ]
  },
  {
   "attachments": {},
   "cell_type": "markdown",
   "metadata": {},
   "source": [
    "3) Create a generator to generate permutations of a list:\n",
    "Write a generator function that generates all possible permutations of a given list. Each call to the generator should yield a different permutation."
   ]
  },
  {
   "cell_type": "code",
   "execution_count": 1,
   "metadata": {},
   "outputs": [],
   "source": [
    "import itertools"
   ]
  },
  {
   "cell_type": "code",
   "execution_count": 25,
   "metadata": {},
   "outputs": [],
   "source": [
    "perm_list = [1, 2, 3, 4, 5]\n",
    "def permutations(perm_list):\n",
    "    permutation = itertools.permutations(perm_list)\n",
    "\n",
    "    for _ in permutation:\n",
    "        return permutation"
   ]
  },
  {
   "cell_type": "code",
   "execution_count": 27,
   "metadata": {},
   "outputs": [],
   "source": [
    "permutations_gen = permutations(perm_list)"
   ]
  },
  {
   "cell_type": "code",
   "execution_count": 41,
   "metadata": {},
   "outputs": [
    {
     "data": {
      "text/plain": [
       "(1, 4, 3, 2, 5)"
      ]
     },
     "execution_count": 41,
     "metadata": {},
     "output_type": "execute_result"
    }
   ],
   "source": [
    "next(permutations_gen)"
   ]
  }
 ],
 "metadata": {
  "kernelspec": {
   "display_name": "Python 3",
   "language": "python",
   "name": "python3"
  },
  "language_info": {
   "codemirror_mode": {
    "name": "ipython",
    "version": 3
   },
   "file_extension": ".py",
   "mimetype": "text/x-python",
   "name": "python",
   "nbconvert_exporter": "python",
   "pygments_lexer": "ipython3",
   "version": "3.11.0"
  },
  "orig_nbformat": 4
 },
 "nbformat": 4,
 "nbformat_minor": 2
}
