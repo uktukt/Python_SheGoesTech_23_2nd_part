{
 "cells": [
  {
   "cell_type": "markdown",
   "metadata": {},
   "source": [
    "Non SQL database"
   ]
  },
  {
   "cell_type": "code",
   "execution_count": 13,
   "metadata": {},
   "outputs": [],
   "source": [
    "import csv\n",
    "import requests"
   ]
  },
  {
   "cell_type": "markdown",
   "metadata": {},
   "source": [
    "Saves all the data about fuel stations in one .csv file"
   ]
  },
  {
   "cell_type": "code",
   "execution_count": 15,
   "metadata": {},
   "outputs": [
    {
     "name": "stdout",
     "output_type": "stream",
     "text": [
      "Data has been saved to fuel_stations_data.csv.\n"
     ]
    }
   ],
   "source": [
    "url = 'https://community-nrel-national-renewable-energy-laboratory.p.rapidapi.com/api/alt-fuel-stations/v1/nearest.json'\n",
    "\n",
    "location = '433 Bryant St., San Francisco'\n",
    "fuel_type = 'ELEC'\n",
    "limit = 50\n",
    "offset = 0\n",
    "data_list = []\n",
    "\n",
    "headers = {\n",
    "    'X-RapidAPI-Key': '51b07a06c6mshbaae7fd65806f5cp13da34jsn59c5aa35baa7',\n",
    "    'X-RapidAPI-Host': 'community-nrel-national-renewable-energy-laboratory.p.rapidapi.com'\n",
    "}\n",
    "\n",
    "while True:\n",
    "    querystring = {'location': location, 'fuel_type': fuel_type, 'limit': limit, 'offset': offset}\n",
    "    response = requests.get(url, headers=headers, params=querystring)\n",
    "\n",
    "    if response.status_code == 200:\n",
    "        data = response.json()['fuel_stations']\n",
    "        if not data:\n",
    "            break\n",
    "        data_list.extend(data)\n",
    "        offset += limit\n",
    "    else:\n",
    "        print(f'Failed to get data for offset {offset}. Skipping...')\n",
    "        break\n",
    "\n",
    "csv_file_path = 'fuel_stations_data.csv'\n",
    "\n",
    "if data_list:\n",
    "    keys = data_list[0].keys()\n",
    "\n",
    "    keys = list(keys) + ['federal_agency']\n",
    "\n",
    "    with open(csv_file_path, mode='w', newline='') as csv_file:\n",
    "        writer = csv.DictWriter(csv_file, fieldnames=keys)\n",
    "        writer.writeheader()\n",
    "        writer.writerows(data_list)\n",
    "\n",
    "    print(f'Data has been saved to {csv_file_path}.')\n",
    "else:\n",
    "    print('No data received from the API.')\n"
   ]
  },
  {
   "cell_type": "markdown",
   "metadata": {},
   "source": [
    "Sorting the data about fuel stations into three groups (Public, Private, Others) and saving the data in separate .csv files."
   ]
  },
  {
   "cell_type": "code",
   "execution_count": 23,
   "metadata": {},
   "outputs": [
    {
     "name": "stdout",
     "output_type": "stream",
     "text": [
      "Public stations data has been saved to public_stations_data.csv.\n",
      "Private stations data has been saved to private_stations_data.csv.\n",
      "Other stations data has been saved to others_stations_data.csv.\n"
     ]
    }
   ],
   "source": [
    "import csv\n",
    "import requests\n",
    "\n",
    "url = \"https://community-nrel-national-renewable-energy-laboratory.p.rapidapi.com/api/alt-fuel-stations/v1/nearest.json\"\n",
    "\n",
    "location = \"433 Bryant St., San Francisco\"\n",
    "fuel_type = \"ELEC\"\n",
    "limit = 50\n",
    "offset = 0\n",
    "public_data = []\n",
    "private_data = []\n",
    "others_data = []\n",
    "\n",
    "headers = {\n",
    "    \"X-RapidAPI-Key\": \"51b07a06c6mshbaae7fd65806f5cp13da34jsn59c5aa35baa7\",\n",
    "    \"X-RapidAPI-Host\": \"community-nrel-national-renewable-energy-laboratory.p.rapidapi.com\"\n",
    "}\n",
    "\n",
    "while True:\n",
    "    querystring = {\"location\": location, \"fuel_type\": fuel_type, \"limit\": limit, \"offset\": offset}\n",
    "    response = requests.get(url, headers=headers, params=querystring)\n",
    "\n",
    "    if response.status_code == 200:\n",
    "        data = response.json()[\"fuel_stations\"]\n",
    "        if not data:\n",
    "            break\n",
    "\n",
    "        for station in data:\n",
    "            group = station.get('groups_with_access_code', '').lower()\n",
    "            if group == 'public':\n",
    "                public_data.append(station)\n",
    "            elif group == 'private':\n",
    "                private_data.append(station)\n",
    "            elif group != 'private' or group != 'public':\n",
    "                others_data.append(station)\n",
    "\n",
    "        offset += limit\n",
    "    else:\n",
    "        print(f\"Failed to get data for offset {offset}. Skipping...\")\n",
    "        break\n",
    "\n",
    "public_csv_file = \"public_stations_data.csv\"\n",
    "private_csv_file = \"private_stations_data.csv\"\n",
    "others_csv_file = \"others_stations_data.csv\"\n",
    "\n",
    "if public_data:\n",
    "    keys = list(public_data[0].keys()) + ['federal_agency', 'ev_network_ids']\n",
    "\n",
    "    # Writing data to the 'Public' CSV file\n",
    "    with open(public_csv_file, mode=\"w\", newline=\"\") as csv_file:\n",
    "        writer = csv.DictWriter(csv_file, fieldnames=keys)\n",
    "        writer.writeheader()\n",
    "        writer.writerows(public_data)\n",
    "\n",
    "    print(f\"Public stations data has been saved to {public_csv_file}.\")\n",
    "\n",
    "if private_data:\n",
    "    keys = list(private_data[0].keys()) + ['federal_agency', 'ev_network_ids']\n",
    "\n",
    "    # Writing data to the 'Private' CSV file\n",
    "    with open(private_csv_file, mode=\"w\", newline=\"\") as csv_file:\n",
    "        writer = csv.DictWriter(csv_file, fieldnames=keys)\n",
    "        writer.writeheader()\n",
    "        writer.writerows(private_data)\n",
    "\n",
    "    print(f\"Private stations data has been saved to {private_csv_file}.\")\n",
    "\n",
    "if others_data:\n",
    "    keys = list(others_data[0].keys()) + ['federal_agency', 'ev_network_ids']\n",
    "\n",
    "    # Writing data to the 'Others' CSV file\n",
    "    with open(others_csv_file, mode=\"w\", newline=\"\") as csv_file:\n",
    "        writer = csv.DictWriter(csv_file, fieldnames=keys)\n",
    "        writer.writeheader()\n",
    "        writer.writerows(others_data)\n",
    "\n",
    "    print(f\"Other stations data has been saved to {others_csv_file}.\")\n"
   ]
  }
 ],
 "metadata": {
  "kernelspec": {
   "display_name": "Python 3",
   "language": "python",
   "name": "python3"
  },
  "language_info": {
   "codemirror_mode": {
    "name": "ipython",
    "version": 3
   },
   "file_extension": ".py",
   "mimetype": "text/x-python",
   "name": "python",
   "nbconvert_exporter": "python",
   "pygments_lexer": "ipython3",
   "version": "3.11.0"
  },
  "orig_nbformat": 4
 },
 "nbformat": 4,
 "nbformat_minor": 2
}
