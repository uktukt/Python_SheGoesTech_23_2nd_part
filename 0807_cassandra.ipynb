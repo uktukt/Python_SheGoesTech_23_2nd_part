{
 "cells": [
  {
   "cell_type": "code",
   "execution_count": 1,
   "metadata": {},
   "outputs": [],
   "source": [
    "from cassandra.cluster import Cluster\n",
    "import uuid\n",
    "import sqlite3\n",
    "import time\n",
    "import random"
   ]
  },
  {
   "cell_type": "code",
   "execution_count": 2,
   "metadata": {},
   "outputs": [
    {
     "data": {
      "text/plain": [
       "UUID('c05eee47-c106-492d-b348-446b56489228')"
      ]
     },
     "execution_count": 2,
     "metadata": {},
     "output_type": "execute_result"
    }
   ],
   "source": [
    "uuid.uuid4()"
   ]
  },
  {
   "cell_type": "code",
   "execution_count": 3,
   "metadata": {},
   "outputs": [],
   "source": [
    "cluster = Cluster([\"127.0.0.1\"],port=9042)"
   ]
  },
  {
   "cell_type": "code",
   "execution_count": 4,
   "metadata": {},
   "outputs": [],
   "source": [
    "session = cluster.connect()"
   ]
  },
  {
   "cell_type": "code",
   "execution_count": 5,
   "metadata": {},
   "outputs": [
    {
     "data": {
      "text/plain": [
       "<cassandra.cluster.ResultSet at 0x2737f7c6410>"
      ]
     },
     "execution_count": 5,
     "metadata": {},
     "output_type": "execute_result"
    }
   ],
   "source": [
    "create_keyspace_query = \"\"\"\n",
    "    CREATE KEYSPACE IF NOT EXISTS users_keyspace\n",
    "    WITH replication = {'class':'SimpleStrategy', 'replication_factor':1}\n",
    "\"\"\"\n",
    "\n",
    "session.execute(create_keyspace_query)"
   ]
  },
  {
   "cell_type": "code",
   "execution_count": 6,
   "metadata": {},
   "outputs": [
    {
     "data": {
      "text/plain": [
       "<cassandra.cluster.ResultSet at 0x2737f972f10>"
      ]
     },
     "execution_count": 6,
     "metadata": {},
     "output_type": "execute_result"
    }
   ],
   "source": [
    "session.execute(\"USE users_keyspace\")\n",
    "session.execute(\"\"\" CREATE TABLE IF NOT EXISTS users (id UUID PRIMARY KEY, name TEXT, age INT ) \"\"\")"
   ]
  },
  {
   "cell_type": "code",
   "execution_count": 7,
   "metadata": {},
   "outputs": [],
   "source": [
    "insertion_query = \"\"\"INSERT INTO users (id,name,age) VALUES (?,?,?)\"\"\""
   ]
  },
  {
   "cell_type": "code",
   "execution_count": 8,
   "metadata": {},
   "outputs": [],
   "source": [
    "prepared_stmt = session.prepare(insertion_query)"
   ]
  },
  {
   "cell_type": "code",
   "execution_count": 9,
   "metadata": {},
   "outputs": [
    {
     "data": {
      "text/plain": [
       "<cassandra.cluster.ResultSet at 0x2737f984590>"
      ]
     },
     "execution_count": 9,
     "metadata": {},
     "output_type": "execute_result"
    }
   ],
   "source": [
    "session.execute(prepared_stmt,(uuid.uuid4(),\"Alice\",30))\n",
    "session.execute(prepared_stmt,(uuid.uuid4(),\"Bob\",28))"
   ]
  },
  {
   "cell_type": "code",
   "execution_count": 10,
   "metadata": {},
   "outputs": [
    {
     "name": "stdout",
     "output_type": "stream",
     "text": [
      "75c149db-593f-4f8e-987d-d0b484fb032b Bob 28\n",
      "29ba4df4-3574-4c93-b1ef-5b6b262616c5 Alice 30\n"
     ]
    }
   ],
   "source": [
    "result = session.execute(\"\"\"SELECT * FROM users\"\"\")\n",
    "for row in result:\n",
    "    print(row.id,row.name,row.age)"
   ]
  }
 ],
 "metadata": {
  "kernelspec": {
   "display_name": "Python 3",
   "language": "python",
   "name": "python3"
  },
  "language_info": {
   "codemirror_mode": {
    "name": "ipython",
    "version": 3
   },
   "file_extension": ".py",
   "mimetype": "text/x-python",
   "name": "python",
   "nbconvert_exporter": "python",
   "pygments_lexer": "ipython3",
   "version": "3.11.4"
  },
  "orig_nbformat": 4
 },
 "nbformat": 4,
 "nbformat_minor": 2
}
