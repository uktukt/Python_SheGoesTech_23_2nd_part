from cassandra.cluster import Cluster
import uuid
import sqlite3
import time
import random