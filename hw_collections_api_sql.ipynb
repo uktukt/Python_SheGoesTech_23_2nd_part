{
 "cells": [
  {
   "attachments": {},
   "cell_type": "markdown",
   "metadata": {},
   "source": [
    "1) Use map to double each element in a list of numbers.\n",
    "Use filter to select only the odd numbers from a list of integers."
   ]
  },
  {
   "cell_type": "code",
   "execution_count": 410,
   "metadata": {},
   "outputs": [
    {
     "data": {
      "text/plain": [
       "[15, 37, 81, 26, 54, 27, 3, 55, 67, 97, 82, 16, 29, 38, 2, 49, 60, 10, 24, 45]"
      ]
     },
     "execution_count": 410,
     "metadata": {},
     "output_type": "execute_result"
    }
   ],
   "source": [
    "import random\n",
    "nums = random.sample(range(1, 100), 20)\n",
    "nums"
   ]
  },
  {
   "cell_type": "code",
   "execution_count": 411,
   "metadata": {},
   "outputs": [
    {
     "name": "stdout",
     "output_type": "stream",
     "text": [
      "[30, 74, 162, 52, 108, 54, 6, 110, 134, 194, 164, 32, 58, 76, 4, 98, 120, 20, 48, 90]\n"
     ]
    }
   ],
   "source": [
    "def double(x):\n",
    "    return 2 * x\n",
    "\n",
    "result = map(double, nums)\n",
    "doubled_numbers = list(result)\n",
    "print(doubled_numbers)"
   ]
  },
  {
   "cell_type": "code",
   "execution_count": 412,
   "metadata": {},
   "outputs": [
    {
     "name": "stdout",
     "output_type": "stream",
     "text": [
      "[15, 37, 81, 27, 3, 55, 67, 97, 29, 49, 45]\n"
     ]
    }
   ],
   "source": [
    "odd_numbers = list(filter(lambda num: num % 2 != 0, nums))\n",
    "print(odd_numbers) "
   ]
  },
  {
   "attachments": {},
   "cell_type": "markdown",
   "metadata": {},
   "source": [
    "2) Read a CSV file into a pandas DataFrame and display the first few rows.\n",
    "Group a DataFrame by a specific column and calculate the average of another column.\n",
    "Merge two DataFrames based on a common column."
   ]
  },
  {
   "cell_type": "code",
   "execution_count": 413,
   "metadata": {},
   "outputs": [
    {
     "name": "stderr",
     "output_type": "stream",
     "text": [
      "C:\\Users\\dovil\\AppData\\Local\\Temp\\ipykernel_1152\\2624610627.py:2: DtypeWarning: Columns (8,9,10,11,12) have mixed types. Specify dtype option on import or set low_memory=False.\n",
      "  real_estate_data = pd.read_csv(r'C:\\Users\\dovil\\Desktop\\she goes tech\\data\\Real_Estate_Sales_2001-2020_GL.csv')\n"
     ]
    }
   ],
   "source": [
    "import pandas as pd\n",
    "# from https://catalog.data.gov/dataset/real-estate-sales-2001-2018\n",
    "real_estate_data = pd.read_csv('Real_Estate_Sales_2001-2020_GL.csv')"
   ]
  },
  {
   "cell_type": "code",
   "execution_count": 414,
   "metadata": {},
   "outputs": [
    {
     "data": {
      "text/plain": [
       "(997213, 14)"
      ]
     },
     "execution_count": 414,
     "metadata": {},
     "output_type": "execute_result"
    }
   ],
   "source": [
    "real_estate_data.shape"
   ]
  },
  {
   "cell_type": "code",
   "execution_count": 415,
   "metadata": {},
   "outputs": [],
   "source": [
    "real_estate_data_2020 = real_estate_data[real_estate_data['List Year']==2020]"
   ]
  },
  {
   "cell_type": "code",
   "execution_count": 416,
   "metadata": {},
   "outputs": [
    {
     "data": {
      "text/plain": [
       "(66592, 14)"
      ]
     },
     "execution_count": 416,
     "metadata": {},
     "output_type": "execute_result"
    }
   ],
   "source": [
    "real_estate_data_2020.shape"
   ]
  },
  {
   "cell_type": "code",
   "execution_count": 417,
   "metadata": {},
   "outputs": [
    {
     "data": {
      "text/html": [
       "<div>\n",
       "<style scoped>\n",
       "    .dataframe tbody tr th:only-of-type {\n",
       "        vertical-align: middle;\n",
       "    }\n",
       "\n",
       "    .dataframe tbody tr th {\n",
       "        vertical-align: top;\n",
       "    }\n",
       "\n",
       "    .dataframe thead th {\n",
       "        text-align: right;\n",
       "    }\n",
       "</style>\n",
       "<table border=\"1\" class=\"dataframe\">\n",
       "  <thead>\n",
       "    <tr style=\"text-align: right;\">\n",
       "      <th></th>\n",
       "      <th>Serial Number</th>\n",
       "      <th>List Year</th>\n",
       "      <th>Date Recorded</th>\n",
       "      <th>Town</th>\n",
       "      <th>Address</th>\n",
       "      <th>Assessed Value</th>\n",
       "      <th>Sale Amount</th>\n",
       "      <th>Sales Ratio</th>\n",
       "      <th>Property Type</th>\n",
       "      <th>Residential Type</th>\n",
       "      <th>Non Use Code</th>\n",
       "      <th>Assessor Remarks</th>\n",
       "      <th>OPM remarks</th>\n",
       "      <th>Location</th>\n",
       "    </tr>\n",
       "  </thead>\n",
       "  <tbody>\n",
       "    <tr>\n",
       "      <th>0</th>\n",
       "      <td>2020177</td>\n",
       "      <td>2020</td>\n",
       "      <td>04/14/2021</td>\n",
       "      <td>Ansonia</td>\n",
       "      <td>323 BEAVER ST</td>\n",
       "      <td>133,000.00</td>\n",
       "      <td>248,400.00</td>\n",
       "      <td>0.54</td>\n",
       "      <td>Residential</td>\n",
       "      <td>Single Family</td>\n",
       "      <td>NaN</td>\n",
       "      <td>NaN</td>\n",
       "      <td>NaN</td>\n",
       "      <td>POINT (-73.06822 41.35014)</td>\n",
       "    </tr>\n",
       "    <tr>\n",
       "      <th>1</th>\n",
       "      <td>2020225</td>\n",
       "      <td>2020</td>\n",
       "      <td>05/26/2021</td>\n",
       "      <td>Ansonia</td>\n",
       "      <td>152 JACKSON ST</td>\n",
       "      <td>110,500.00</td>\n",
       "      <td>239,900.00</td>\n",
       "      <td>0.46</td>\n",
       "      <td>Residential</td>\n",
       "      <td>Three Family</td>\n",
       "      <td>NaN</td>\n",
       "      <td>NaN</td>\n",
       "      <td>NaN</td>\n",
       "      <td>NaN</td>\n",
       "    </tr>\n",
       "    <tr>\n",
       "      <th>2</th>\n",
       "      <td>2020348</td>\n",
       "      <td>2020</td>\n",
       "      <td>09/13/2021</td>\n",
       "      <td>Ansonia</td>\n",
       "      <td>230 WAKELEE AVE</td>\n",
       "      <td>150,500.00</td>\n",
       "      <td>325,000.00</td>\n",
       "      <td>0.46</td>\n",
       "      <td>Commercial</td>\n",
       "      <td>NaN</td>\n",
       "      <td>NaN</td>\n",
       "      <td>NaN</td>\n",
       "      <td>NaN</td>\n",
       "      <td>NaN</td>\n",
       "    </tr>\n",
       "    <tr>\n",
       "      <th>3</th>\n",
       "      <td>2020090</td>\n",
       "      <td>2020</td>\n",
       "      <td>12/14/2020</td>\n",
       "      <td>Ansonia</td>\n",
       "      <td>57 PLATT ST</td>\n",
       "      <td>127,400.00</td>\n",
       "      <td>202,500.00</td>\n",
       "      <td>0.63</td>\n",
       "      <td>Residential</td>\n",
       "      <td>Two Family</td>\n",
       "      <td>NaN</td>\n",
       "      <td>NaN</td>\n",
       "      <td>NaN</td>\n",
       "      <td>NaN</td>\n",
       "    </tr>\n",
       "    <tr>\n",
       "      <th>4</th>\n",
       "      <td>200500</td>\n",
       "      <td>2020</td>\n",
       "      <td>09/07/2021</td>\n",
       "      <td>Avon</td>\n",
       "      <td>245 NEW ROAD</td>\n",
       "      <td>217,640.00</td>\n",
       "      <td>400,000.00</td>\n",
       "      <td>0.54</td>\n",
       "      <td>Residential</td>\n",
       "      <td>Single Family</td>\n",
       "      <td>NaN</td>\n",
       "      <td>NaN</td>\n",
       "      <td>NaN</td>\n",
       "      <td>NaN</td>\n",
       "    </tr>\n",
       "    <tr>\n",
       "      <th>5</th>\n",
       "      <td>200121</td>\n",
       "      <td>2020</td>\n",
       "      <td>12/15/2020</td>\n",
       "      <td>Avon</td>\n",
       "      <td>63 NORTHGATE</td>\n",
       "      <td>528,490.00</td>\n",
       "      <td>775,000.00</td>\n",
       "      <td>0.68</td>\n",
       "      <td>Residential</td>\n",
       "      <td>Single Family</td>\n",
       "      <td>NaN</td>\n",
       "      <td>NaN</td>\n",
       "      <td>NaN</td>\n",
       "      <td>POINT (-72.89675 41.79445)</td>\n",
       "    </tr>\n",
       "    <tr>\n",
       "      <th>6</th>\n",
       "      <td>20058</td>\n",
       "      <td>2020</td>\n",
       "      <td>06/01/2021</td>\n",
       "      <td>Barkhamsted</td>\n",
       "      <td>46 RATLUM MTN RD</td>\n",
       "      <td>203,530.00</td>\n",
       "      <td>415,000.00</td>\n",
       "      <td>0.49</td>\n",
       "      <td>Residential</td>\n",
       "      <td>Single Family</td>\n",
       "      <td>NaN</td>\n",
       "      <td>2003 COLONIAL, 2140 SFLA, 2.99 AC</td>\n",
       "      <td>NaN</td>\n",
       "      <td>NaN</td>\n",
       "    </tr>\n",
       "    <tr>\n",
       "      <th>7</th>\n",
       "      <td>200046</td>\n",
       "      <td>2020</td>\n",
       "      <td>01/25/2021</td>\n",
       "      <td>Beacon Falls</td>\n",
       "      <td>34 LASKY ROAD</td>\n",
       "      <td>158,030.00</td>\n",
       "      <td>243,000.00</td>\n",
       "      <td>0.65</td>\n",
       "      <td>Residential</td>\n",
       "      <td>Single Family</td>\n",
       "      <td>NaN</td>\n",
       "      <td>NaN</td>\n",
       "      <td>NaN</td>\n",
       "      <td>NaN</td>\n",
       "    </tr>\n",
       "  </tbody>\n",
       "</table>\n",
       "</div>"
      ],
      "text/plain": [
       "   Serial Number  List Year Date Recorded          Town           Address  \\\n",
       "0        2020177       2020    04/14/2021       Ansonia     323 BEAVER ST   \n",
       "1        2020225       2020    05/26/2021       Ansonia    152 JACKSON ST   \n",
       "2        2020348       2020    09/13/2021       Ansonia   230 WAKELEE AVE   \n",
       "3        2020090       2020    12/14/2020       Ansonia       57 PLATT ST   \n",
       "4         200500       2020    09/07/2021          Avon      245 NEW ROAD   \n",
       "5         200121       2020    12/15/2020          Avon      63 NORTHGATE   \n",
       "6          20058       2020    06/01/2021   Barkhamsted  46 RATLUM MTN RD   \n",
       "7         200046       2020    01/25/2021  Beacon Falls     34 LASKY ROAD   \n",
       "\n",
       "   Assessed Value  Sale Amount  Sales Ratio Property Type Residential Type  \\\n",
       "0      133,000.00   248,400.00         0.54   Residential    Single Family   \n",
       "1      110,500.00   239,900.00         0.46   Residential     Three Family   \n",
       "2      150,500.00   325,000.00         0.46    Commercial              NaN   \n",
       "3      127,400.00   202,500.00         0.63   Residential       Two Family   \n",
       "4      217,640.00   400,000.00         0.54   Residential    Single Family   \n",
       "5      528,490.00   775,000.00         0.68   Residential    Single Family   \n",
       "6      203,530.00   415,000.00         0.49   Residential    Single Family   \n",
       "7      158,030.00   243,000.00         0.65   Residential    Single Family   \n",
       "\n",
       "  Non Use Code                   Assessor Remarks OPM remarks  \\\n",
       "0          NaN                                NaN         NaN   \n",
       "1          NaN                                NaN         NaN   \n",
       "2          NaN                                NaN         NaN   \n",
       "3          NaN                                NaN         NaN   \n",
       "4          NaN                                NaN         NaN   \n",
       "5          NaN                                NaN         NaN   \n",
       "6          NaN  2003 COLONIAL, 2140 SFLA, 2.99 AC         NaN   \n",
       "7          NaN                                NaN         NaN   \n",
       "\n",
       "                     Location  \n",
       "0  POINT (-73.06822 41.35014)  \n",
       "1                         NaN  \n",
       "2                         NaN  \n",
       "3                         NaN  \n",
       "4                         NaN  \n",
       "5  POINT (-72.89675 41.79445)  \n",
       "6                         NaN  \n",
       "7                         NaN  "
      ]
     },
     "execution_count": 417,
     "metadata": {},
     "output_type": "execute_result"
    }
   ],
   "source": [
    "real_estate_data_2020.head(8)"
   ]
  },
  {
   "cell_type": "code",
   "execution_count": 418,
   "metadata": {},
   "outputs": [
    {
     "data": {
      "text/plain": [
       "Town\n",
       "Willington   53,237,242.17\n",
       "Greenwich     2,378,571.81\n",
       "Darien        1,762,818.08\n",
       "New Canaan    1,669,782.96\n",
       "Stamford      1,623,796.04\n",
       "                  ...     \n",
       "Waterbury       200,935.55\n",
       "Union           195,166.67\n",
       "Torrington      183,257.85\n",
       "Bridgeport      178,855.54\n",
       "Deep River      150,000.00\n",
       "Name: Sale Amount, Length: 144, dtype: float64"
      ]
     },
     "execution_count": 418,
     "metadata": {},
     "output_type": "execute_result"
    }
   ],
   "source": [
    "pd.options.display.float_format = '{:,.2f}'.format\n",
    "real_estate_data_2020_by_town = real_estate_data_2020.groupby(['Town'])['Sale Amount'].mean().sort_values(ascending=False)\n",
    "real_estate_data_2020_by_town"
   ]
  },
  {
   "cell_type": "code",
   "execution_count": 419,
   "metadata": {},
   "outputs": [],
   "source": [
    "# from https://ephtracking.cdc.gov/DataExplorer/\n",
    "# Air Quality Index (AQI) for fine particle pollution (PM2.5)\n",
    "air_quality_data = pd.read_csv('data_062155.csv', encoding= 'unicode_escape')"
   ]
  },
  {
   "cell_type": "code",
   "execution_count": 420,
   "metadata": {},
   "outputs": [
    {
     "data": {
      "text/plain": [
       "(478632, 11)"
      ]
     },
     "execution_count": 420,
     "metadata": {},
     "output_type": "execute_result"
    }
   ],
   "source": [
    "air_quality_data.shape"
   ]
  },
  {
   "cell_type": "code",
   "execution_count": 421,
   "metadata": {},
   "outputs": [
    {
     "data": {
      "text/html": [
       "<div>\n",
       "<style scoped>\n",
       "    .dataframe tbody tr th:only-of-type {\n",
       "        vertical-align: middle;\n",
       "    }\n",
       "\n",
       "    .dataframe tbody tr th {\n",
       "        vertical-align: top;\n",
       "    }\n",
       "\n",
       "    .dataframe thead th {\n",
       "        text-align: right;\n",
       "    }\n",
       "</style>\n",
       "<table border=\"1\" class=\"dataframe\">\n",
       "  <thead>\n",
       "    <tr style=\"text-align: right;\">\n",
       "      <th></th>\n",
       "      <th>StateFIPS</th>\n",
       "      <th>State</th>\n",
       "      <th>CountyFIPS</th>\n",
       "      <th>Location</th>\n",
       "      <th>Year</th>\n",
       "      <th>Date</th>\n",
       "      <th>Value</th>\n",
       "      <th>Data Comment</th>\n",
       "      <th>AQI Category</th>\n",
       "      <th>Concentration (µg/m³)</th>\n",
       "      <th>Data Source</th>\n",
       "    </tr>\n",
       "  </thead>\n",
       "  <tbody>\n",
       "    <tr>\n",
       "      <th>0</th>\n",
       "      <td>1</td>\n",
       "      <td>Alabama</td>\n",
       "      <td>1001</td>\n",
       "      <td>Autauga</td>\n",
       "      <td>2023</td>\n",
       "      <td>03/04/2023</td>\n",
       "      <td>1</td>\n",
       "      <td>NaN</td>\n",
       "      <td>Good (1)</td>\n",
       "      <td>9.40</td>\n",
       "      <td>EPA AirNow Contours [research-grade]</td>\n",
       "    </tr>\n",
       "    <tr>\n",
       "      <th>1</th>\n",
       "      <td>1</td>\n",
       "      <td>Alabama</td>\n",
       "      <td>1001</td>\n",
       "      <td>Autauga</td>\n",
       "      <td>2023</td>\n",
       "      <td>05/04/2023</td>\n",
       "      <td>1</td>\n",
       "      <td>NaN</td>\n",
       "      <td>Good (1)</td>\n",
       "      <td>10.30</td>\n",
       "      <td>EPA AirNow Contours [research-grade]</td>\n",
       "    </tr>\n",
       "    <tr>\n",
       "      <th>2</th>\n",
       "      <td>1</td>\n",
       "      <td>Alabama</td>\n",
       "      <td>1001</td>\n",
       "      <td>Autauga</td>\n",
       "      <td>2023</td>\n",
       "      <td>10/04/2023</td>\n",
       "      <td>1</td>\n",
       "      <td>NaN</td>\n",
       "      <td>Good (1)</td>\n",
       "      <td>8.40</td>\n",
       "      <td>EPA AirNow Contours [research-grade]</td>\n",
       "    </tr>\n",
       "    <tr>\n",
       "      <th>3</th>\n",
       "      <td>1</td>\n",
       "      <td>Alabama</td>\n",
       "      <td>1001</td>\n",
       "      <td>Autauga</td>\n",
       "      <td>2023</td>\n",
       "      <td>12/04/2023</td>\n",
       "      <td>2</td>\n",
       "      <td>NaN</td>\n",
       "      <td>Moderate (2)</td>\n",
       "      <td>19.20</td>\n",
       "      <td>EPA AirNow Contours [research-grade]</td>\n",
       "    </tr>\n",
       "    <tr>\n",
       "      <th>4</th>\n",
       "      <td>1</td>\n",
       "      <td>Alabama</td>\n",
       "      <td>1001</td>\n",
       "      <td>Autauga</td>\n",
       "      <td>2023</td>\n",
       "      <td>03/05/2023</td>\n",
       "      <td>1</td>\n",
       "      <td>NaN</td>\n",
       "      <td>Good (1)</td>\n",
       "      <td>7.70</td>\n",
       "      <td>EPA AirNow Contours [research-grade]</td>\n",
       "    </tr>\n",
       "  </tbody>\n",
       "</table>\n",
       "</div>"
      ],
      "text/plain": [
       "   StateFIPS    State  CountyFIPS Location  Year        Date Value  \\\n",
       "0          1  Alabama        1001  Autauga  2023  03/04/2023     1   \n",
       "1          1  Alabama        1001  Autauga  2023  05/04/2023     1   \n",
       "2          1  Alabama        1001  Autauga  2023  10/04/2023     1   \n",
       "3          1  Alabama        1001  Autauga  2023  12/04/2023     2   \n",
       "4          1  Alabama        1001  Autauga  2023  03/05/2023     1   \n",
       "\n",
       "   Data Comment  AQI Category  Concentration (µg/m³)  \\\n",
       "0           NaN      Good (1)                   9.40   \n",
       "1           NaN      Good (1)                  10.30   \n",
       "2           NaN      Good (1)                   8.40   \n",
       "3           NaN  Moderate (2)                  19.20   \n",
       "4           NaN      Good (1)                   7.70   \n",
       "\n",
       "                            Data Source  \n",
       "0  EPA AirNow Contours [research-grade]  \n",
       "1  EPA AirNow Contours [research-grade]  \n",
       "2  EPA AirNow Contours [research-grade]  \n",
       "3  EPA AirNow Contours [research-grade]  \n",
       "4  EPA AirNow Contours [research-grade]  "
      ]
     },
     "execution_count": 421,
     "metadata": {},
     "output_type": "execute_result"
    }
   ],
   "source": [
    "air_quality_data.head()"
   ]
  },
  {
   "cell_type": "code",
   "execution_count": 422,
   "metadata": {},
   "outputs": [],
   "source": [
    "air_quality_data.rename(columns = {'Location':'Town'}, inplace = True)"
   ]
  },
  {
   "cell_type": "code",
   "execution_count": 423,
   "metadata": {},
   "outputs": [],
   "source": [
    "air_quality_data_by_town = air_quality_data.groupby(['Town'])['Concentration (µg/m³)'].mean().sort_values(ascending=False)"
   ]
  },
  {
   "cell_type": "code",
   "execution_count": 424,
   "metadata": {},
   "outputs": [
    {
     "data": {
      "text/plain": [
       "(1910, 2)"
      ]
     },
     "execution_count": 424,
     "metadata": {},
     "output_type": "execute_result"
    }
   ],
   "source": [
    "merged = pd.merge(real_estate_data_2020_by_town, air_quality_data_by_town, how=\"outer\", on=[\"Town\"])\n",
    "merged.shape"
   ]
  },
  {
   "cell_type": "code",
   "execution_count": 425,
   "metadata": {},
   "outputs": [
    {
     "name": "stderr",
     "output_type": "stream",
     "text": [
      "C:\\Users\\dovil\\AppData\\Local\\Temp\\ipykernel_1152\\1161668436.py:1: UserWarning: Boolean Series key will be reindexed to match DataFrame index.\n",
      "  outer_merged2 = merged[merged['Concentration (µg/m³)']>0][merged['Sale Amount']>0]\n"
     ]
    },
    {
     "data": {
      "text/html": [
       "<div>\n",
       "<style scoped>\n",
       "    .dataframe tbody tr th:only-of-type {\n",
       "        vertical-align: middle;\n",
       "    }\n",
       "\n",
       "    .dataframe tbody tr th {\n",
       "        vertical-align: top;\n",
       "    }\n",
       "\n",
       "    .dataframe thead th {\n",
       "        text-align: right;\n",
       "    }\n",
       "</style>\n",
       "<table border=\"1\" class=\"dataframe\">\n",
       "  <thead>\n",
       "    <tr style=\"text-align: right;\">\n",
       "      <th></th>\n",
       "      <th>Sale Amount</th>\n",
       "      <th>Concentration (µg/m³)</th>\n",
       "    </tr>\n",
       "    <tr>\n",
       "      <th>Town</th>\n",
       "      <th></th>\n",
       "      <th></th>\n",
       "    </tr>\n",
       "  </thead>\n",
       "  <tbody>\n",
       "    <tr>\n",
       "      <th>Washington</th>\n",
       "      <td>1,045,480.27</td>\n",
       "      <td>9.22</td>\n",
       "    </tr>\n",
       "    <tr>\n",
       "      <th>Weston</th>\n",
       "      <td>1,032,207.51</td>\n",
       "      <td>6.61</td>\n",
       "    </tr>\n",
       "    <tr>\n",
       "      <th>Sherman</th>\n",
       "      <td>663,741.93</td>\n",
       "      <td>5.99</td>\n",
       "    </tr>\n",
       "    <tr>\n",
       "      <th>Warren</th>\n",
       "      <td>654,445.19</td>\n",
       "      <td>10.10</td>\n",
       "    </tr>\n",
       "    <tr>\n",
       "      <th>Madison</th>\n",
       "      <td>601,576.44</td>\n",
       "      <td>9.61</td>\n",
       "    </tr>\n",
       "    <tr>\n",
       "      <th>Orange</th>\n",
       "      <td>596,334.42</td>\n",
       "      <td>9.19</td>\n",
       "    </tr>\n",
       "    <tr>\n",
       "      <th>Trumbull</th>\n",
       "      <td>584,926.84</td>\n",
       "      <td>11.46</td>\n",
       "    </tr>\n",
       "    <tr>\n",
       "      <th>Essex</th>\n",
       "      <td>559,715.85</td>\n",
       "      <td>9.27</td>\n",
       "    </tr>\n",
       "    <tr>\n",
       "      <th>Kent</th>\n",
       "      <td>510,438.43</td>\n",
       "      <td>10.36</td>\n",
       "    </tr>\n",
       "    <tr>\n",
       "      <th>Guilford</th>\n",
       "      <td>506,992.21</td>\n",
       "      <td>10.08</td>\n",
       "    </tr>\n",
       "    <tr>\n",
       "      <th>Tolland</th>\n",
       "      <td>490,341.42</td>\n",
       "      <td>10.12</td>\n",
       "    </tr>\n",
       "    <tr>\n",
       "      <th>Windsor</th>\n",
       "      <td>462,121.28</td>\n",
       "      <td>6.97</td>\n",
       "    </tr>\n",
       "    <tr>\n",
       "      <th>Goshen</th>\n",
       "      <td>455,953.35</td>\n",
       "      <td>6.74</td>\n",
       "    </tr>\n",
       "    <tr>\n",
       "      <th>Cheshire</th>\n",
       "      <td>451,301.04</td>\n",
       "      <td>7.76</td>\n",
       "    </tr>\n",
       "    <tr>\n",
       "      <th>Monroe</th>\n",
       "      <td>435,232.62</td>\n",
       "      <td>10.41</td>\n",
       "    </tr>\n",
       "    <tr>\n",
       "      <th>Litchfield</th>\n",
       "      <td>431,562.98</td>\n",
       "      <td>10.31</td>\n",
       "    </tr>\n",
       "    <tr>\n",
       "      <th>Woodbury</th>\n",
       "      <td>431,512.78</td>\n",
       "      <td>8.38</td>\n",
       "    </tr>\n",
       "    <tr>\n",
       "      <th>New Haven</th>\n",
       "      <td>404,437.98</td>\n",
       "      <td>11.24</td>\n",
       "    </tr>\n",
       "    <tr>\n",
       "      <th>Morris</th>\n",
       "      <td>395,702.61</td>\n",
       "      <td>12.56</td>\n",
       "    </tr>\n",
       "    <tr>\n",
       "      <th>Chester</th>\n",
       "      <td>393,038.51</td>\n",
       "      <td>10.96</td>\n",
       "    </tr>\n",
       "    <tr>\n",
       "      <th>Norfolk</th>\n",
       "      <td>366,974.57</td>\n",
       "      <td>9.60</td>\n",
       "    </tr>\n",
       "    <tr>\n",
       "      <th>Burlington</th>\n",
       "      <td>357,898.68</td>\n",
       "      <td>12.80</td>\n",
       "    </tr>\n",
       "    <tr>\n",
       "      <th>Hartford</th>\n",
       "      <td>352,472.65</td>\n",
       "      <td>10.51</td>\n",
       "    </tr>\n",
       "    <tr>\n",
       "      <th>Columbia</th>\n",
       "      <td>341,578.45</td>\n",
       "      <td>9.50</td>\n",
       "    </tr>\n",
       "    <tr>\n",
       "      <th>New London</th>\n",
       "      <td>322,369.09</td>\n",
       "      <td>9.81</td>\n",
       "    </tr>\n",
       "    <tr>\n",
       "      <th>Windham</th>\n",
       "      <td>295,863.41</td>\n",
       "      <td>8.73</td>\n",
       "    </tr>\n",
       "    <tr>\n",
       "      <th>Salem</th>\n",
       "      <td>277,600.03</td>\n",
       "      <td>11.58</td>\n",
       "    </tr>\n",
       "    <tr>\n",
       "      <th>Putnam</th>\n",
       "      <td>275,482.12</td>\n",
       "      <td>9.79</td>\n",
       "    </tr>\n",
       "    <tr>\n",
       "      <th>Bristol</th>\n",
       "      <td>268,358.57</td>\n",
       "      <td>8.64</td>\n",
       "    </tr>\n",
       "    <tr>\n",
       "      <th>Franklin</th>\n",
       "      <td>256,087.41</td>\n",
       "      <td>9.29</td>\n",
       "    </tr>\n",
       "    <tr>\n",
       "      <th>Hampton</th>\n",
       "      <td>251,911.30</td>\n",
       "      <td>10.21</td>\n",
       "    </tr>\n",
       "    <tr>\n",
       "      <th>Lebanon</th>\n",
       "      <td>250,755.13</td>\n",
       "      <td>15.12</td>\n",
       "    </tr>\n",
       "    <tr>\n",
       "      <th>Winchester</th>\n",
       "      <td>249,219.81</td>\n",
       "      <td>10.38</td>\n",
       "    </tr>\n",
       "    <tr>\n",
       "      <th>Scotland</th>\n",
       "      <td>246,118.92</td>\n",
       "      <td>9.97</td>\n",
       "    </tr>\n",
       "    <tr>\n",
       "      <th>Vernon</th>\n",
       "      <td>236,129.32</td>\n",
       "      <td>10.03</td>\n",
       "    </tr>\n",
       "    <tr>\n",
       "      <th>Preston</th>\n",
       "      <td>225,374.94</td>\n",
       "      <td>10.17</td>\n",
       "    </tr>\n",
       "    <tr>\n",
       "      <th>Sterling</th>\n",
       "      <td>207,145.62</td>\n",
       "      <td>10.63</td>\n",
       "    </tr>\n",
       "    <tr>\n",
       "      <th>Plymouth</th>\n",
       "      <td>201,975.71</td>\n",
       "      <td>8.85</td>\n",
       "    </tr>\n",
       "    <tr>\n",
       "      <th>Union</th>\n",
       "      <td>195,166.67</td>\n",
       "      <td>10.05</td>\n",
       "    </tr>\n",
       "  </tbody>\n",
       "</table>\n",
       "</div>"
      ],
      "text/plain": [
       "            Sale Amount  Concentration (µg/m³)\n",
       "Town                                          \n",
       "Washington 1,045,480.27                   9.22\n",
       "Weston     1,032,207.51                   6.61\n",
       "Sherman      663,741.93                   5.99\n",
       "Warren       654,445.19                  10.10\n",
       "Madison      601,576.44                   9.61\n",
       "Orange       596,334.42                   9.19\n",
       "Trumbull     584,926.84                  11.46\n",
       "Essex        559,715.85                   9.27\n",
       "Kent         510,438.43                  10.36\n",
       "Guilford     506,992.21                  10.08\n",
       "Tolland      490,341.42                  10.12\n",
       "Windsor      462,121.28                   6.97\n",
       "Goshen       455,953.35                   6.74\n",
       "Cheshire     451,301.04                   7.76\n",
       "Monroe       435,232.62                  10.41\n",
       "Litchfield   431,562.98                  10.31\n",
       "Woodbury     431,512.78                   8.38\n",
       "New Haven    404,437.98                  11.24\n",
       "Morris       395,702.61                  12.56\n",
       "Chester      393,038.51                  10.96\n",
       "Norfolk      366,974.57                   9.60\n",
       "Burlington   357,898.68                  12.80\n",
       "Hartford     352,472.65                  10.51\n",
       "Columbia     341,578.45                   9.50\n",
       "New London   322,369.09                   9.81\n",
       "Windham      295,863.41                   8.73\n",
       "Salem        277,600.03                  11.58\n",
       "Putnam       275,482.12                   9.79\n",
       "Bristol      268,358.57                   8.64\n",
       "Franklin     256,087.41                   9.29\n",
       "Hampton      251,911.30                  10.21\n",
       "Lebanon      250,755.13                  15.12\n",
       "Winchester   249,219.81                  10.38\n",
       "Scotland     246,118.92                   9.97\n",
       "Vernon       236,129.32                  10.03\n",
       "Preston      225,374.94                  10.17\n",
       "Sterling     207,145.62                  10.63\n",
       "Plymouth     201,975.71                   8.85\n",
       "Union        195,166.67                  10.05"
      ]
     },
     "execution_count": 425,
     "metadata": {},
     "output_type": "execute_result"
    }
   ],
   "source": [
    "outer_merged2 = merged[merged['Concentration (µg/m³)']>0][merged['Sale Amount']>0]\n",
    "outer_merged2"
   ]
  },
  {
   "attachments": {},
   "cell_type": "markdown",
   "metadata": {},
   "source": [
    "3) Define a Person named tuple with fields for name, age, and city. Create instances of Person and access their attributes."
   ]
  },
  {
   "cell_type": "code",
   "execution_count": 426,
   "metadata": {},
   "outputs": [],
   "source": [
    "from collections import namedtuple"
   ]
  },
  {
   "cell_type": "code",
   "execution_count": 427,
   "metadata": {},
   "outputs": [],
   "source": [
    "Person = namedtuple('Person', ['name','age','city'])"
   ]
  },
  {
   "cell_type": "code",
   "execution_count": 428,
   "metadata": {},
   "outputs": [],
   "source": [
    "Person = Person('Une','11','Riga')"
   ]
  },
  {
   "cell_type": "code",
   "execution_count": 429,
   "metadata": {},
   "outputs": [
    {
     "data": {
      "text/plain": [
       "('Une', '11', 'Riga')"
      ]
     },
     "execution_count": 429,
     "metadata": {},
     "output_type": "execute_result"
    }
   ],
   "source": [
    "Person.name, Person.age, Person.city"
   ]
  },
  {
   "attachments": {},
   "cell_type": "markdown",
   "metadata": {},
   "source": [
    "4) Count the frequency of each word in a given text and display the top 5 most common words.\n",
    "Merge two counters together and calculate the total count of each element."
   ]
  },
  {
   "cell_type": "code",
   "execution_count": 430,
   "metadata": {},
   "outputs": [],
   "source": [
    "from collections import Counter"
   ]
  },
  {
   "cell_type": "code",
   "execution_count": 431,
   "metadata": {},
   "outputs": [],
   "source": [
    "text1 = 'Lithuania  is a country in the Baltic region of Europe.[a] It is one of three Baltic states and lies on the eastern shore of the Baltic Sea. Lithuania shares land borders with Latvia to the north, Belarus to the east and south, Poland to the south, and Russia to the southwest.[b] It has a maritime border with Sweden to the west on the Baltic Sea. Lithuania covers an area of 65,300 km2 (25,200 sq mi), with a population of 2.8 million. Its capital and largest city is Vilnius; other major cities are Kaunas, Klaipėda, Šiauliai and Panevėžys. Lithuanians belong to the ethno-linguistic group of the Balts and speak Lithuanian, one of only a few living Baltic languages.'"
   ]
  },
  {
   "cell_type": "code",
   "execution_count": 432,
   "metadata": {},
   "outputs": [
    {
     "data": {
      "text/plain": [
       "Counter({'Lithuania': 3,\n",
       "         'is': 3,\n",
       "         'a': 4,\n",
       "         'country': 1,\n",
       "         'in': 1,\n",
       "         'the': 11,\n",
       "         'Baltic': 5,\n",
       "         'region': 1,\n",
       "         'of': 7,\n",
       "         'Europe.[a]': 1,\n",
       "         'It': 2,\n",
       "         'one': 2,\n",
       "         'three': 1,\n",
       "         'states': 1,\n",
       "         'and': 6,\n",
       "         'lies': 1,\n",
       "         'on': 2,\n",
       "         'eastern': 1,\n",
       "         'shore': 1,\n",
       "         'Sea.': 2,\n",
       "         'shares': 1,\n",
       "         'land': 1,\n",
       "         'borders': 1,\n",
       "         'with': 3,\n",
       "         'Latvia': 1,\n",
       "         'to': 6,\n",
       "         'north,': 1,\n",
       "         'Belarus': 1,\n",
       "         'east': 1,\n",
       "         'south,': 2,\n",
       "         'Poland': 1,\n",
       "         'Russia': 1,\n",
       "         'southwest.[b]': 1,\n",
       "         'has': 1,\n",
       "         'maritime': 1,\n",
       "         'border': 1,\n",
       "         'Sweden': 1,\n",
       "         'west': 1,\n",
       "         'covers': 1,\n",
       "         'an': 1,\n",
       "         'area': 1,\n",
       "         '65,300': 1,\n",
       "         'km2': 1,\n",
       "         '(25,200': 1,\n",
       "         'sq': 1,\n",
       "         'mi),': 1,\n",
       "         'population': 1,\n",
       "         '2.8': 1,\n",
       "         'million.': 1,\n",
       "         'Its': 1,\n",
       "         'capital': 1,\n",
       "         'largest': 1,\n",
       "         'city': 1,\n",
       "         'Vilnius;': 1,\n",
       "         'other': 1,\n",
       "         'major': 1,\n",
       "         'cities': 1,\n",
       "         'are': 1,\n",
       "         'Kaunas,': 1,\n",
       "         'Klaipėda,': 1,\n",
       "         'Šiauliai': 1,\n",
       "         'Panevėžys.': 1,\n",
       "         'Lithuanians': 1,\n",
       "         'belong': 1,\n",
       "         'ethno-linguistic': 1,\n",
       "         'group': 1,\n",
       "         'Balts': 1,\n",
       "         'speak': 1,\n",
       "         'Lithuanian,': 1,\n",
       "         'only': 1,\n",
       "         'few': 1,\n",
       "         'living': 1,\n",
       "         'languages.': 1})"
      ]
     },
     "execution_count": 432,
     "metadata": {},
     "output_type": "execute_result"
    }
   ],
   "source": [
    "text1_splited = text1.split()\n",
    "count1 = Counter(text1_splited)\n",
    "count1"
   ]
  },
  {
   "cell_type": "code",
   "execution_count": 433,
   "metadata": {},
   "outputs": [
    {
     "data": {
      "text/plain": [
       "[('the', 11), ('of', 7), ('and', 6), ('to', 6), ('Baltic', 5)]"
      ]
     },
     "execution_count": 433,
     "metadata": {},
     "output_type": "execute_result"
    }
   ],
   "source": [
    "count1.most_common(5)"
   ]
  },
  {
   "cell_type": "code",
   "execution_count": 434,
   "metadata": {},
   "outputs": [],
   "source": [
    "text2 = 'Lithuania is a developed country, with a high income advanced economy; ranking very high 35th in the Human Development Index. Lithuania is a member of the European Union, the Council of Europe, eurozone, the Nordic Investment Bank, Schengen Agreement, NATO and OECD. It also participates in the Nordic-Baltic Eight (NB8) regional co-operation format.'"
   ]
  },
  {
   "cell_type": "code",
   "execution_count": 435,
   "metadata": {},
   "outputs": [],
   "source": [
    "text2_splited = text2.split()"
   ]
  },
  {
   "cell_type": "code",
   "execution_count": 436,
   "metadata": {},
   "outputs": [
    {
     "data": {
      "text/plain": [
       "Counter({'Lithuania': 5,\n",
       "         'is': 5,\n",
       "         'a': 7,\n",
       "         'country': 1,\n",
       "         'in': 3,\n",
       "         'the': 16,\n",
       "         'Baltic': 5,\n",
       "         'region': 1,\n",
       "         'of': 9,\n",
       "         'Europe.[a]': 1,\n",
       "         'It': 3,\n",
       "         'one': 2,\n",
       "         'three': 1,\n",
       "         'states': 1,\n",
       "         'and': 7,\n",
       "         'lies': 1,\n",
       "         'on': 2,\n",
       "         'eastern': 1,\n",
       "         'shore': 1,\n",
       "         'Sea.': 2,\n",
       "         'shares': 1,\n",
       "         'land': 1,\n",
       "         'borders': 1,\n",
       "         'with': 4,\n",
       "         'Latvia': 1,\n",
       "         'to': 6,\n",
       "         'north,': 1,\n",
       "         'Belarus': 1,\n",
       "         'east': 1,\n",
       "         'south,': 2,\n",
       "         'Poland': 1,\n",
       "         'Russia': 1,\n",
       "         'southwest.[b]': 1,\n",
       "         'has': 1,\n",
       "         'maritime': 1,\n",
       "         'border': 1,\n",
       "         'Sweden': 1,\n",
       "         'west': 1,\n",
       "         'covers': 1,\n",
       "         'an': 1,\n",
       "         'area': 1,\n",
       "         '65,300': 1,\n",
       "         'km2': 1,\n",
       "         '(25,200': 1,\n",
       "         'sq': 1,\n",
       "         'mi),': 1,\n",
       "         'population': 1,\n",
       "         '2.8': 1,\n",
       "         'million.': 1,\n",
       "         'Its': 1,\n",
       "         'capital': 1,\n",
       "         'largest': 1,\n",
       "         'city': 1,\n",
       "         'Vilnius;': 1,\n",
       "         'other': 1,\n",
       "         'major': 1,\n",
       "         'cities': 1,\n",
       "         'are': 1,\n",
       "         'Kaunas,': 1,\n",
       "         'Klaipėda,': 1,\n",
       "         'Šiauliai': 1,\n",
       "         'Panevėžys.': 1,\n",
       "         'Lithuanians': 1,\n",
       "         'belong': 1,\n",
       "         'ethno-linguistic': 1,\n",
       "         'group': 1,\n",
       "         'Balts': 1,\n",
       "         'speak': 1,\n",
       "         'Lithuanian,': 1,\n",
       "         'only': 1,\n",
       "         'few': 1,\n",
       "         'living': 1,\n",
       "         'languages.': 1,\n",
       "         'developed': 1,\n",
       "         'country,': 1,\n",
       "         'high': 2,\n",
       "         'income': 1,\n",
       "         'advanced': 1,\n",
       "         'economy;': 1,\n",
       "         'ranking': 1,\n",
       "         'very': 1,\n",
       "         '35th': 1,\n",
       "         'Human': 1,\n",
       "         'Development': 1,\n",
       "         'Index.': 1,\n",
       "         'member': 1,\n",
       "         'European': 1,\n",
       "         'Union,': 1,\n",
       "         'Council': 1,\n",
       "         'Europe,': 1,\n",
       "         'eurozone,': 1,\n",
       "         'Nordic': 1,\n",
       "         'Investment': 1,\n",
       "         'Bank,': 1,\n",
       "         'Schengen': 1,\n",
       "         'Agreement,': 1,\n",
       "         'NATO': 1,\n",
       "         'OECD.': 1,\n",
       "         'also': 1,\n",
       "         'participates': 1,\n",
       "         'Nordic-Baltic': 1,\n",
       "         'Eight': 1,\n",
       "         '(NB8)': 1,\n",
       "         'regional': 1,\n",
       "         'co-operation': 1,\n",
       "         'format.': 1})"
      ]
     },
     "execution_count": 436,
     "metadata": {},
     "output_type": "execute_result"
    }
   ],
   "source": [
    "count1.update(text2_splited)\n",
    "count1"
   ]
  },
  {
   "attachments": {},
   "cell_type": "markdown",
   "metadata": {},
   "source": [
    "5) Use a deque to implement a queue and perform enqueue and dequeue operations.\n",
    "Reverse the order of elements in a deque."
   ]
  },
  {
   "cell_type": "code",
   "execution_count": 437,
   "metadata": {},
   "outputs": [],
   "source": [
    "from collections import deque"
   ]
  },
  {
   "cell_type": "code",
   "execution_count": 438,
   "metadata": {},
   "outputs": [],
   "source": [
    "d = deque()"
   ]
  },
  {
   "cell_type": "code",
   "execution_count": 439,
   "metadata": {},
   "outputs": [],
   "source": [
    "d = deque([1, 2, 3, 4, 5, 6, 7, 8, 9, 10])"
   ]
  },
  {
   "cell_type": "code",
   "execution_count": 440,
   "metadata": {},
   "outputs": [
    {
     "data": {
      "text/plain": [
       "deque([1, 2, 3, 4, 5, 6, 7, 8, 9, 10])"
      ]
     },
     "execution_count": 440,
     "metadata": {},
     "output_type": "execute_result"
    }
   ],
   "source": [
    "d"
   ]
  },
  {
   "cell_type": "code",
   "execution_count": 441,
   "metadata": {},
   "outputs": [
    {
     "data": {
      "text/plain": [
       "deque([1, 2, 3, 4, 5, 6, 7, 8, 9, 10, 11, 12, 13])"
      ]
     },
     "execution_count": 441,
     "metadata": {},
     "output_type": "execute_result"
    }
   ],
   "source": [
    "d.extend([11, 12, 13])\n",
    "d"
   ]
  },
  {
   "cell_type": "code",
   "execution_count": 442,
   "metadata": {},
   "outputs": [
    {
     "name": "stdout",
     "output_type": "stream",
     "text": [
      "13\n"
     ]
    }
   ],
   "source": [
    "print(d.pop())"
   ]
  },
  {
   "cell_type": "code",
   "execution_count": 443,
   "metadata": {},
   "outputs": [
    {
     "data": {
      "text/plain": [
       "deque([1, 2, 3, 4, 5, 6, 7, 8, 9, 10, 11, 12])"
      ]
     },
     "execution_count": 443,
     "metadata": {},
     "output_type": "execute_result"
    }
   ],
   "source": [
    "d"
   ]
  },
  {
   "cell_type": "code",
   "execution_count": 444,
   "metadata": {},
   "outputs": [
    {
     "name": "stdout",
     "output_type": "stream",
     "text": [
      "deque([12, 11, 10, 9, 8, 7, 6, 5, 4, 3, 2, 1])\n"
     ]
    }
   ],
   "source": [
    "d.reverse()\n",
    "print(d)"
   ]
  },
  {
   "attachments": {},
   "cell_type": "markdown",
   "metadata": {},
   "source": [
    "6) Create a defaultdict that maps a character to a list of words starting with that character.\n",
    "Calculate the sum of values for each key in a dictionary using a defaultdict."
   ]
  },
  {
   "cell_type": "code",
   "execution_count": 445,
   "metadata": {},
   "outputs": [],
   "source": [
    "from collections import defaultdict"
   ]
  },
  {
   "cell_type": "code",
   "execution_count": 446,
   "metadata": {},
   "outputs": [
    {
     "name": "stdout",
     "output_type": "stream",
     "text": [
      "C ['Cats']\n",
      "D ['Dogs', 'Dolphins']\n",
      "E ['Elephants']\n",
      "H ['Horses', 'Humans']\n",
      "J ['Jaguars']\n",
      "K ['Kangaroos']\n",
      "L ['Leopards', 'Lions']\n",
      "M ['Monkeys']\n",
      "P ['Panthers', 'Pumas']\n",
      "T ['Tigers']\n",
      "W ['Whales']\n"
     ]
    }
   ],
   "source": [
    "mammals = 'Cats Jaguars Dogs Panthers Horses Tigers Kangaroos Leopards Elephants Lions Dolphins Whales Monkeys Pumas Humans'\n",
    "mammals_list = mammals.split()\n",
    "\n",
    "mammals_dict = defaultdict(list)\n",
    "\n",
    "for mammal in mammals_list:\n",
    "    mammals_dict[mammal[0]].append(mammal)\n",
    "\n",
    "for key in sorted(mammals_dict.keys() ):\n",
    "    print(key, mammals_dict[key])"
   ]
  },
  {
   "cell_type": "code",
   "execution_count": 447,
   "metadata": {},
   "outputs": [
    {
     "name": "stdout",
     "output_type": "stream",
     "text": [
      "C 1\n",
      "D 2\n",
      "E 1\n",
      "H 2\n",
      "J 1\n",
      "K 1\n",
      "L 2\n",
      "M 1\n",
      "P 2\n",
      "T 1\n",
      "W 1\n"
     ]
    }
   ],
   "source": [
    "mammals_dict = defaultdict(int)\n",
    "\n",
    "for mammal in mammals_list:\n",
    "    mammals_dict[mammal[0]] += 1\n",
    "\n",
    "for key in sorted(mammals_dict.keys()):\n",
    "    print(key, mammals_dict[key])"
   ]
  },
  {
   "attachments": {},
   "cell_type": "markdown",
   "metadata": {},
   "source": [
    "7) Use reduce to find the maximum element in a list of numbers.\n",
    "Combine a list of strings into a single string using reduce."
   ]
  },
  {
   "cell_type": "code",
   "execution_count": 448,
   "metadata": {},
   "outputs": [],
   "source": [
    "from functools import reduce"
   ]
  },
  {
   "cell_type": "code",
   "execution_count": 449,
   "metadata": {},
   "outputs": [
    {
     "name": "stdout",
     "output_type": "stream",
     "text": [
      "97\n"
     ]
    }
   ],
   "source": [
    "max = reduce(lambda x, y: x if x > y else y, nums)\n",
    "print(max)"
   ]
  },
  {
   "cell_type": "code",
   "execution_count": 450,
   "metadata": {},
   "outputs": [
    {
     "data": {
      "text/plain": [
       "['Vilnius',\n",
       " 'is',\n",
       " 'the',\n",
       " 'capital',\n",
       " 'and',\n",
       " 'the',\n",
       " 'largest',\n",
       " 'city',\n",
       " 'of',\n",
       " 'Lithuania']"
      ]
     },
     "execution_count": 450,
     "metadata": {},
     "output_type": "execute_result"
    }
   ],
   "source": [
    "text = 'Vilnius is the capital and the largest city of Lithuania'\n",
    "text_splited = text.split()\n",
    "text_splited"
   ]
  },
  {
   "cell_type": "code",
   "execution_count": 451,
   "metadata": {},
   "outputs": [
    {
     "name": "stdout",
     "output_type": "stream",
     "text": [
      "Vilnius is the capital and the largest city of Lithuania\n"
     ]
    }
   ],
   "source": [
    "sentence = reduce(lambda x, y: x + ' ' + y, text_splited)\n",
    "print(sentence)"
   ]
  }
 ],
 "metadata": {
  "kernelspec": {
   "display_name": "Python 3",
   "language": "python",
   "name": "python3"
  },
  "language_info": {
   "codemirror_mode": {
    "name": "ipython",
    "version": 3
   },
   "file_extension": ".py",
   "mimetype": "text/x-python",
   "name": "python",
   "nbconvert_exporter": "python",
   "pygments_lexer": "ipython3",
   "version": "3.11.0"
  },
  "orig_nbformat": 4
 },
 "nbformat": 4,
 "nbformat_minor": 2
}
